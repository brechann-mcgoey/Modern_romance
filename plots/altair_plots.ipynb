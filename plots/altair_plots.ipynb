{
 "cells": [
  {
   "cell_type": "markdown",
   "metadata": {},
   "source": [
    "## Notebook for making altair plots of modern romance summary data and trends in romance themes through time"
   ]
  },
  {
   "cell_type": "code",
   "execution_count": 67,
   "metadata": {},
   "outputs": [],
   "source": [
    "import numpy as np\n",
    "import altair as alt\n",
    "import pandas as pd\n",
    "import numpy as np\n",
    "import statsmodels.api as sm\n",
    "import scipy.stats  as stats\n",
    "from collections import defaultdict"
   ]
  },
  {
   "cell_type": "code",
   "execution_count": 68,
   "metadata": {},
   "outputs": [],
   "source": [
    "from altair import Chart, Color, Scale"
   ]
  },
  {
   "cell_type": "code",
   "execution_count": 69,
   "metadata": {},
   "outputs": [
    {
     "data": {
      "text/plain": [
       "RendererRegistry.enable('jupyterlab')"
      ]
     },
     "execution_count": 69,
     "metadata": {},
     "output_type": "execute_result"
    }
   ],
   "source": [
    "alt.renderers.enable('jupyterlab')"
   ]
  },
  {
   "cell_type": "markdown",
   "metadata": {},
   "source": [
    "### Themes"
   ]
  },
  {
   "cell_type": "code",
   "execution_count": 70,
   "metadata": {},
   "outputs": [],
   "source": [
    "plot_data=pd.read_pickle(\"plots/themes_time_bigger.pkl\")\n"
   ]
  },
  {
   "cell_type": "code",
   "execution_count": 71,
   "metadata": {},
   "outputs": [],
   "source": [
    "#exclude all entries prior to January 1 2013\n",
    "plot_data=plot_data[plot_data['dts']>=pd.to_datetime('01-01-2013')]\n",
    "x = plot_data['dts']"
   ]
  },
  {
   "cell_type": "code",
   "execution_count": 72,
   "metadata": {},
   "outputs": [
    {
     "data": {
      "text/html": [
       "<div>\n",
       "<style scoped>\n",
       "    .dataframe tbody tr th:only-of-type {\n",
       "        vertical-align: middle;\n",
       "    }\n",
       "\n",
       "    .dataframe tbody tr th {\n",
       "        vertical-align: top;\n",
       "    }\n",
       "\n",
       "    .dataframe thead th {\n",
       "        text-align: right;\n",
       "    }\n",
       "</style>\n",
       "<table border=\"1\" class=\"dataframe\">\n",
       "  <thead>\n",
       "    <tr style=\"text-align: right;\">\n",
       "      <th></th>\n",
       "      <th>dts</th>\n",
       "      <th>Royalty</th>\n",
       "      <th>Military</th>\n",
       "      <th>Supernatural</th>\n",
       "      <th>Holiday</th>\n",
       "      <th>Bdsm</th>\n",
       "      <th>Adventure</th>\n",
       "    </tr>\n",
       "  </thead>\n",
       "  <tbody>\n",
       "    <tr>\n",
       "      <th>50</th>\n",
       "      <td>2013-01-01</td>\n",
       "      <td>0.022768</td>\n",
       "      <td>0.010932</td>\n",
       "      <td>0.064442</td>\n",
       "      <td>0.007891</td>\n",
       "      <td>0.015535</td>\n",
       "      <td>0.033454</td>\n",
       "    </tr>\n",
       "    <tr>\n",
       "      <th>40</th>\n",
       "      <td>2013-02-01</td>\n",
       "      <td>0.023493</td>\n",
       "      <td>0.010278</td>\n",
       "      <td>0.063320</td>\n",
       "      <td>0.008993</td>\n",
       "      <td>0.021474</td>\n",
       "      <td>0.040011</td>\n",
       "    </tr>\n",
       "    <tr>\n",
       "      <th>85</th>\n",
       "      <td>2013-03-01</td>\n",
       "      <td>0.027703</td>\n",
       "      <td>0.009375</td>\n",
       "      <td>0.056588</td>\n",
       "      <td>0.006503</td>\n",
       "      <td>0.022635</td>\n",
       "      <td>0.040878</td>\n",
       "    </tr>\n",
       "    <tr>\n",
       "      <th>6</th>\n",
       "      <td>2013-04-01</td>\n",
       "      <td>0.022010</td>\n",
       "      <td>0.011754</td>\n",
       "      <td>0.060902</td>\n",
       "      <td>0.007416</td>\n",
       "      <td>0.021852</td>\n",
       "      <td>0.039602</td>\n",
       "    </tr>\n",
       "    <tr>\n",
       "      <th>96</th>\n",
       "      <td>2013-05-01</td>\n",
       "      <td>0.022291</td>\n",
       "      <td>0.010118</td>\n",
       "      <td>0.055885</td>\n",
       "      <td>0.007114</td>\n",
       "      <td>0.017627</td>\n",
       "      <td>0.036440</td>\n",
       "    </tr>\n",
       "  </tbody>\n",
       "</table>\n",
       "</div>"
      ],
      "text/plain": [
       "          dts   Royalty  Military  Supernatural   Holiday      Bdsm  Adventure\n",
       "50 2013-01-01  0.022768  0.010932      0.064442  0.007891  0.015535   0.033454\n",
       "40 2013-02-01  0.023493  0.010278      0.063320  0.008993  0.021474   0.040011\n",
       "85 2013-03-01  0.027703  0.009375      0.056588  0.006503  0.022635   0.040878\n",
       "6  2013-04-01  0.022010  0.011754      0.060902  0.007416  0.021852   0.039602\n",
       "96 2013-05-01  0.022291  0.010118      0.055885  0.007114  0.017627   0.036440"
      ]
     },
     "execution_count": 72,
     "metadata": {},
     "output_type": "execute_result"
    }
   ],
   "source": [
    "plot_data.head()"
   ]
  },
  {
   "cell_type": "code",
   "execution_count": 73,
   "metadata": {},
   "outputs": [],
   "source": [
    "#set the index to dts so all the other columns can subsequently be stacked\n",
    "plot_data=plot_data.set_index('dts')"
   ]
  },
  {
   "cell_type": "code",
   "execution_count": 74,
   "metadata": {},
   "outputs": [],
   "source": [
    "plot_data=plot_data.stack()"
   ]
  },
  {
   "cell_type": "code",
   "execution_count": 75,
   "metadata": {},
   "outputs": [],
   "source": [
    "plot_data=plot_data.reset_index()"
   ]
  },
  {
   "cell_type": "code",
   "execution_count": 76,
   "metadata": {},
   "outputs": [],
   "source": [
    "plot_data=plot_data.rename(index=str,columns={\"date\":\"date\",\"theme\":\"theme\",0:\"frequency\"})"
   ]
  },
  {
   "cell_type": "code",
   "execution_count": 22,
   "metadata": {},
   "outputs": [],
   "source": [
    "x=alt.X('num_ratings', title=\"Number of ratings\"),"
   ]
  },
  {
   "cell_type": "code",
   "execution_count": 77,
   "metadata": {},
   "outputs": [],
   "source": [
    "highlight = alt.selection(type='single', on='mouseover',\n",
    "                          fields=['theme'], nearest=True)\n",
    "\n",
    "base = alt.Chart(plot_data).encode(\n",
    "    x=alt.X('date:T', title=\"Date\"),\n",
    "    y=alt.Y('frequency:Q',title=\"Frequency\"),\n",
    "    color=alt.Color('theme:N',title=\"Theme\")\n",
    ")\n",
    "\n",
    "points = base.mark_circle().encode(\n",
    "    opacity=alt.value(0)\n",
    ").add_selection(\n",
    "    highlight\n",
    ").properties(\n",
    "    width=600\n",
    ")\n",
    "\n",
    "lines = base.mark_line().encode(\n",
    "    size=alt.condition(~highlight, alt.value(1), alt.value(3))\n",
    ")\n",
    "\n",
    "points + lines\n"
   ]
  },
  {
   "cell_type": "code",
   "execution_count": 78,
   "metadata": {},
   "outputs": [],
   "source": [
    "base = base.configure(autosize='pad')"
   ]
  },
  {
   "cell_type": "code",
   "execution_count": 51,
   "metadata": {},
   "outputs": [],
   "source": [
    "base.save('themes_altair.json')"
   ]
  },
  {
   "cell_type": "markdown",
   "metadata": {},
   "source": [
    "### Plot-- the books"
   ]
  },
  {
   "cell_type": "code",
   "execution_count": 52,
   "metadata": {},
   "outputs": [],
   "source": [
    "df=pd.read_pickle('plots/data_figure1.pkl')"
   ]
  },
  {
   "cell_type": "code",
   "execution_count": 54,
   "metadata": {},
   "outputs": [
    {
     "data": {
      "text/html": [
       "<div>\n",
       "<style scoped>\n",
       "    .dataframe tbody tr th:only-of-type {\n",
       "        vertical-align: middle;\n",
       "    }\n",
       "\n",
       "    .dataframe tbody tr th {\n",
       "        vertical-align: top;\n",
       "    }\n",
       "\n",
       "    .dataframe thead th {\n",
       "        text-align: right;\n",
       "    }\n",
       "</style>\n",
       "<table border=\"1\" class=\"dataframe\">\n",
       "  <thead>\n",
       "    <tr style=\"text-align: right;\">\n",
       "      <th></th>\n",
       "      <th>authors</th>\n",
       "      <th>awards</th>\n",
       "      <th>date</th>\n",
       "      <th>description</th>\n",
       "      <th>isbn</th>\n",
       "      <th>link</th>\n",
       "      <th>num_ratings</th>\n",
       "      <th>num_reviews</th>\n",
       "      <th>rating</th>\n",
       "      <th>review_dates</th>\n",
       "      <th>review_ids</th>\n",
       "      <th>review_texts</th>\n",
       "      <th>reviewer_names</th>\n",
       "      <th>reviewer_ratings</th>\n",
       "      <th>reviewer_scores</th>\n",
       "      <th>reviews_together</th>\n",
       "      <th>title</th>\n",
       "      <th>year</th>\n",
       "    </tr>\n",
       "  </thead>\n",
       "  <tbody>\n",
       "    <tr>\n",
       "      <th>40</th>\n",
       "      <td>[Jennifer Crusie]</td>\n",
       "      <td>[All About Romance (AAR) Annual Reader Poll fo...</td>\n",
       "      <td>December 1st 2006</td>\n",
       "      <td>For Nina Askew, turning forty means freedom--f...</td>\n",
       "      <td>037377138X</td>\n",
       "      <td>http://www.goodreads.com/book/show/33732.Anyon...</td>\n",
       "      <td>17661.0</td>\n",
       "      <td>928.0</td>\n",
       "      <td>3.80</td>\n",
       "      <td>[Mar 11, 2010, Sep 20, 2009, Feb 27, 2009, Dec...</td>\n",
       "      <td>[review_93605589, review_71904939, review_4772...</td>\n",
       "      <td>[[Opening Line: “The last thing Nina Askew nee...</td>\n",
       "      <td>[Buggy, Shawna, Kathrynn, Ⓐlleskelle - teamSør...</td>\n",
       "      <td>[really liked it, it was amazing, it was amazi...</td>\n",
       "      <td>[4, 5, 5, 5, 3, 5, 5, 4, 3, 4, 4, 5, 5, 3, 4, ...</td>\n",
       "      <td>Opening Line: “The last thing Nina Askew neede...</td>\n",
       "      <td>Anyone But You</td>\n",
       "      <td>2006.0</td>\n",
       "    </tr>\n",
       "    <tr>\n",
       "      <th>45</th>\n",
       "      <td>[Rachel Gibson]</td>\n",
       "      <td>[OKRWA National Readers Choice Award for Singl...</td>\n",
       "      <td>January 1st 1998</td>\n",
       "      <td>Georgeanne Howard leaves her fiancé at the alt...</td>\n",
       "      <td>0380790076</td>\n",
       "      <td>http://www.goodreads.com/book/show/60220.Simpl...</td>\n",
       "      <td>18156.0</td>\n",
       "      <td>635.0</td>\n",
       "      <td>3.86</td>\n",
       "      <td>[Oct 20, 2010, Sep 30, 2009, Apr 04, 2017, Jun...</td>\n",
       "      <td>[review_127198135, review_73023830, review_195...</td>\n",
       "      <td>[[3.5 STARSI must admit I was a bit disappoint...</td>\n",
       "      <td>[valee, Auntee, Nenia *The Flagrant Liberal* C...</td>\n",
       "      <td>[liked it, it was amazing, it was ok, it was o...</td>\n",
       "      <td>[3, 5, 2, 2, 4, 4, 3, 4, 4, 5, 4, 5, 4, 3, 5, ...</td>\n",
       "      <td>3.5 STARSI must admit I was a bit disappointed...</td>\n",
       "      <td>Simply Irresistible\\n      \\n          (Chinoo...</td>\n",
       "      <td>1998.0</td>\n",
       "    </tr>\n",
       "    <tr>\n",
       "      <th>59</th>\n",
       "      <td>[Kallypso Masters]</td>\n",
       "      <td>[]</td>\n",
       "      <td>December 13th 2012</td>\n",
       "      <td>Librarian's Note: This is an alternate cover f...</td>\n",
       "      <td>1481152718</td>\n",
       "      <td>http://www.goodreads.com/book/show/17325954-no...</td>\n",
       "      <td>11078.0</td>\n",
       "      <td>579.0</td>\n",
       "      <td>4.31</td>\n",
       "      <td>[Apr 20, 2013, Nov 28, 2011, Nov 14, 2012, Jun...</td>\n",
       "      <td>[review_595540086, review_240655375, review_45...</td>\n",
       "      <td>[[1 star. DNF at 52 %*Emotional porn at its wo...</td>\n",
       "      <td>[Baba  ♥♥♥ Tyler, Marcus, Archer, Dean, Adrian...</td>\n",
       "      <td>[did not like it, it was amazing, it was ok, r...</td>\n",
       "      <td>[1, 5, 2, 4, 5, 1, 5, 2, 4, 5, 5, 5, 5, 5, 5, ...</td>\n",
       "      <td>[ in the hospital (hide spoiler)] Ka-Thunk ,Ka...</td>\n",
       "      <td>Nobody's Hero\\n      \\n          (Rescue Me Sa...</td>\n",
       "      <td>2012.0</td>\n",
       "    </tr>\n",
       "    <tr>\n",
       "      <th>61</th>\n",
       "      <td>[Kallypso Masters]</td>\n",
       "      <td>[]</td>\n",
       "      <td>January 24th 2013</td>\n",
       "      <td>NOBODY'S PERFECT is the continuing story of Sa...</td>\n",
       "      <td>1480096954</td>\n",
       "      <td>http://www.goodreads.com/book/show/17299927-no...</td>\n",
       "      <td>8462.0</td>\n",
       "      <td>506.0</td>\n",
       "      <td>4.34</td>\n",
       "      <td>[Jun 09, 2012, Feb 25, 2012, May 28, 2012, Mar...</td>\n",
       "      <td>[review_345240483, review_283985473, review_33...</td>\n",
       "      <td>[[Nobody's perfect, mi sueño, but you're about...</td>\n",
       "      <td>[~ Becs ~, CaroleDee, Nia, Becca, Amy, Michael...</td>\n",
       "      <td>[really liked it, it was amazing, it was amazi...</td>\n",
       "      <td>[4, 5, 5, 2, 2, 5, 2, 5, 4, 5, 1, 5, 3, 5, 4, ...</td>\n",
       "      <td>Nobody's perfect, mi sueño, but you're about a...</td>\n",
       "      <td>Nobody's Perfect\\n      \\n          (Rescue Me...</td>\n",
       "      <td>2013.0</td>\n",
       "    </tr>\n",
       "    <tr>\n",
       "      <th>66</th>\n",
       "      <td>[Kallypso Masters]</td>\n",
       "      <td>[]</td>\n",
       "      <td>December 22nd 2013</td>\n",
       "      <td>When Marc d’Alessio first rescued the curvaceo...</td>\n",
       "      <td>NA</td>\n",
       "      <td>http://www.goodreads.com/book/show/17207097-so...</td>\n",
       "      <td>3940.0</td>\n",
       "      <td>331.0</td>\n",
       "      <td>4.28</td>\n",
       "      <td>[Jan 04, 2013, Nov 12, 2013, Jan 02, 2014, Dec...</td>\n",
       "      <td>[review_494970690, review_763151413, review_80...</td>\n",
       "      <td>[[I like this series, but this one was a littl...</td>\n",
       "      <td>[Vivian, Sylvia, Morgan, Sue, Rebekah, Dianne,...</td>\n",
       "      <td>[liked it, did not like it, it was ok, really ...</td>\n",
       "      <td>[3, 1, 2, 4, 2, 4, 2, 4, 2, 5, 5, 5, 4, 5, 4, ...</td>\n",
       "      <td>It's LIVE! It's live! It's finally live! OMG! ...</td>\n",
       "      <td>Somebody's Angel\\n      \\n          (Rescue Me...</td>\n",
       "      <td>2013.0</td>\n",
       "    </tr>\n",
       "  </tbody>\n",
       "</table>\n",
       "</div>"
      ],
      "text/plain": [
       "               authors                                             awards  \\\n",
       "40   [Jennifer Crusie]  [All About Romance (AAR) Annual Reader Poll fo...   \n",
       "45     [Rachel Gibson]  [OKRWA National Readers Choice Award for Singl...   \n",
       "59  [Kallypso Masters]                                                 []   \n",
       "61  [Kallypso Masters]                                                 []   \n",
       "66  [Kallypso Masters]                                                 []   \n",
       "\n",
       "                  date                                        description  \\\n",
       "40   December 1st 2006  For Nina Askew, turning forty means freedom--f...   \n",
       "45    January 1st 1998  Georgeanne Howard leaves her fiancé at the alt...   \n",
       "59  December 13th 2012  Librarian's Note: This is an alternate cover f...   \n",
       "61   January 24th 2013  NOBODY'S PERFECT is the continuing story of Sa...   \n",
       "66  December 22nd 2013  When Marc d’Alessio first rescued the curvaceo...   \n",
       "\n",
       "          isbn                                               link  \\\n",
       "40  037377138X  http://www.goodreads.com/book/show/33732.Anyon...   \n",
       "45  0380790076  http://www.goodreads.com/book/show/60220.Simpl...   \n",
       "59  1481152718  http://www.goodreads.com/book/show/17325954-no...   \n",
       "61  1480096954  http://www.goodreads.com/book/show/17299927-no...   \n",
       "66          NA  http://www.goodreads.com/book/show/17207097-so...   \n",
       "\n",
       "    num_ratings  num_reviews  rating  \\\n",
       "40      17661.0        928.0    3.80   \n",
       "45      18156.0        635.0    3.86   \n",
       "59      11078.0        579.0    4.31   \n",
       "61       8462.0        506.0    4.34   \n",
       "66       3940.0        331.0    4.28   \n",
       "\n",
       "                                         review_dates  \\\n",
       "40  [Mar 11, 2010, Sep 20, 2009, Feb 27, 2009, Dec...   \n",
       "45  [Oct 20, 2010, Sep 30, 2009, Apr 04, 2017, Jun...   \n",
       "59  [Apr 20, 2013, Nov 28, 2011, Nov 14, 2012, Jun...   \n",
       "61  [Jun 09, 2012, Feb 25, 2012, May 28, 2012, Mar...   \n",
       "66  [Jan 04, 2013, Nov 12, 2013, Jan 02, 2014, Dec...   \n",
       "\n",
       "                                           review_ids  \\\n",
       "40  [review_93605589, review_71904939, review_4772...   \n",
       "45  [review_127198135, review_73023830, review_195...   \n",
       "59  [review_595540086, review_240655375, review_45...   \n",
       "61  [review_345240483, review_283985473, review_33...   \n",
       "66  [review_494970690, review_763151413, review_80...   \n",
       "\n",
       "                                         review_texts  \\\n",
       "40  [[Opening Line: “The last thing Nina Askew nee...   \n",
       "45  [[3.5 STARSI must admit I was a bit disappoint...   \n",
       "59  [[1 star. DNF at 52 %*Emotional porn at its wo...   \n",
       "61  [[Nobody's perfect, mi sueño, but you're about...   \n",
       "66  [[I like this series, but this one was a littl...   \n",
       "\n",
       "                                       reviewer_names  \\\n",
       "40  [Buggy, Shawna, Kathrynn, Ⓐlleskelle - teamSør...   \n",
       "45  [valee, Auntee, Nenia *The Flagrant Liberal* C...   \n",
       "59  [Baba  ♥♥♥ Tyler, Marcus, Archer, Dean, Adrian...   \n",
       "61  [~ Becs ~, CaroleDee, Nia, Becca, Amy, Michael...   \n",
       "66  [Vivian, Sylvia, Morgan, Sue, Rebekah, Dianne,...   \n",
       "\n",
       "                                     reviewer_ratings  \\\n",
       "40  [really liked it, it was amazing, it was amazi...   \n",
       "45  [liked it, it was amazing, it was ok, it was o...   \n",
       "59  [did not like it, it was amazing, it was ok, r...   \n",
       "61  [really liked it, it was amazing, it was amazi...   \n",
       "66  [liked it, did not like it, it was ok, really ...   \n",
       "\n",
       "                                      reviewer_scores  \\\n",
       "40  [4, 5, 5, 5, 3, 5, 5, 4, 3, 4, 4, 5, 5, 3, 4, ...   \n",
       "45  [3, 5, 2, 2, 4, 4, 3, 4, 4, 5, 4, 5, 4, 3, 5, ...   \n",
       "59  [1, 5, 2, 4, 5, 1, 5, 2, 4, 5, 5, 5, 5, 5, 5, ...   \n",
       "61  [4, 5, 5, 2, 2, 5, 2, 5, 4, 5, 1, 5, 3, 5, 4, ...   \n",
       "66  [3, 1, 2, 4, 2, 4, 2, 4, 2, 5, 5, 5, 4, 5, 4, ...   \n",
       "\n",
       "                                     reviews_together  \\\n",
       "40  Opening Line: “The last thing Nina Askew neede...   \n",
       "45  3.5 STARSI must admit I was a bit disappointed...   \n",
       "59  [ in the hospital (hide spoiler)] Ka-Thunk ,Ka...   \n",
       "61  Nobody's perfect, mi sueño, but you're about a...   \n",
       "66  It's LIVE! It's live! It's finally live! OMG! ...   \n",
       "\n",
       "                                                title    year  \n",
       "40                                     Anyone But You  2006.0  \n",
       "45  Simply Irresistible\\n      \\n          (Chinoo...  1998.0  \n",
       "59  Nobody's Hero\\n      \\n          (Rescue Me Sa...  2012.0  \n",
       "61  Nobody's Perfect\\n      \\n          (Rescue Me...  2013.0  \n",
       "66  Somebody's Angel\\n      \\n          (Rescue Me...  2013.0  "
      ]
     },
     "execution_count": 54,
     "metadata": {},
     "output_type": "execute_result"
    }
   ],
   "source": [
    "df.head()"
   ]
  },
  {
   "cell_type": "code",
   "execution_count": 55,
   "metadata": {},
   "outputs": [],
   "source": [
    "def color_picker(x):\n",
    "    if len(x) == 0:\n",
    "        return 'No awards'\n",
    "    else:\n",
    "        return 'One or more awards'"
   ]
  },
  {
   "cell_type": "code",
   "execution_count": 56,
   "metadata": {},
   "outputs": [],
   "source": [
    "df['size']=df['num_reviews']/50\n",
    "df['color']=df['awards'].map(lambda x: color_picker(x))\n",
    "df['authors']=df['authors'].map(lambda x: \" \".join(x))\n",
    "df['num_awards']=df['awards'].map(len)"
   ]
  },
  {
   "cell_type": "code",
   "execution_count": 57,
   "metadata": {},
   "outputs": [
    {
     "data": {
      "text/plain": [
       "DataTransformerRegistry.enable('default')"
      ]
     },
     "execution_count": 57,
     "metadata": {},
     "output_type": "execute_result"
    }
   ],
   "source": [
    "alt.data_transformers.enable('default', max_rows=None)"
   ]
  },
  {
   "cell_type": "code",
   "execution_count": 60,
   "metadata": {},
   "outputs": [],
   "source": [
    "Chart=alt.Chart(df[['authors','num_ratings','num_reviews','title','num_awards','rating']]).mark_point().encode(\n",
    "    x=alt.X('num_ratings', title=\"Number of ratings\"),\n",
    "    y=alt.Y('rating',\n",
    "           scale=alt.Scale(zero=False),title='Average rating'),\n",
    "    color=alt.Color('num_awards', \n",
    "                    scale=Scale(domain=[0,25],range=['pink','purple']),\n",
    "                    legend=alt.Legend(title=\"Number of awards\")),\n",
    "    size=alt.Size('num_reviews', legend=alt.Legend(title=\"Number of reviews\")),\n",
    "    tooltip=['title', 'authors']).interactive()\n"
   ]
  },
  {
   "cell_type": "code",
   "execution_count": 63,
   "metadata": {},
   "outputs": [],
   "source": [
    "Chart = Chart.configure(autosize='pad',padding={\"left\": 5, \"top\": 5, \"right\": 50, \"bottom\": 5})"
   ]
  },
  {
   "cell_type": "code",
   "execution_count": 66,
   "metadata": {},
   "outputs": [],
   "source": [
    "Chart.save('chart.html')"
   ]
  }
 ],
 "metadata": {
  "kernelspec": {
   "display_name": "Python 3",
   "language": "python",
   "name": "python3"
  },
  "language_info": {
   "codemirror_mode": {
    "name": "ipython",
    "version": 3
   },
   "file_extension": ".py",
   "mimetype": "text/x-python",
   "name": "python",
   "nbconvert_exporter": "python",
   "pygments_lexer": "ipython3",
   "version": "3.5.5"
  }
 },
 "nbformat": 4,
 "nbformat_minor": 2
}
