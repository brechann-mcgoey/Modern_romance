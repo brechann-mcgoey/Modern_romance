{
 "cells": [
  {
   "cell_type": "code",
   "execution_count": 4,
   "metadata": {
    "collapsed": true
   },
   "outputs": [],
   "source": [
    "import nltk\n",
    "import pandas as pd\n",
    "import string\n",
    "import numpy as np\n",
    "from bs4 import BeautifulSoup\n",
    "from nltk.tokenize import sent_tokenize, word_tokenize\n",
    "from nltk.corpus import stopwords\n",
    "from sklearn.feature_extraction.text import TfidfVectorizer\n",
    "from sklearn import linear_model\n",
    "from collections import Counter"
   ]
  },
  {
   "cell_type": "code",
   "execution_count": null,
   "metadata": {
    "collapsed": true
   },
   "outputs": [],
   "source": [
    "books = pd.read_pickle(\"bigger_romance.pkl\")"
   ]
  },
  {
   "cell_type": "code",
   "execution_count": null,
   "metadata": {
    "collapsed": true
   },
   "outputs": [],
   "source": [
    "books.head()"
   ]
  },
  {
   "cell_type": "code",
   "execution_count": null,
   "metadata": {
    "collapsed": true
   },
   "outputs": [],
   "source": [
    "books.shape"
   ]
  },
  {
   "cell_type": "code",
   "execution_count": 3,
   "metadata": {
    "collapsed": true
   },
   "outputs": [],
   "source": [
    "stopWords = set(stopwords.words('english'))"
   ]
  },
  {
   "cell_type": "code",
   "execution_count": null,
   "metadata": {
    "collapsed": true
   },
   "outputs": [],
   "source": [
    "len(stopWords)"
   ]
  },
  {
   "cell_type": "markdown",
   "metadata": {},
   "source": [
    "##### Description words and ratings"
   ]
  },
  {
   "cell_type": "markdown",
   "metadata": {
    "collapsed": true
   },
   "source": [
    "descriptionFiltered=[]\n",
    "for description in books['description']:\n",
    "    for word in word_tokenize(description.lower()):\n",
    "        if blah=dates_reviews[['date_formatted','reviews']].groupby('date_formatted').apply(lambda x: x.sum())word not in stopWords and word not in string.punctuation:\n",
    "            descriptionFiltered.append(word)"
   ]
  },
  {
   "cell_type": "code",
   "execution_count": null,
   "metadata": {
    "collapsed": true
   },
   "outputs": [],
   "source": [
    "descriptions=[]\n",
    "for description in books['description']:\n",
    "    \n",
    "    descriptionFiltered=[]\n",
    "    for word in word_tokenize(description.lower()):\n",
    "        if word not in stopWords and word not in string.punctuation:\n",
    "            descriptionFiltered.append(word)\n",
    "    descriptions.append(descriptionFiltered)"
   ]
  },
  {
   "cell_type": "code",
   "execution_count": null,
   "metadata": {
    "collapsed": true
   },
   "outputs": [],
   "source": [
    "books.loc[:,'description_bag']=descriptions"
   ]
  },
  {
   "cell_type": "code",
   "execution_count": null,
   "metadata": {
    "collapsed": true
   },
   "outputs": [],
   "source": [
    "books.head()"
   ]
  },
  {
   "cell_type": "code",
   "execution_count": null,
   "metadata": {
    "collapsed": true
   },
   "outputs": [],
   "source": [
    "books[\"description_frequency\"]=books[\"description_bag\"].map(lambda x: nltk.FreqDist(x))"
   ]
  },
  {
   "cell_type": "code",
   "execution_count": null,
   "metadata": {
    "collapsed": true
   },
   "outputs": [],
   "source": [
    "books.head()"
   ]
  },
  {
   "cell_type": "code",
   "execution_count": null,
   "metadata": {
    "collapsed": true
   },
   "outputs": [],
   "source": [
    "years=books['year']"
   ]
  },
  {
   "cell_type": "code",
   "execution_count": null,
   "metadata": {
    "collapsed": true
   },
   "outputs": [],
   "source": [
    "years=years.dropna()"
   ]
  },
  {
   "cell_type": "code",
   "execution_count": null,
   "metadata": {
    "collapsed": true
   },
   "outputs": [],
   "source": [
    "years=years.tolist()"
   ]
  },
  {
   "cell_type": "code",
   "execution_count": null,
   "metadata": {
    "collapsed": true
   },
   "outputs": [],
   "source": [
    "years=set(years)"
   ]
  },
  {
   "cell_type": "code",
   "execution_count": null,
   "metadata": {
    "collapsed": true
   },
   "outputs": [],
   "source": [
    "years=list(years)"
   ]
  },
  {
   "cell_type": "code",
   "execution_count": null,
   "metadata": {
    "collapsed": true
   },
   "outputs": [],
   "source": [
    "type(years)"
   ]
  },
  {
   "cell_type": "code",
   "execution_count": null,
   "metadata": {
    "collapsed": true
   },
   "outputs": [],
   "source": [
    "years[0]"
   ]
  },
  {
   "cell_type": "code",
   "execution_count": null,
   "metadata": {
    "collapsed": true
   },
   "outputs": [],
   "source": [
    "my_df=[]\n",
    "for year in years:\n",
    "    c=Counter() \n",
    "    #year=int(year)\n",
    "    #print(year)\n",
    "    for index,row in books.iterrows():\n",
    "        #print(row['year'])\n",
    "        if row['year']==year:\n",
    "            #print(index)\n",
    "            c= c + row['description_frequency']\n",
    "        d = {\n",
    "        'year' : year,\n",
    "        'freqs': c\n",
    "    }\n",
    "    my_df.append(d)\n",
    "\n",
    "my_df = pd.DataFrame(my_df)"
   ]
  },
  {
   "cell_type": "code",
   "execution_count": null,
   "metadata": {
    "collapsed": true
   },
   "outputs": [],
   "source": [
    "my_df.head()"
   ]
  },
  {
   "cell_type": "code",
   "execution_count": null,
   "metadata": {
    "collapsed": true
   },
   "outputs": [],
   "source": [
    "no_years = books[[\"year\"]].groupby([\"year\"]).size()"
   ]
  },
  {
   "cell_type": "code",
   "execution_count": null,
   "metadata": {
    "collapsed": true
   },
   "outputs": [],
   "source": [
    "no_years.head()"
   ]
  },
  {
   "cell_type": "code",
   "execution_count": null,
   "metadata": {
    "collapsed": true
   },
   "outputs": [],
   "source": [
    "no_years.reset_index()"
   ]
  },
  {
   "cell_type": "code",
   "execution_count": null,
   "metadata": {
    "collapsed": true
   },
   "outputs": [],
   "source": [
    "counts=no_years.tolist()"
   ]
  },
  {
   "cell_type": "code",
   "execution_count": null,
   "metadata": {
    "collapsed": true
   },
   "outputs": [],
   "source": [
    "type(no_years)"
   ]
  },
  {
   "cell_type": "code",
   "execution_count": null,
   "metadata": {
    "collapsed": true
   },
   "outputs": [],
   "source": [
    "my_df['count']=counts"
   ]
  },
  {
   "cell_type": "code",
   "execution_count": null,
   "metadata": {
    "collapsed": true
   },
   "outputs": [],
   "source": [
    "my_df.head()"
   ]
  },
  {
   "cell_type": "code",
   "execution_count": null,
   "metadata": {
    "collapsed": true
   },
   "outputs": [],
   "source": [
    "my_df[\"freqs\"].map(lambda x: x.get(\"cowboy\"))"
   ]
  },
  {
   "cell_type": "markdown",
   "metadata": {},
   "source": [
    "### Descriptions with scores"
   ]
  },
  {
   "cell_type": "code",
   "execution_count": null,
   "metadata": {
    "collapsed": true
   },
   "outputs": [],
   "source": [
    "tfDescriptions = TfidfVectorizer(analyzer='word',min_df=1, \n",
    "                                 stop_words = 'english')"
   ]
  },
  {
   "cell_type": "code",
   "execution_count": null,
   "metadata": {
    "collapsed": true
   },
   "outputs": [],
   "source": [
    "transformed_descriptions= tfDescriptions.fit_transform(books[\"description\"])"
   ]
  },
  {
   "cell_type": "code",
   "execution_count": null,
   "metadata": {
    "collapsed": true
   },
   "outputs": [],
   "source": [
    "transformed_descriptions"
   ]
  },
  {
   "cell_type": "code",
   "execution_count": null,
   "metadata": {
    "collapsed": true
   },
   "outputs": [],
   "source": [
    "regrDescriptions = linear_model.LinearRegression()"
   ]
  },
  {
   "cell_type": "code",
   "execution_count": null,
   "metadata": {
    "collapsed": true
   },
   "outputs": [],
   "source": [
    "regrDescriptions.fit(transformed_descriptions, books[\"rating\"])"
   ]
  },
  {
   "cell_type": "code",
   "execution_count": null,
   "metadata": {
    "collapsed": true
   },
   "outputs": [],
   "source": [
    "resultDescriptions= pd.DataFrame({\"coef\":regrDescriptions.coef_,\n",
    "                        \"labels\":tfDescriptions.get_feature_names()})"
   ]
  },
  {
   "cell_type": "code",
   "execution_count": null,
   "metadata": {
    "collapsed": true
   },
   "outputs": [],
   "source": [
    "big_description=[word for description in descriptions for word in description]"
   ]
  },
  {
   "cell_type": "code",
   "execution_count": null,
   "metadata": {
    "collapsed": true
   },
   "outputs": [],
   "source": [
    "corpus_frequency=nltk.FreqDist(big_description)"
   ]
  },
  {
   "cell_type": "code",
   "execution_count": null,
   "metadata": {
    "collapsed": true
   },
   "outputs": [],
   "source": [
    "resultDescriptions[\"count\"]=resultDescriptions[\"labels\"].map(lambda x: corpus_frequency.get(x))"
   ]
  },
  {
   "cell_type": "code",
   "execution_count": null,
   "metadata": {
    "collapsed": true
   },
   "outputs": [],
   "source": [
    "resultDescriptions.tail()"
   ]
  },
  {
   "cell_type": "code",
   "execution_count": null,
   "metadata": {
    "collapsed": true
   },
   "outputs": [],
   "source": [
    "resultDescriptions.to_pickle(\"Descriptions_bigger.pkl\")"
   ]
  },
  {
   "cell_type": "code",
   "execution_count": null,
   "metadata": {
    "collapsed": true
   },
   "outputs": [],
   "source": [
    "resultDescriptions.sort_values(\"coef\",inplace=True,ascending=True)"
   ]
  },
  {
   "cell_type": "code",
   "execution_count": null,
   "metadata": {
    "collapsed": true
   },
   "outputs": [],
   "source": [
    "resultDescriptions[resultDescriptions[\"count\"]>20].tail(100)"
   ]
  },
  {
   "cell_type": "markdown",
   "metadata": {},
   "source": [
    "Trying to make a list of words for a themes"
   ]
  },
  {
   "cell_type": "code",
   "execution_count": 1,
   "metadata": {
    "collapsed": true
   },
   "outputs": [],
   "source": [
    "royalty=['princess','queen','king','royalty','royal','crown', 'castle']\n",
    "military=['military', 'navy', 'army', 'soldier']\n",
    "supernatural=['vampire','werewolf','ghost','paranormal','supernatural','psychic','witch']\n",
    "holiday=['christmas', 'thanksgiving', 'valentine', 'halloween', 'new year']\n",
    "bdsm=['bdsm','dominant','submissive']\n",
    "adventure=['quest','warrior','voyage','journey','adventure']\n",
    "wedding=['wedding','bride','groom']\n",
    "cowboy=['cowboy','cowgirl','farm']\n",
    "money=['billionaire', 'rich', 'millionaire', 'wealthy']\n",
    "traits=['novella','series','debut']\n",
    "settings=['england','scotland','europe','asia','india','china','japan','hawaii','california','texas','hollywood',\n",
    "          'ireland','florida','france']"
   ]
  },
  {
   "cell_type": "code",
   "execution_count": 2,
   "metadata": {
    "collapsed": true
   },
   "outputs": [],
   "source": [
    "all_key_words=royalty+military+supernatural+holiday+bdsm+adventure+wedding+cowboy+money+traits+settings"
   ]
  },
  {
   "cell_type": "code",
   "execution_count": null,
   "metadata": {
    "collapsed": true
   },
   "outputs": [],
   "source": [
    "resultDescriptions[resultDescriptions['labels'].isin(holiday)]"
   ]
  },
  {
   "cell_type": "code",
   "execution_count": null,
   "metadata": {
    "collapsed": true
   },
   "outputs": [],
   "source": [
    "books.head()"
   ]
  },
  {
   "cell_type": "markdown",
   "metadata": {},
   "source": [
    "##### Description words vs. year"
   ]
  },
  {
   "cell_type": "code",
   "execution_count": null,
   "metadata": {
    "collapsed": true
   },
   "outputs": [],
   "source": [
    "regrDescriptionYear = linear_model.LinearRegression()"
   ]
  },
  {
   "cell_type": "code",
   "execution_count": null,
   "metadata": {
    "collapsed": true
   },
   "outputs": [],
   "source": [
    "books.head()"
   ]
  },
  {
   "cell_type": "code",
   "execution_count": null,
   "metadata": {
    "collapsed": true
   },
   "outputs": [],
   "source": [
    "transformed_descriptions_year=tfDescriptions.transform(books.loc[~(books[\"year\"].isnull()),'description'])"
   ]
  },
  {
   "cell_type": "code",
   "execution_count": null,
   "metadata": {
    "collapsed": true
   },
   "outputs": [],
   "source": [
    "regrDescriptionYear.fit(transformed_descriptions_year, \n",
    "                        books.loc[~(books[\"year\"].isnull()),'year'])"
   ]
  },
  {
   "cell_type": "code",
   "execution_count": null,
   "metadata": {
    "collapsed": true
   },
   "outputs": [],
   "source": [
    "resultDescriptionYear= pd.DataFrame({\"coef\":regrDescriptionYear.coef_,\"labels\":tfDescriptions.get_feature_names()})"
   ]
  },
  {
   "cell_type": "code",
   "execution_count": null,
   "metadata": {
    "collapsed": true
   },
   "outputs": [],
   "source": [
    "resultDescriptionYear.to_pickle(\"Description_Year.pkl\")"
   ]
  },
  {
   "cell_type": "code",
   "execution_count": null,
   "metadata": {
    "collapsed": true
   },
   "outputs": [],
   "source": [
    "resultDescriptionYear.sort_values(\"coef\",inplace=True,ascending=True)"
   ]
  },
  {
   "cell_type": "code",
   "execution_count": null,
   "metadata": {
    "collapsed": true
   },
   "outputs": [],
   "source": [
    "resultDescriptionYear[\"count\"]=resultDescriptionYear[\"labels\"].map(lambda x: corpus_frequency.get(x))"
   ]
  },
  {
   "cell_type": "code",
   "execution_count": null,
   "metadata": {
    "collapsed": true
   },
   "outputs": [],
   "source": [
    "resultDescriptionYear[resultDescriptionYear[\"count\"]>30]"
   ]
  },
  {
   "cell_type": "code",
   "execution_count": null,
   "metadata": {
    "collapsed": true
   },
   "outputs": [],
   "source": [
    "resultDescriptionYear[resultDescriptionYear['labels'].isin(military)]"
   ]
  },
  {
   "cell_type": "markdown",
   "metadata": {},
   "source": [
    "##### Review words vs. ratings "
   ]
  },
  {
   "cell_type": "markdown",
   "metadata": {},
   "source": [
    "Redoing review words vs ratings so can pick apart the rating a specific reviewer gave with their specific review"
   ]
  },
  {
   "cell_type": "code",
   "execution_count": null,
   "metadata": {
    "collapsed": true
   },
   "outputs": [],
   "source": [
    "books.head()"
   ]
  },
  {
   "cell_type": "code",
   "execution_count": null,
   "metadata": {
    "collapsed": true
   },
   "outputs": [],
   "source": [
    "les_review=books['review_texts'].tolist()"
   ]
  },
  {
   "cell_type": "code",
   "execution_count": null,
   "metadata": {
    "collapsed": true
   },
   "outputs": [],
   "source": [
    "len(les_review)"
   ]
  },
  {
   "cell_type": "code",
   "execution_count": null,
   "metadata": {
    "collapsed": true
   },
   "outputs": [],
   "source": [
    "newlist=[]\n",
    "for i in range(0,11018):\n",
    "    #print(i)\n",
    "    x=les_review[i]\n",
    "    for j in range(0,len(x)):\n",
    "        #print(j)\n",
    "        try:\n",
    "            y=x[j][0]\n",
    "        except:\n",
    "            y=''\n",
    "        newlist.append(y)"
   ]
  },
  {
   "cell_type": "code",
   "execution_count": null,
   "metadata": {
    "collapsed": true
   },
   "outputs": [],
   "source": [
    "len(newlist)"
   ]
  },
  {
   "cell_type": "code",
   "execution_count": null,
   "metadata": {
    "collapsed": true
   },
   "outputs": [],
   "source": [
    "#all_reviews=[item for sublist in flat_list for item in sublist]"
   ]
  },
  {
   "cell_type": "code",
   "execution_count": null,
   "metadata": {
    "collapsed": true
   },
   "outputs": [],
   "source": [
    "all_scores=[score for scores in books['reviewer_scores'] for score in scores]"
   ]
  },
  {
   "cell_type": "code",
   "execution_count": null,
   "metadata": {
    "collapsed": true
   },
   "outputs": [],
   "source": [
    "len(all_scores)"
   ]
  },
  {
   "cell_type": "code",
   "execution_count": null,
   "metadata": {
    "collapsed": true
   },
   "outputs": [],
   "source": [
    "scores_reviews=pd.DataFrame(\n",
    "    {'reviews': newlist,\n",
    "     'scores': all_scores\n",
    "    })"
   ]
  },
  {
   "cell_type": "code",
   "execution_count": null,
   "metadata": {
    "collapsed": true
   },
   "outputs": [],
   "source": [
    "no_blanks=scores_reviews[scores_reviews[\"scores\"]!='']"
   ]
  },
  {
   "cell_type": "code",
   "execution_count": null,
   "metadata": {
    "collapsed": true
   },
   "outputs": [],
   "source": [
    "no_blanks.shape"
   ]
  },
  {
   "cell_type": "code",
   "execution_count": null,
   "metadata": {
    "collapsed": true
   },
   "outputs": [],
   "source": [
    "les_scores=no_blanks['scores'].tolist()"
   ]
  },
  {
   "cell_type": "code",
   "execution_count": null,
   "metadata": {
    "collapsed": true
   },
   "outputs": [],
   "source": [
    "len(les_scores)"
   ]
  },
  {
   "cell_type": "code",
   "execution_count": null,
   "metadata": {
    "collapsed": true
   },
   "outputs": [],
   "source": [
    "tfReviews = TfidfVectorizer(analyzer='word',min_df=0.001, stop_words = 'english')"
   ]
  },
  {
   "cell_type": "code",
   "execution_count": null,
   "metadata": {
    "collapsed": true
   },
   "outputs": [],
   "source": [
    "transformed_reviews= tfReviews.fit_transform(no_blanks[\"reviews\"])"
   ]
  },
  {
   "cell_type": "code",
   "execution_count": null,
   "metadata": {
    "collapsed": true
   },
   "outputs": [],
   "source": [
    "transformed_reviews.shape"
   ]
  },
  {
   "cell_type": "code",
   "execution_count": null,
   "metadata": {
    "collapsed": true
   },
   "outputs": [],
   "source": [
    "regrReviews = linear_model.LinearRegression()"
   ]
  },
  {
   "cell_type": "code",
   "execution_count": null,
   "metadata": {
    "collapsed": true
   },
   "outputs": [],
   "source": [
    "regrReviews.fit(transformed_reviews, les_scores)"
   ]
  },
  {
   "cell_type": "code",
   "execution_count": null,
   "metadata": {
    "collapsed": true
   },
   "outputs": [],
   "source": [
    "resultReviews= pd.DataFrame({\"coef\":regrReviews.coef_,\"labels\":tfReviews.get_feature_names()})"
   ]
  },
  {
   "cell_type": "code",
   "execution_count": null,
   "metadata": {
    "collapsed": true
   },
   "outputs": [],
   "source": [
    "resultReviews.head()"
   ]
  },
  {
   "cell_type": "code",
   "execution_count": null,
   "metadata": {
    "collapsed": true
   },
   "outputs": [],
   "source": [
    "len(resultReviews)"
   ]
  },
  {
   "cell_type": "code",
   "execution_count": null,
   "metadata": {
    "collapsed": true
   },
   "outputs": [],
   "source": [
    "resultReviews.to_pickle('bigger_reviews_split.pkl')"
   ]
  },
  {
   "cell_type": "code",
   "execution_count": null,
   "metadata": {
    "collapsed": true
   },
   "outputs": [],
   "source": [
    "2+2"
   ]
  },
  {
   "cell_type": "code",
   "execution_count": null,
   "metadata": {
    "collapsed": true
   },
   "outputs": [],
   "source": [
    "blah=resultReviews.sort_values('coef')"
   ]
  },
  {
   "cell_type": "code",
   "execution_count": null,
   "metadata": {
    "collapsed": true
   },
   "outputs": [],
   "source": [
    "sorted_words=blah['labels'].tolist()"
   ]
  },
  {
   "cell_type": "markdown",
   "metadata": {},
   "source": [
    "intersting big: consent, raped etc. religious, abusive, pregnant, possesive,"
   ]
  },
  {
   "cell_type": "markdown",
   "metadata": {
    "collapsed": true
   },
   "source": [
    "intersting big: shock, journey, survivor, laughed, justice, twists, laugh, brotherhood"
   ]
  },
  {
   "cell_type": "code",
   "execution_count": null,
   "metadata": {
    "collapsed": true
   },
   "outputs": [],
   "source": [
    "for x in range(4700,4978):\n",
    "        print(sorted_words[x])"
   ]
  },
  {
   "cell_type": "code",
   "execution_count": null,
   "metadata": {
    "collapsed": true
   },
   "outputs": [],
   "source": [
    "resultReviews[resultReviews['labels'].isin(money)]"
   ]
  },
  {
   "cell_type": "code",
   "execution_count": null,
   "metadata": {
    "collapsed": true
   },
   "outputs": [],
   "source": [
    "resultReviews[resultReviews['labels'].isin(military)]"
   ]
  },
  {
   "cell_type": "code",
   "execution_count": null,
   "metadata": {
    "collapsed": true
   },
   "outputs": [],
   "source": [
    "resultReviews[resultReviews['labels'].isin(holiday)]"
   ]
  },
  {
   "cell_type": "code",
   "execution_count": null,
   "metadata": {
    "collapsed": true
   },
   "outputs": [],
   "source": [
    "resultReviews[resultReviews['labels'].isin(settings)]"
   ]
  },
  {
   "cell_type": "code",
   "execution_count": null,
   "metadata": {
    "collapsed": true
   },
   "outputs": [],
   "source": [
    "resultReviews[resultReviews['labels'].isin(supernatural)]"
   ]
  },
  {
   "cell_type": "code",
   "execution_count": null,
   "metadata": {
    "collapsed": true
   },
   "outputs": [],
   "source": [
    "resultReviews[resultReviews['labels'].isin(adventure)]"
   ]
  },
  {
   "cell_type": "code",
   "execution_count": null,
   "metadata": {
    "collapsed": true
   },
   "outputs": [],
   "source": [
    "resultReviews[resultReviews['labels'].isin(traits)]"
   ]
  },
  {
   "cell_type": "markdown",
   "metadata": {},
   "source": [
    "### Reviews individually with their dates"
   ]
  },
  {
   "cell_type": "code",
   "execution_count": null,
   "metadata": {
    "collapsed": true
   },
   "outputs": [],
   "source": [
    "books.head()"
   ]
  },
  {
   "cell_type": "code",
   "execution_count": null,
   "metadata": {
    "collapsed": true
   },
   "outputs": [],
   "source": [
    "all_dates=[date for dates in books['review_dates'] for date in dates]"
   ]
  },
  {
   "cell_type": "code",
   "execution_count": null,
   "metadata": {
    "collapsed": true
   },
   "outputs": [],
   "source": [
    "len(all_dates)"
   ]
  },
  {
   "cell_type": "code",
   "execution_count": null,
   "metadata": {
    "collapsed": true
   },
   "outputs": [],
   "source": [
    "len(newlist)"
   ]
  },
  {
   "cell_type": "code",
   "execution_count": null,
   "metadata": {
    "collapsed": true
   },
   "outputs": [],
   "source": [
    "dates_reviews=pd.DataFrame(\n",
    "    {'reviews': newlist,\n",
    "     'dates': all_dates\n",
    "    })"
   ]
  },
  {
   "cell_type": "code",
   "execution_count": null,
   "metadata": {
    "collapsed": true
   },
   "outputs": [],
   "source": [
    "dates_reviews.head()"
   ]
  },
  {
   "cell_type": "code",
   "execution_count": null,
   "metadata": {
    "collapsed": true
   },
   "outputs": [],
   "source": [
    "dates_reviews[\"dts\"]=pd.to_datetime(dates_reviews[\"dates\"])"
   ]
  },
  {
   "cell_type": "code",
   "execution_count": null,
   "metadata": {
    "collapsed": true
   },
   "outputs": [],
   "source": [
    "dates_reviews.head()"
   ]
  },
  {
   "cell_type": "code",
   "execution_count": null,
   "metadata": {
    "collapsed": true
   },
   "outputs": [],
   "source": [
    "2+2"
   ]
  },
  {
   "cell_type": "code",
   "execution_count": null,
   "metadata": {
    "collapsed": true
   },
   "outputs": [],
   "source": [
    "dates_reviews['date_formatted'] = dates_reviews['dts'].dt.strftime('%b-%Y')"
   ]
  },
  {
   "cell_type": "code",
   "execution_count": null,
   "metadata": {
    "collapsed": true
   },
   "outputs": [],
   "source": [
    "dates_reviews.head()"
   ]
  },
  {
   "cell_type": "code",
   "execution_count": null,
   "metadata": {
    "collapsed": true
   },
   "outputs": [],
   "source": [
    "dates_reviews.to_pickle('bigger_reviews_years.pkl')"
   ]
  },
  {
   "cell_type": "code",
   "execution_count": 14,
   "metadata": {
    "collapsed": true
   },
   "outputs": [],
   "source": [
    "dates_reviews = pd.read_pickle(\"bigger_reviews_years.pkl\")"
   ]
  },
  {
   "cell_type": "code",
   "execution_count": 15,
   "metadata": {},
   "outputs": [
    {
     "data": {
      "text/html": [
       "<div>\n",
       "<style>\n",
       "    .dataframe thead tr:only-child th {\n",
       "        text-align: right;\n",
       "    }\n",
       "\n",
       "    .dataframe thead th {\n",
       "        text-align: left;\n",
       "    }\n",
       "\n",
       "    .dataframe tbody tr th {\n",
       "        vertical-align: top;\n",
       "    }\n",
       "</style>\n",
       "<table border=\"1\" class=\"dataframe\">\n",
       "  <thead>\n",
       "    <tr style=\"text-align: right;\">\n",
       "      <th></th>\n",
       "      <th>dates</th>\n",
       "      <th>reviews</th>\n",
       "      <th>dts</th>\n",
       "      <th>date_formatted</th>\n",
       "    </tr>\n",
       "  </thead>\n",
       "  <tbody>\n",
       "    <tr>\n",
       "      <th>0</th>\n",
       "      <td>Mar 11, 2010</td>\n",
       "      <td>Opening Line: “The last thing Nina Askew neede...</td>\n",
       "      <td>2010-03-11</td>\n",
       "      <td>Mar-2010</td>\n",
       "    </tr>\n",
       "    <tr>\n",
       "      <th>1</th>\n",
       "      <td>Sep 20, 2009</td>\n",
       "      <td>5 stars – Contemporary Romance40-year-old divo...</td>\n",
       "      <td>2009-09-20</td>\n",
       "      <td>Sep-2009</td>\n",
       "    </tr>\n",
       "    <tr>\n",
       "      <th>2</th>\n",
       "      <td>Feb 27, 2009</td>\n",
       "      <td>Loved it! I have a new favorite author. :-) Th...</td>\n",
       "      <td>2009-02-27</td>\n",
       "      <td>Feb-2009</td>\n",
       "    </tr>\n",
       "    <tr>\n",
       "      <th>3</th>\n",
       "      <td>Dec 10, 2014</td>\n",
       "      <td>⭐️⭐️⭐️⭐️⭐️ 5 STARS⭐️⭐️⭐️⭐️⭐️Jennifer Crusie ca...</td>\n",
       "      <td>2014-12-10</td>\n",
       "      <td>Dec-2014</td>\n",
       "    </tr>\n",
       "    <tr>\n",
       "      <th>4</th>\n",
       "      <td>Jan 14, 2016</td>\n",
       "      <td>With her fairytale marriage-gone-bust, Nina As...</td>\n",
       "      <td>2016-01-14</td>\n",
       "      <td>Jan-2016</td>\n",
       "    </tr>\n",
       "  </tbody>\n",
       "</table>\n",
       "</div>"
      ],
      "text/plain": [
       "          dates                                            reviews        dts  \\\n",
       "0  Mar 11, 2010  Opening Line: “The last thing Nina Askew neede... 2010-03-11   \n",
       "1  Sep 20, 2009  5 stars – Contemporary Romance40-year-old divo... 2009-09-20   \n",
       "2  Feb 27, 2009  Loved it! I have a new favorite author. :-) Th... 2009-02-27   \n",
       "3  Dec 10, 2014  ⭐️⭐️⭐️⭐️⭐️ 5 STARS⭐️⭐️⭐️⭐️⭐️Jennifer Crusie ca... 2014-12-10   \n",
       "4  Jan 14, 2016  With her fairytale marriage-gone-bust, Nina As... 2016-01-14   \n",
       "\n",
       "  date_formatted  \n",
       "0       Mar-2010  \n",
       "1       Sep-2009  \n",
       "2       Feb-2009  \n",
       "3       Dec-2014  \n",
       "4       Jan-2016  "
      ]
     },
     "execution_count": 15,
     "metadata": {},
     "output_type": "execute_result"
    }
   ],
   "source": [
    "dates_reviews.head()"
   ]
  },
  {
   "cell_type": "code",
   "execution_count": 6,
   "metadata": {
    "collapsed": true
   },
   "outputs": [],
   "source": [
    "blah=dates_reviews[['date_formatted','reviews']].groupby('date_formatted').sum()"
   ]
  },
  {
   "cell_type": "code",
   "execution_count": null,
   "metadata": {
    "collapsed": true
   },
   "outputs": [],
   "source": [
    "#blah=dates_reviews[['reviews']].groupby('date_formatted').apply(lambda x: x.sum())"
   ]
  },
  {
   "cell_type": "code",
   "execution_count": null,
   "metadata": {
    "collapsed": true,
    "scrolled": true
   },
   "outputs": [],
   "source": [
    "blah.head()"
   ]
  },
  {
   "cell_type": "code",
   "execution_count": 7,
   "metadata": {
    "collapsed": true
   },
   "outputs": [],
   "source": [
    "blah.to_pickle('reviews_month_year.pkl')"
   ]
  },
  {
   "cell_type": "code",
   "execution_count": 5,
   "metadata": {
    "collapsed": true
   },
   "outputs": [],
   "source": [
    "blah=pd.read_pickle(\"reviews_month_year.pkl\")"
   ]
  },
  {
   "cell_type": "code",
   "execution_count": 6,
   "metadata": {
    "collapsed": true
   },
   "outputs": [],
   "source": [
    "review_dates=[]\n",
    "for review in blah['reviews']:\n",
    "    \n",
    "    reviewFiltered=[]\n",
    "    for word in word_tokenize(review.lower()):\n",
    "        if word in all_key_words:\n",
    "            reviewFiltered.append(word)\n",
    "    review_dates.append(reviewFiltered)"
   ]
  },
  {
   "cell_type": "code",
   "execution_count": null,
   "metadata": {
    "collapsed": true
   },
   "outputs": [],
   "source": [
    "review_dates=[]\n",
    "for review in blah['reviews']:\n",
    "    \n",
    "    reviewFiltered=[]\n",
    "    for word in word_tokenize(review.lower()):\n",
    "        if word not in stopWords and word not in string.punctuation:\n",
    "            reviewFiltered.append(word)\n",
    "    review_dates.append(reviewFiltered)"
   ]
  },
  {
   "cell_type": "code",
   "execution_count": 1,
   "metadata": {},
   "outputs": [
    {
     "ename": "NameError",
     "evalue": "name 'review_dates' is not defined",
     "output_type": "error",
     "traceback": [
      "\u001b[0;31m---------------------------------------------------------------------------\u001b[0m",
      "\u001b[0;31mNameError\u001b[0m                                 Traceback (most recent call last)",
      "\u001b[0;32m<ipython-input-1-da241b2cfbe9>\u001b[0m in \u001b[0;36m<module>\u001b[0;34m()\u001b[0m\n\u001b[0;32m----> 1\u001b[0;31m \u001b[0mlen\u001b[0m\u001b[0;34m(\u001b[0m\u001b[0mreview_dates\u001b[0m\u001b[0;34m)\u001b[0m\u001b[0;34m\u001b[0m\u001b[0m\n\u001b[0m",
      "\u001b[0;31mNameError\u001b[0m: name 'review_dates' is not defined"
     ]
    }
   ],
   "source": [
    "len(review_dates)"
   ]
  },
  {
   "cell_type": "code",
   "execution_count": null,
   "metadata": {
    "collapsed": true
   },
   "outputs": [],
   "source": [
    "len(blah)"
   ]
  },
  {
   "cell_type": "code",
   "execution_count": 9,
   "metadata": {
    "collapsed": true
   },
   "outputs": [],
   "source": [
    "blah['review_bag']=review_dates"
   ]
  },
  {
   "cell_type": "code",
   "execution_count": 10,
   "metadata": {},
   "outputs": [
    {
     "data": {
      "text/html": [
       "<div>\n",
       "<style>\n",
       "    .dataframe thead tr:only-child th {\n",
       "        text-align: right;\n",
       "    }\n",
       "\n",
       "    .dataframe thead th {\n",
       "        text-align: left;\n",
       "    }\n",
       "\n",
       "    .dataframe tbody tr th {\n",
       "        vertical-align: top;\n",
       "    }\n",
       "</style>\n",
       "<table border=\"1\" class=\"dataframe\">\n",
       "  <thead>\n",
       "    <tr style=\"text-align: right;\">\n",
       "      <th></th>\n",
       "      <th>reviews</th>\n",
       "      <th>review_bag</th>\n",
       "    </tr>\n",
       "    <tr>\n",
       "      <th>date_formatted</th>\n",
       "      <th></th>\n",
       "      <th></th>\n",
       "    </tr>\n",
       "  </thead>\n",
       "  <tbody>\n",
       "    <tr>\n",
       "      <th>Apr-2007</th>\n",
       "      <td>Quinton Murphy knows what he likes and what he...</td>\n",
       "      <td>[rich, series, series, series, england, france...</td>\n",
       "    </tr>\n",
       "    <tr>\n",
       "      <th>Apr-2008</th>\n",
       "      <td>The 4th and final book in the Chesapeake Bay /...</td>\n",
       "      <td>[series, series, series, wedding, series, para...</td>\n",
       "    </tr>\n",
       "    <tr>\n",
       "      <th>Apr-2009</th>\n",
       "      <td>A great story filled with romance and tenderne...</td>\n",
       "      <td>[series, california, series, military, series,...</td>\n",
       "    </tr>\n",
       "    <tr>\n",
       "      <th>Apr-2010</th>\n",
       "      <td>It did nothing for me. The aspect of 'small to...</td>\n",
       "      <td>[millionaire, series, series, series, series, ...</td>\n",
       "    </tr>\n",
       "    <tr>\n",
       "      <th>Apr-2011</th>\n",
       "      <td>Simple Irresistible is the first book in the C...</td>\n",
       "      <td>[series, series, series, series, wedding, seri...</td>\n",
       "    </tr>\n",
       "  </tbody>\n",
       "</table>\n",
       "</div>"
      ],
      "text/plain": [
       "                                                          reviews  \\\n",
       "date_formatted                                                      \n",
       "Apr-2007        Quinton Murphy knows what he likes and what he...   \n",
       "Apr-2008        The 4th and final book in the Chesapeake Bay /...   \n",
       "Apr-2009        A great story filled with romance and tenderne...   \n",
       "Apr-2010        It did nothing for me. The aspect of 'small to...   \n",
       "Apr-2011        Simple Irresistible is the first book in the C...   \n",
       "\n",
       "                                                       review_bag  \n",
       "date_formatted                                                     \n",
       "Apr-2007        [rich, series, series, series, england, france...  \n",
       "Apr-2008        [series, series, series, wedding, series, para...  \n",
       "Apr-2009        [series, california, series, military, series,...  \n",
       "Apr-2010        [millionaire, series, series, series, series, ...  \n",
       "Apr-2011        [series, series, series, series, wedding, seri...  "
      ]
     },
     "execution_count": 10,
     "metadata": {},
     "output_type": "execute_result"
    }
   ],
   "source": [
    "blah.head()"
   ]
  },
  {
   "cell_type": "code",
   "execution_count": 11,
   "metadata": {
    "collapsed": true
   },
   "outputs": [],
   "source": [
    "blah[\"review_date_frequency\"]=blah[\"review_bag\"].map(lambda x: nltk.FreqDist(x))"
   ]
  },
  {
   "cell_type": "code",
   "execution_count": 12,
   "metadata": {},
   "outputs": [
    {
     "data": {
      "text/html": [
       "<div>\n",
       "<style>\n",
       "    .dataframe thead tr:only-child th {\n",
       "        text-align: right;\n",
       "    }\n",
       "\n",
       "    .dataframe thead th {\n",
       "        text-align: left;\n",
       "    }\n",
       "\n",
       "    .dataframe tbody tr th {\n",
       "        vertical-align: top;\n",
       "    }\n",
       "</style>\n",
       "<table border=\"1\" class=\"dataframe\">\n",
       "  <thead>\n",
       "    <tr style=\"text-align: right;\">\n",
       "      <th></th>\n",
       "      <th>reviews</th>\n",
       "      <th>review_bag</th>\n",
       "      <th>review_date_frequency</th>\n",
       "    </tr>\n",
       "    <tr>\n",
       "      <th>date_formatted</th>\n",
       "      <th></th>\n",
       "      <th></th>\n",
       "      <th></th>\n",
       "    </tr>\n",
       "  </thead>\n",
       "  <tbody>\n",
       "    <tr>\n",
       "      <th>Apr-2007</th>\n",
       "      <td>Quinton Murphy knows what he likes and what he...</td>\n",
       "      <td>[rich, series, series, series, england, france...</td>\n",
       "      <td>{'rich': 1, 'series': 9, 'england': 1, 'france...</td>\n",
       "    </tr>\n",
       "    <tr>\n",
       "      <th>Apr-2008</th>\n",
       "      <td>The 4th and final book in the Chesapeake Bay /...</td>\n",
       "      <td>[series, series, series, wedding, series, para...</td>\n",
       "      <td>{'series': 105, 'wedding': 15, 'paranormal': 3...</td>\n",
       "    </tr>\n",
       "    <tr>\n",
       "      <th>Apr-2009</th>\n",
       "      <td>A great story filled with romance and tenderne...</td>\n",
       "      <td>[series, california, series, military, series,...</td>\n",
       "      <td>{'series': 180, 'california': 3, 'military': 3...</td>\n",
       "    </tr>\n",
       "    <tr>\n",
       "      <th>Apr-2010</th>\n",
       "      <td>It did nothing for me. The aspect of 'small to...</td>\n",
       "      <td>[millionaire, series, series, series, series, ...</td>\n",
       "      <td>{'millionaire': 3, 'series': 258, 'debut': 3, ...</td>\n",
       "    </tr>\n",
       "    <tr>\n",
       "      <th>Apr-2011</th>\n",
       "      <td>Simple Irresistible is the first book in the C...</td>\n",
       "      <td>[series, series, series, series, wedding, seri...</td>\n",
       "      <td>{'series': 665, 'wedding': 43, 'europe': 9, 'j...</td>\n",
       "    </tr>\n",
       "  </tbody>\n",
       "</table>\n",
       "</div>"
      ],
      "text/plain": [
       "                                                          reviews  \\\n",
       "date_formatted                                                      \n",
       "Apr-2007        Quinton Murphy knows what he likes and what he...   \n",
       "Apr-2008        The 4th and final book in the Chesapeake Bay /...   \n",
       "Apr-2009        A great story filled with romance and tenderne...   \n",
       "Apr-2010        It did nothing for me. The aspect of 'small to...   \n",
       "Apr-2011        Simple Irresistible is the first book in the C...   \n",
       "\n",
       "                                                       review_bag  \\\n",
       "date_formatted                                                      \n",
       "Apr-2007        [rich, series, series, series, england, france...   \n",
       "Apr-2008        [series, series, series, wedding, series, para...   \n",
       "Apr-2009        [series, california, series, military, series,...   \n",
       "Apr-2010        [millionaire, series, series, series, series, ...   \n",
       "Apr-2011        [series, series, series, series, wedding, seri...   \n",
       "\n",
       "                                            review_date_frequency  \n",
       "date_formatted                                                     \n",
       "Apr-2007        {'rich': 1, 'series': 9, 'england': 1, 'france...  \n",
       "Apr-2008        {'series': 105, 'wedding': 15, 'paranormal': 3...  \n",
       "Apr-2009        {'series': 180, 'california': 3, 'military': 3...  \n",
       "Apr-2010        {'millionaire': 3, 'series': 258, 'debut': 3, ...  \n",
       "Apr-2011        {'series': 665, 'wedding': 43, 'europe': 9, 'j...  "
      ]
     },
     "execution_count": 12,
     "metadata": {},
     "output_type": "execute_result"
    }
   ],
   "source": [
    "blah.head()"
   ]
  },
  {
   "cell_type": "code",
   "execution_count": 16,
   "metadata": {
    "collapsed": true
   },
   "outputs": [],
   "source": [
    "num_months=dates_reviews [[\"date_formatted\"]].groupby([\"date_formatted\"]).size()"
   ]
  },
  {
   "cell_type": "code",
   "execution_count": 17,
   "metadata": {},
   "outputs": [
    {
     "data": {
      "text/html": [
       "<div>\n",
       "<style>\n",
       "    .dataframe thead tr:only-child th {\n",
       "        text-align: right;\n",
       "    }\n",
       "\n",
       "    .dataframe thead th {\n",
       "        text-align: left;\n",
       "    }\n",
       "\n",
       "    .dataframe tbody tr th {\n",
       "        vertical-align: top;\n",
       "    }\n",
       "</style>\n",
       "<table border=\"1\" class=\"dataframe\">\n",
       "  <thead>\n",
       "    <tr style=\"text-align: right;\">\n",
       "      <th></th>\n",
       "      <th>date_formatted</th>\n",
       "      <th>0</th>\n",
       "    </tr>\n",
       "  </thead>\n",
       "  <tbody>\n",
       "    <tr>\n",
       "      <th>0</th>\n",
       "      <td>Apr-2007</td>\n",
       "      <td>28</td>\n",
       "    </tr>\n",
       "    <tr>\n",
       "      <th>1</th>\n",
       "      <td>Apr-2008</td>\n",
       "      <td>323</td>\n",
       "    </tr>\n",
       "    <tr>\n",
       "      <th>2</th>\n",
       "      <td>Apr-2009</td>\n",
       "      <td>442</td>\n",
       "    </tr>\n",
       "    <tr>\n",
       "      <th>3</th>\n",
       "      <td>Apr-2010</td>\n",
       "      <td>752</td>\n",
       "    </tr>\n",
       "    <tr>\n",
       "      <th>4</th>\n",
       "      <td>Apr-2011</td>\n",
       "      <td>1911</td>\n",
       "    </tr>\n",
       "    <tr>\n",
       "      <th>5</th>\n",
       "      <td>Apr-2012</td>\n",
       "      <td>4304</td>\n",
       "    </tr>\n",
       "    <tr>\n",
       "      <th>6</th>\n",
       "      <td>Apr-2013</td>\n",
       "      <td>12676</td>\n",
       "    </tr>\n",
       "    <tr>\n",
       "      <th>7</th>\n",
       "      <td>Apr-2014</td>\n",
       "      <td>16866</td>\n",
       "    </tr>\n",
       "    <tr>\n",
       "      <th>8</th>\n",
       "      <td>Apr-2015</td>\n",
       "      <td>18228</td>\n",
       "    </tr>\n",
       "    <tr>\n",
       "      <th>9</th>\n",
       "      <td>Apr-2016</td>\n",
       "      <td>19759</td>\n",
       "    </tr>\n",
       "    <tr>\n",
       "      <th>10</th>\n",
       "      <td>Apr-2017</td>\n",
       "      <td>31218</td>\n",
       "    </tr>\n",
       "    <tr>\n",
       "      <th>11</th>\n",
       "      <td>Aug-2007</td>\n",
       "      <td>131</td>\n",
       "    </tr>\n",
       "    <tr>\n",
       "      <th>12</th>\n",
       "      <td>Aug-2008</td>\n",
       "      <td>380</td>\n",
       "    </tr>\n",
       "    <tr>\n",
       "      <th>13</th>\n",
       "      <td>Aug-2009</td>\n",
       "      <td>598</td>\n",
       "    </tr>\n",
       "    <tr>\n",
       "      <th>14</th>\n",
       "      <td>Aug-2010</td>\n",
       "      <td>1138</td>\n",
       "    </tr>\n",
       "    <tr>\n",
       "      <th>15</th>\n",
       "      <td>Aug-2011</td>\n",
       "      <td>2689</td>\n",
       "    </tr>\n",
       "    <tr>\n",
       "      <th>16</th>\n",
       "      <td>Aug-2012</td>\n",
       "      <td>7157</td>\n",
       "    </tr>\n",
       "    <tr>\n",
       "      <th>17</th>\n",
       "      <td>Aug-2013</td>\n",
       "      <td>15789</td>\n",
       "    </tr>\n",
       "    <tr>\n",
       "      <th>18</th>\n",
       "      <td>Aug-2014</td>\n",
       "      <td>16342</td>\n",
       "    </tr>\n",
       "    <tr>\n",
       "      <th>19</th>\n",
       "      <td>Aug-2015</td>\n",
       "      <td>18943</td>\n",
       "    </tr>\n",
       "    <tr>\n",
       "      <th>20</th>\n",
       "      <td>Aug-2016</td>\n",
       "      <td>18553</td>\n",
       "    </tr>\n",
       "    <tr>\n",
       "      <th>21</th>\n",
       "      <td>Aug-2017</td>\n",
       "      <td>57561</td>\n",
       "    </tr>\n",
       "    <tr>\n",
       "      <th>22</th>\n",
       "      <td>Dec-2001</td>\n",
       "      <td>1</td>\n",
       "    </tr>\n",
       "    <tr>\n",
       "      <th>23</th>\n",
       "      <td>Dec-2005</td>\n",
       "      <td>1</td>\n",
       "    </tr>\n",
       "    <tr>\n",
       "      <th>24</th>\n",
       "      <td>Dec-2007</td>\n",
       "      <td>171</td>\n",
       "    </tr>\n",
       "    <tr>\n",
       "      <th>25</th>\n",
       "      <td>Dec-2008</td>\n",
       "      <td>373</td>\n",
       "    </tr>\n",
       "    <tr>\n",
       "      <th>26</th>\n",
       "      <td>Dec-2009</td>\n",
       "      <td>557</td>\n",
       "    </tr>\n",
       "    <tr>\n",
       "      <th>27</th>\n",
       "      <td>Dec-2010</td>\n",
       "      <td>1281</td>\n",
       "    </tr>\n",
       "    <tr>\n",
       "      <th>28</th>\n",
       "      <td>Dec-2011</td>\n",
       "      <td>3074</td>\n",
       "    </tr>\n",
       "    <tr>\n",
       "      <th>29</th>\n",
       "      <td>Dec-2012</td>\n",
       "      <td>8603</td>\n",
       "    </tr>\n",
       "    <tr>\n",
       "      <th>...</th>\n",
       "      <td>...</td>\n",
       "      <td>...</td>\n",
       "    </tr>\n",
       "    <tr>\n",
       "      <th>107</th>\n",
       "      <td>Nov-2011</td>\n",
       "      <td>2982</td>\n",
       "    </tr>\n",
       "    <tr>\n",
       "      <th>108</th>\n",
       "      <td>Nov-2012</td>\n",
       "      <td>7306</td>\n",
       "    </tr>\n",
       "    <tr>\n",
       "      <th>109</th>\n",
       "      <td>Nov-2013</td>\n",
       "      <td>12526</td>\n",
       "    </tr>\n",
       "    <tr>\n",
       "      <th>110</th>\n",
       "      <td>Nov-2014</td>\n",
       "      <td>15174</td>\n",
       "    </tr>\n",
       "    <tr>\n",
       "      <th>111</th>\n",
       "      <td>Nov-2015</td>\n",
       "      <td>15422</td>\n",
       "    </tr>\n",
       "    <tr>\n",
       "      <th>112</th>\n",
       "      <td>Nov-2016</td>\n",
       "      <td>20468</td>\n",
       "    </tr>\n",
       "    <tr>\n",
       "      <th>113</th>\n",
       "      <td>Oct-2002</td>\n",
       "      <td>1</td>\n",
       "    </tr>\n",
       "    <tr>\n",
       "      <th>114</th>\n",
       "      <td>Oct-2007</td>\n",
       "      <td>96</td>\n",
       "    </tr>\n",
       "    <tr>\n",
       "      <th>115</th>\n",
       "      <td>Oct-2008</td>\n",
       "      <td>371</td>\n",
       "    </tr>\n",
       "    <tr>\n",
       "      <th>116</th>\n",
       "      <td>Oct-2009</td>\n",
       "      <td>442</td>\n",
       "    </tr>\n",
       "    <tr>\n",
       "      <th>117</th>\n",
       "      <td>Oct-2010</td>\n",
       "      <td>1080</td>\n",
       "    </tr>\n",
       "    <tr>\n",
       "      <th>118</th>\n",
       "      <td>Oct-2011</td>\n",
       "      <td>2800</td>\n",
       "    </tr>\n",
       "    <tr>\n",
       "      <th>119</th>\n",
       "      <td>Oct-2012</td>\n",
       "      <td>7501</td>\n",
       "    </tr>\n",
       "    <tr>\n",
       "      <th>120</th>\n",
       "      <td>Oct-2013</td>\n",
       "      <td>13934</td>\n",
       "    </tr>\n",
       "    <tr>\n",
       "      <th>121</th>\n",
       "      <td>Oct-2014</td>\n",
       "      <td>14784</td>\n",
       "    </tr>\n",
       "    <tr>\n",
       "      <th>122</th>\n",
       "      <td>Oct-2015</td>\n",
       "      <td>16342</td>\n",
       "    </tr>\n",
       "    <tr>\n",
       "      <th>123</th>\n",
       "      <td>Oct-2016</td>\n",
       "      <td>21835</td>\n",
       "    </tr>\n",
       "    <tr>\n",
       "      <th>124</th>\n",
       "      <td>Oct-2017</td>\n",
       "      <td>15421</td>\n",
       "    </tr>\n",
       "    <tr>\n",
       "      <th>125</th>\n",
       "      <td>Sep-2003</td>\n",
       "      <td>1</td>\n",
       "    </tr>\n",
       "    <tr>\n",
       "      <th>126</th>\n",
       "      <td>Sep-2007</td>\n",
       "      <td>140</td>\n",
       "    </tr>\n",
       "    <tr>\n",
       "      <th>127</th>\n",
       "      <td>Sep-2008</td>\n",
       "      <td>303</td>\n",
       "    </tr>\n",
       "    <tr>\n",
       "      <th>128</th>\n",
       "      <td>Sep-2009</td>\n",
       "      <td>551</td>\n",
       "    </tr>\n",
       "    <tr>\n",
       "      <th>129</th>\n",
       "      <td>Sep-2010</td>\n",
       "      <td>1062</td>\n",
       "    </tr>\n",
       "    <tr>\n",
       "      <th>130</th>\n",
       "      <td>Sep-2011</td>\n",
       "      <td>2639</td>\n",
       "    </tr>\n",
       "    <tr>\n",
       "      <th>131</th>\n",
       "      <td>Sep-2012</td>\n",
       "      <td>7224</td>\n",
       "    </tr>\n",
       "    <tr>\n",
       "      <th>132</th>\n",
       "      <td>Sep-2013</td>\n",
       "      <td>14411</td>\n",
       "    </tr>\n",
       "    <tr>\n",
       "      <th>133</th>\n",
       "      <td>Sep-2014</td>\n",
       "      <td>14597</td>\n",
       "    </tr>\n",
       "    <tr>\n",
       "      <th>134</th>\n",
       "      <td>Sep-2015</td>\n",
       "      <td>16838</td>\n",
       "    </tr>\n",
       "    <tr>\n",
       "      <th>135</th>\n",
       "      <td>Sep-2016</td>\n",
       "      <td>19660</td>\n",
       "    </tr>\n",
       "    <tr>\n",
       "      <th>136</th>\n",
       "      <td>Sep-2017</td>\n",
       "      <td>67273</td>\n",
       "    </tr>\n",
       "  </tbody>\n",
       "</table>\n",
       "<p>137 rows × 2 columns</p>\n",
       "</div>"
      ],
      "text/plain": [
       "    date_formatted      0\n",
       "0         Apr-2007     28\n",
       "1         Apr-2008    323\n",
       "2         Apr-2009    442\n",
       "3         Apr-2010    752\n",
       "4         Apr-2011   1911\n",
       "5         Apr-2012   4304\n",
       "6         Apr-2013  12676\n",
       "7         Apr-2014  16866\n",
       "8         Apr-2015  18228\n",
       "9         Apr-2016  19759\n",
       "10        Apr-2017  31218\n",
       "11        Aug-2007    131\n",
       "12        Aug-2008    380\n",
       "13        Aug-2009    598\n",
       "14        Aug-2010   1138\n",
       "15        Aug-2011   2689\n",
       "16        Aug-2012   7157\n",
       "17        Aug-2013  15789\n",
       "18        Aug-2014  16342\n",
       "19        Aug-2015  18943\n",
       "20        Aug-2016  18553\n",
       "21        Aug-2017  57561\n",
       "22        Dec-2001      1\n",
       "23        Dec-2005      1\n",
       "24        Dec-2007    171\n",
       "25        Dec-2008    373\n",
       "26        Dec-2009    557\n",
       "27        Dec-2010   1281\n",
       "28        Dec-2011   3074\n",
       "29        Dec-2012   8603\n",
       "..             ...    ...\n",
       "107       Nov-2011   2982\n",
       "108       Nov-2012   7306\n",
       "109       Nov-2013  12526\n",
       "110       Nov-2014  15174\n",
       "111       Nov-2015  15422\n",
       "112       Nov-2016  20468\n",
       "113       Oct-2002      1\n",
       "114       Oct-2007     96\n",
       "115       Oct-2008    371\n",
       "116       Oct-2009    442\n",
       "117       Oct-2010   1080\n",
       "118       Oct-2011   2800\n",
       "119       Oct-2012   7501\n",
       "120       Oct-2013  13934\n",
       "121       Oct-2014  14784\n",
       "122       Oct-2015  16342\n",
       "123       Oct-2016  21835\n",
       "124       Oct-2017  15421\n",
       "125       Sep-2003      1\n",
       "126       Sep-2007    140\n",
       "127       Sep-2008    303\n",
       "128       Sep-2009    551\n",
       "129       Sep-2010   1062\n",
       "130       Sep-2011   2639\n",
       "131       Sep-2012   7224\n",
       "132       Sep-2013  14411\n",
       "133       Sep-2014  14597\n",
       "134       Sep-2015  16838\n",
       "135       Sep-2016  19660\n",
       "136       Sep-2017  67273\n",
       "\n",
       "[137 rows x 2 columns]"
      ]
     },
     "execution_count": 17,
     "metadata": {},
     "output_type": "execute_result"
    }
   ],
   "source": [
    "num_months.reset_index()"
   ]
  },
  {
   "cell_type": "code",
   "execution_count": 18,
   "metadata": {
    "collapsed": true
   },
   "outputs": [],
   "source": [
    "counts_mo=num_months.tolist()"
   ]
  },
  {
   "cell_type": "code",
   "execution_count": 19,
   "metadata": {},
   "outputs": [
    {
     "data": {
      "text/plain": [
       "list"
      ]
     },
     "execution_count": 19,
     "metadata": {},
     "output_type": "execute_result"
    }
   ],
   "source": [
    "type(counts_mo)"
   ]
  },
  {
   "cell_type": "code",
   "execution_count": 20,
   "metadata": {
    "collapsed": true
   },
   "outputs": [],
   "source": [
    "blah['counts']=counts_mo"
   ]
  },
  {
   "cell_type": "code",
   "execution_count": 21,
   "metadata": {},
   "outputs": [
    {
     "data": {
      "text/html": [
       "<div>\n",
       "<style>\n",
       "    .dataframe thead tr:only-child th {\n",
       "        text-align: right;\n",
       "    }\n",
       "\n",
       "    .dataframe thead th {\n",
       "        text-align: left;\n",
       "    }\n",
       "\n",
       "    .dataframe tbody tr th {\n",
       "        vertical-align: top;\n",
       "    }\n",
       "</style>\n",
       "<table border=\"1\" class=\"dataframe\">\n",
       "  <thead>\n",
       "    <tr style=\"text-align: right;\">\n",
       "      <th></th>\n",
       "      <th>reviews</th>\n",
       "      <th>review_bag</th>\n",
       "      <th>review_date_frequency</th>\n",
       "      <th>counts</th>\n",
       "    </tr>\n",
       "    <tr>\n",
       "      <th>date_formatted</th>\n",
       "      <th></th>\n",
       "      <th></th>\n",
       "      <th></th>\n",
       "      <th></th>\n",
       "    </tr>\n",
       "  </thead>\n",
       "  <tbody>\n",
       "    <tr>\n",
       "      <th>Apr-2007</th>\n",
       "      <td>Quinton Murphy knows what he likes and what he...</td>\n",
       "      <td>[rich, series, series, series, england, france...</td>\n",
       "      <td>{'rich': 1, 'series': 9, 'england': 1, 'france...</td>\n",
       "      <td>28</td>\n",
       "    </tr>\n",
       "    <tr>\n",
       "      <th>Apr-2008</th>\n",
       "      <td>The 4th and final book in the Chesapeake Bay /...</td>\n",
       "      <td>[series, series, series, wedding, series, para...</td>\n",
       "      <td>{'series': 105, 'wedding': 15, 'paranormal': 3...</td>\n",
       "      <td>323</td>\n",
       "    </tr>\n",
       "    <tr>\n",
       "      <th>Apr-2009</th>\n",
       "      <td>A great story filled with romance and tenderne...</td>\n",
       "      <td>[series, california, series, military, series,...</td>\n",
       "      <td>{'series': 180, 'california': 3, 'military': 3...</td>\n",
       "      <td>442</td>\n",
       "    </tr>\n",
       "    <tr>\n",
       "      <th>Apr-2010</th>\n",
       "      <td>It did nothing for me. The aspect of 'small to...</td>\n",
       "      <td>[millionaire, series, series, series, series, ...</td>\n",
       "      <td>{'millionaire': 3, 'series': 258, 'debut': 3, ...</td>\n",
       "      <td>752</td>\n",
       "    </tr>\n",
       "    <tr>\n",
       "      <th>Apr-2011</th>\n",
       "      <td>Simple Irresistible is the first book in the C...</td>\n",
       "      <td>[series, series, series, series, wedding, seri...</td>\n",
       "      <td>{'series': 665, 'wedding': 43, 'europe': 9, 'j...</td>\n",
       "      <td>1911</td>\n",
       "    </tr>\n",
       "  </tbody>\n",
       "</table>\n",
       "</div>"
      ],
      "text/plain": [
       "                                                          reviews  \\\n",
       "date_formatted                                                      \n",
       "Apr-2007        Quinton Murphy knows what he likes and what he...   \n",
       "Apr-2008        The 4th and final book in the Chesapeake Bay /...   \n",
       "Apr-2009        A great story filled with romance and tenderne...   \n",
       "Apr-2010        It did nothing for me. The aspect of 'small to...   \n",
       "Apr-2011        Simple Irresistible is the first book in the C...   \n",
       "\n",
       "                                                       review_bag  \\\n",
       "date_formatted                                                      \n",
       "Apr-2007        [rich, series, series, series, england, france...   \n",
       "Apr-2008        [series, series, series, wedding, series, para...   \n",
       "Apr-2009        [series, california, series, military, series,...   \n",
       "Apr-2010        [millionaire, series, series, series, series, ...   \n",
       "Apr-2011        [series, series, series, series, wedding, seri...   \n",
       "\n",
       "                                            review_date_frequency  counts  \n",
       "date_formatted                                                             \n",
       "Apr-2007        {'rich': 1, 'series': 9, 'england': 1, 'france...      28  \n",
       "Apr-2008        {'series': 105, 'wedding': 15, 'paranormal': 3...     323  \n",
       "Apr-2009        {'series': 180, 'california': 3, 'military': 3...     442  \n",
       "Apr-2010        {'millionaire': 3, 'series': 258, 'debut': 3, ...     752  \n",
       "Apr-2011        {'series': 665, 'wedding': 43, 'europe': 9, 'j...    1911  "
      ]
     },
     "execution_count": 21,
     "metadata": {},
     "output_type": "execute_result"
    }
   ],
   "source": [
    "blah.head()"
   ]
  },
  {
   "cell_type": "code",
   "execution_count": 23,
   "metadata": {
    "collapsed": true
   },
   "outputs": [],
   "source": [
    "blah.to_pickle(\"review_word_frequency_by_month_bigger.pkl\")"
   ]
  },
  {
   "cell_type": "code",
   "execution_count": null,
   "metadata": {
    "collapsed": true
   },
   "outputs": [],
   "source": [
    "blah[\"review_date_frequency\"].map(lambda x: x.get(\"cowboy\"))"
   ]
  },
  {
   "cell_type": "markdown",
   "metadata": {},
   "source": [
    "Old way (all smushed together)"
   ]
  },
  {
   "cell_type": "code",
   "execution_count": null,
   "metadata": {
    "collapsed": true
   },
   "outputs": [],
   "source": []
  },
  {
   "cell_type": "code",
   "execution_count": null,
   "metadata": {
    "collapsed": true
   },
   "outputs": [],
   "source": [
    "books[\"reviews_together\"]= books[\"reviews\"].map(lambda x:\" \".join(x))  "
   ]
  },
  {
   "cell_type": "code",
   "execution_count": null,
   "metadata": {
    "collapsed": true
   },
   "outputs": [],
   "source": [
    "tfReviews = TfidfVectorizer(analyzer='word',min_df=1, stop_words = 'english')"
   ]
  },
  {
   "cell_type": "code",
   "execution_count": null,
   "metadata": {
    "collapsed": true
   },
   "outputs": [],
   "source": [
    "transformed_reviews= tfReviews.fit_transform(books[\"reviews_together\"])"
   ]
  },
  {
   "cell_type": "code",
   "execution_count": null,
   "metadata": {
    "collapsed": true
   },
   "outputs": [],
   "source": [
    "transformed_reviews"
   ]
  },
  {
   "cell_type": "code",
   "execution_count": null,
   "metadata": {
    "collapsed": true
   },
   "outputs": [],
   "source": [
    "regrReviews = linear_model.LinearRegression()"
   ]
  },
  {
   "cell_type": "code",
   "execution_count": null,
   "metadata": {
    "collapsed": true
   },
   "outputs": [],
   "source": [
    "regrReviews.fit(transformed_reviews, books[\"rating\"])"
   ]
  },
  {
   "cell_type": "code",
   "execution_count": null,
   "metadata": {
    "collapsed": true
   },
   "outputs": [],
   "source": [
    "resultReviews= pd.DataFrame({\"coef\":regrReviews.coef_,\"labels\":tfReviews.get_feature_names()})"
   ]
  },
  {
   "cell_type": "code",
   "execution_count": null,
   "metadata": {
    "collapsed": true
   },
   "outputs": [],
   "source": [
    "resultReviews.head()"
   ]
  },
  {
   "cell_type": "code",
   "execution_count": null,
   "metadata": {
    "collapsed": true
   },
   "outputs": [],
   "source": [
    "resultReviews[\"count\"]=resultReviews[\"labels\"].map(lambda x: corpus_frequency.get(x))"
   ]
  },
  {
   "cell_type": "code",
   "execution_count": null,
   "metadata": {
    "collapsed": true
   },
   "outputs": [],
   "source": [
    "resultReviews.to_pickle(\"Reviews_ratings.pkl\")"
   ]
  },
  {
   "cell_type": "code",
   "execution_count": null,
   "metadata": {
    "collapsed": true
   },
   "outputs": [],
   "source": [
    "resultReviews.sort_values(\"coef\",inplace=True,ascending=True)"
   ]
  },
  {
   "cell_type": "code",
   "execution_count": null,
   "metadata": {
    "collapsed": true
   },
   "outputs": [],
   "source": [
    "resultReviews.head()"
   ]
  },
  {
   "cell_type": "code",
   "execution_count": null,
   "metadata": {
    "collapsed": true
   },
   "outputs": [],
   "source": [
    "resultReviews[resultReviews[\"count\"]>10]"
   ]
  },
  {
   "cell_type": "code",
   "execution_count": null,
   "metadata": {
    "collapsed": true
   },
   "outputs": [],
   "source": [
    "sortthis = resultReviews.sort_values(\"count\",ascending=False)"
   ]
  },
  {
   "cell_type": "code",
   "execution_count": null,
   "metadata": {
    "collapsed": true
   },
   "outputs": [],
   "source": [
    "sortthis.head(50)"
   ]
  },
  {
   "cell_type": "code",
   "execution_count": null,
   "metadata": {
    "collapsed": true
   },
   "outputs": [],
   "source": []
  }
 ],
 "metadata": {
  "kernelspec": {
   "display_name": "Python 3",
   "language": "python",
   "name": "python3"
  },
  "language_info": {
   "codemirror_mode": {
    "name": "ipython",
    "version": 3
   },
   "file_extension": ".py",
   "mimetype": "text/x-python",
   "name": "python",
   "nbconvert_exporter": "python",
   "pygments_lexer": "ipython3",
   "version": "3.5.5"
  }
 },
 "nbformat": 4,
 "nbformat_minor": 1
}
