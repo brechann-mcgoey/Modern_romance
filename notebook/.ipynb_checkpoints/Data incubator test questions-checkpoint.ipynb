{
 "cells": [
  {
   "cell_type": "code",
   "execution_count": 1,
   "metadata": {
    "collapsed": true
   },
   "outputs": [],
   "source": [
    "import pandas as pd"
   ]
  },
  {
   "cell_type": "code",
   "execution_count": 2,
   "metadata": {},
   "outputs": [
    {
     "name": "stderr",
     "output_type": "stream",
     "text": [
      "/Users/brechann/anaconda/lib/python3.5/site-packages/IPython/core/interactiveshell.py:3006: DtypeWarning: Columns (1537,1540,1542,1561,1575,1606,1614,1615,1729) have mixed types. Specify dtype option on import or set low_memory=False.\n",
      "  if self.run_code(code, result):\n"
     ]
    }
   ],
   "source": [
    "df=pd.DataFrame.from_csv(\"/Users/brechann/Documents/MERGED2013_14_PP.csv\")"
   ]
  },
  {
   "cell_type": "code",
   "execution_count": 4,
   "metadata": {},
   "outputs": [
    {
     "data": {
      "text/plain": [
       "Index(['OPEID', 'OPEID6', 'INSTNM', 'CITY', 'STABBR', 'ZIP', 'ACCREDAGENCY',\n",
       "       'INSTURL', 'NPCURL', 'SCH_DEG',\n",
       "       ...\n",
       "       'D100_L4', 'TRANS_4', 'DTRANS_4', 'TRANS_L4', 'DTRANS_L4', 'ICLEVEL',\n",
       "       'UGDS_MEN', 'UGDS_WOMEN', 'CDR3_DENOM', 'CDR2_DENOM'],\n",
       "      dtype='object', length=1742)"
      ]
     },
     "execution_count": 4,
     "metadata": {},
     "output_type": "execute_result"
    }
   ],
   "source": [
    "df.columns"
   ]
  },
  {
   "cell_type": "code",
   "execution_count": 5,
   "metadata": {},
   "outputs": [
    {
     "name": "stdout",
     "output_type": "stream",
     "text": [
      "Index(['OPEID', 'OPEID6', 'INSTNM', 'CITY', 'STABBR', 'ZIP', 'ACCREDAGENCY',\n",
      "       'INSTURL', 'NPCURL', 'SCH_DEG',\n",
      "       ...\n",
      "       'D100_L4', 'TRANS_4', 'DTRANS_4', 'TRANS_L4', 'DTRANS_L4', 'ICLEVEL',\n",
      "       'UGDS_MEN', 'UGDS_WOMEN', 'CDR3_DENOM', 'CDR2_DENOM'],\n",
      "      dtype='object', length=1742)\n"
     ]
    }
   ],
   "source": [
    "print(df.columns)"
   ]
  },
  {
   "cell_type": "code",
   "execution_count": 6,
   "metadata": {},
   "outputs": [
    {
     "data": {
      "text/plain": [
       "﻿UNITID\n",
       "100654      0.0279\n",
       "100663      0.5987\n",
       "100690      0.2919\n",
       "100706      0.7012\n",
       "100724      0.0161\n",
       "100751      0.7865\n",
       "100760      0.6785\n",
       "100812      0.7513\n",
       "100830      0.5532\n",
       "100858      0.8543\n",
       "100937      0.8103\n",
       "101028      0.4675\n",
       "101073      0.0115\n",
       "101116      0.2988\n",
       "101143      0.6411\n",
       "101161      0.7104\n",
       "101189      0.3919\n",
       "101240      0.6792\n",
       "101277      0.9326\n",
       "101286      0.6306\n",
       "101295      0.8750\n",
       "101301      0.2163\n",
       "101365      0.3491\n",
       "101435      0.5845\n",
       "101453      0.7313\n",
       "101462      0.3096\n",
       "101480      0.6655\n",
       "101499      0.5853\n",
       "101505      0.6894\n",
       "101514      0.6627\n",
       "             ...  \n",
       "45897302       NaN\n",
       "45897303       NaN\n",
       "45897304       NaN\n",
       "45897305       NaN\n",
       "45897306       NaN\n",
       "45897307       NaN\n",
       "45897308       NaN\n",
       "45920401       NaN\n",
       "46163401       NaN\n",
       "46163402       NaN\n",
       "46163403       NaN\n",
       "46163404       NaN\n",
       "47647001       NaN\n",
       "47657701       NaN\n",
       "47657702       NaN\n",
       "47691101       NaN\n",
       "47701101       NaN\n",
       "47702001       NaN\n",
       "47702002       NaN\n",
       "47702003       NaN\n",
       "48065701       NaN\n",
       "48154401       NaN\n",
       "48158001       NaN\n",
       "48285701       NaN\n",
       "48285702       NaN\n",
       "48285703       NaN\n",
       "48285704       NaN\n",
       "48285705       NaN\n",
       "48285706       NaN\n",
       "48285707       NaN\n",
       "Name: UGDS_WHITE, dtype: float64"
      ]
     },
     "execution_count": 6,
     "metadata": {},
     "output_type": "execute_result"
    }
   ],
   "source": [
    "df[\"UGDS_WHITE\"]"
   ]
  },
  {
   "cell_type": "code",
   "execution_count": null,
   "metadata": {
    "collapsed": true
   },
   "outputs": [],
   "source": []
  }
 ],
 "metadata": {
  "kernelspec": {
   "display_name": "Python 3",
   "language": "python",
   "name": "python3"
  },
  "language_info": {
   "codemirror_mode": {
    "name": "ipython",
    "version": 3
   },
   "file_extension": ".py",
   "mimetype": "text/x-python",
   "name": "python",
   "nbconvert_exporter": "python",
   "pygments_lexer": "ipython3",
   "version": "3.6.1"
  }
 },
 "nbformat": 4,
 "nbformat_minor": 1
}
