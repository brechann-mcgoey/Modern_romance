{
 "cells": [
  {
   "cell_type": "markdown",
   "metadata": {},
   "source": [
    "Trying with just two pages to see what is going on "
   ]
  },
  {
   "cell_type": "code",
   "execution_count": 1,
   "metadata": {
    "collapsed": true
   },
   "outputs": [],
   "source": [
    "from scrape import *\n",
    "import pandas as pd\n",
    "from bs4 import BeautifulSoup"
   ]
  },
  {
   "cell_type": "code",
   "execution_count": 2,
   "metadata": {
    "collapsed": true
   },
   "outputs": [],
   "source": [
    "df = pd.DataFrame()\n",
    "list_address=\"https://www.goodreads.com/list/show/12362.All_Time_Favorite_Romance_Novels\""
   ]
  },
  {
   "cell_type": "code",
   "execution_count": 3,
   "metadata": {
    "collapsed": true
   },
   "outputs": [],
   "source": [
    "list_response = requests.get(list_address)\n",
    "\n"
   ]
  },
  {
   "cell_type": "code",
   "execution_count": 7,
   "metadata": {},
   "outputs": [
    {
     "name": "stdout",
     "output_type": "stream",
     "text": [
      "\n",
      "ok http://www.goodreads.com/list/show/12362.All_Time_Favorite_Romance_Novels?page=2\n",
      "http://www.goodreads.com/list/show/12362.All_Time_Favorite_Romance_Novels?page=2\n"
     ]
    }
   ],
   "source": [
    "if list_response.status_code == 200:\n",
    "    print(\"\")\n",
    "    print(\"ok\",list_address)\n",
    "    soup = BeautifulSoup(list_response.text,\"lxml\")\n",
    "    book_links = [\"http://www.goodreads.com\" + book[\"href\"] for book in soup.find_all(\"a\",class_=\"bookTitle\")]\n",
    "\n",
    "\n",
    "    #try:\n",
    "    list_address = \"http://www.goodreads.com\"+ soup.find('a',class_='next_page')['href']\n",
    "    print(list_address)\n",
    "    #except:\n",
    "        #list_address = \"\"\n",
    "else:\n",
    "    print(\"website not found\")\n",
    "\n",
    "    "
   ]
  },
  {
   "cell_type": "code",
   "execution_count": 6,
   "metadata": {
    "collapsed": true
   },
   "outputs": [],
   "source": [
    "df2 = pd.DataFrame()"
   ]
  },
  {
   "cell_type": "code",
   "execution_count": 5,
   "metadata": {},
   "outputs": [
    {
     "name": "stdout",
     "output_type": "stream",
     "text": [
      "http://www.goodreads.com/book/show/10818853-fifty-shades-of-grey\n",
      "http://www.goodreads.com/book/show/11505797-beautiful-disaster\n",
      "http://www.goodreads.com/book/show/1885.Pride_and_Prejudice\n",
      "http://www.goodreads.com/book/show/41865.Twilight\n",
      "http://www.goodreads.com/book/show/4268157-perfect-chemistry\n",
      "http://www.goodreads.com/book/show/15931.The_Notebook\n",
      "http://www.goodreads.com/book/show/13517535-thoughtless\n",
      "http://www.goodreads.com/book/show/10964.Outlander\n",
      "http://www.goodreads.com/book/show/20448515-bared-to-you\n",
      "http://www.goodreads.com/book/show/10210.Jane_Eyre\n",
      "http://www.goodreads.com/book/show/16056408-easy\n",
      "http://www.goodreads.com/book/show/10140661-gabriel-s-inferno\n",
      "http://www.goodreads.com/book/show/18405.Gone_with_the_Wind\n",
      "http://www.goodreads.com/book/show/13372690-slammed\n",
      "http://www.goodreads.com/book/show/18619684-the-time-traveler-s-wife\n",
      "http://www.goodreads.com/book/show/6936382-anna-and-the-french-kiss\n",
      "http://www.goodreads.com/book/show/18660669-vampire-academy\n",
      "http://www.goodreads.com/book/show/42899.Dark_Lover\n",
      "http://www.goodreads.com/book/show/6339664-hush-hush\n",
      "http://www.goodreads.com/book/show/3473.A_Walk_to_Remember\n",
      "http://www.goodreads.com/book/show/1656001.The_Host\n",
      "http://www.goodreads.com/book/show/13335037-divergent\n",
      "http://www.goodreads.com/book/show/256683.City_of_Bones\n",
      "http://www.goodreads.com/book/show/6185.Wuthering_Heights\n",
      "http://www.goodreads.com/book/show/8204005-love-unscripted\n",
      "http://www.goodreads.com/book/show/11870085-the-fault-in-our-stars\n",
      "http://www.goodreads.com/book/show/2156.Persuasion\n",
      "http://www.goodreads.com/book/show/12578077-obsidian\n",
      "http://www.goodreads.com/book/show/6068551-shiver\n",
      "http://www.goodreads.com/book/show/14935.Sense_and_Sensibility\n",
      "http://www.goodreads.com/book/show/15505346-on-the-island\n",
      "http://www.goodreads.com/book/show/15717943-hopeless\n",
      "http://www.goodreads.com/book/show/930.Memoirs_of_a_Geisha\n",
      "http://www.goodreads.com/book/show/15760001-on-dublin-street\n",
      "http://www.goodreads.com/book/show/1421990.Halfway_to_the_Grave\n",
      "http://www.goodreads.com/book/show/51737.The_Truth_About_Forever\n",
      "http://www.goodreads.com/book/show/11561469-reason-to-breathe\n",
      "http://www.goodreads.com/book/show/83144.The_Bronze_Horseman\n",
      "http://www.goodreads.com/book/show/43641.Water_for_Elephants\n",
      "http://www.goodreads.com/book/show/11096647-flat-out-love\n",
      "http://www.goodreads.com/book/show/544424.Leaving_Paradise\n",
      "http://www.goodreads.com/book/show/7735333-matched\n",
      "http://www.goodreads.com/book/show/73086.Kiss_an_Angel\n",
      "http://www.goodreads.com/book/show/12900174-the-vincent-boys\n",
      "http://www.goodreads.com/book/show/7171637-clockwork-angel\n",
      "http://www.goodreads.com/book/show/73070.It_Had_to_Be_You\n",
      "http://www.goodreads.com/book/show/16282066-significance\n",
      "http://www.goodreads.com/book/show/6931356-the-duff\n",
      "http://www.goodreads.com/book/show/6969.Emma\n",
      "http://www.goodreads.com/book/show/129619.A_Kingdom_of_Dreams\n",
      "http://www.goodreads.com/book/show/6642402-something-about-you\n",
      "http://www.goodreads.com/book/show/5664985-along-for-the-ride\n",
      "http://www.goodreads.com/book/show/5821978-the-summer-i-turned-pretty\n",
      "http://www.goodreads.com/book/show/16081272-the-edge-of-never\n",
      "http://www.goodreads.com/book/show/11479285-breathe\n",
      "http://www.goodreads.com/book/show/3863861-just-the-sexiest-man-alive\n",
      "http://www.goodreads.com/book/show/22205.This_Lullaby\n",
      "http://www.goodreads.com/book/show/12299419-mystery-man\n",
      "http://www.goodreads.com/book/show/18135.Romeo_and_Juliet\n",
      "http://www.goodreads.com/book/show/4570679-going-too-far\n",
      "http://www.goodreads.com/book/show/107779.The_Bride\n",
      "http://www.goodreads.com/book/show/10429045-shatter-me\n",
      "http://www.goodreads.com/book/show/7600924-forbidden\n",
      "http://www.goodreads.com/book/show/9888775-catching-jordan\n",
      "http://www.goodreads.com/book/show/11227041-the-gamble\n",
      "http://www.goodreads.com/book/show/479309.Naked_in_Death\n",
      "http://www.goodreads.com/book/show/33724.Can_You_Keep_a_Secret_\n",
      "http://www.goodreads.com/book/show/13223520-existence\n",
      "http://www.goodreads.com/book/show/306364.Sugar_Daddy\n",
      "http://www.goodreads.com/book/show/854757.Bet_Me\n",
      "http://www.goodreads.com/book/show/2761356-the-sweet-gum-tree\n",
      "http://www.goodreads.com/book/show/7129588-forget-you\n",
      "http://www.goodreads.com/book/show/9279734-forever-mine\n",
      "http://www.goodreads.com/book/show/11381643-playing-for-keeps\n",
      "http://www.goodreads.com/book/show/8341567-the-perfect-play\n",
      "http://www.goodreads.com/book/show/16070903-fallen-too-far\n",
      "http://www.goodreads.com/book/show/6604794-the-sky-is-everywhere\n",
      "http://www.goodreads.com/book/show/5082599-practice-makes-perfect\n",
      "http://www.goodreads.com/book/show/6538757-rock-chick\n",
      "http://www.goodreads.com/book/show/15858248-wallbanger\n",
      "http://www.goodreads.com/book/show/16168721-that-boy\n",
      "http://www.goodreads.com/book/show/10295484-heart-on-a-chain\n",
      "http://www.goodreads.com/book/show/1295102.Lock_and_Key\n",
      "http://www.goodreads.com/book/show/13628209-the-boy-who-sneaks-in-my-bedroom-window\n",
      "http://www.goodreads.com/book/show/5287473-hex-hall\n",
      "http://www.goodreads.com/book/show/6487308-fallen\n",
      "http://www.goodreads.com/book/show/227443.Bridget_Jones_s_Diary\n",
      "http://www.goodreads.com/book/show/11614718-delirium\n",
      "http://www.goodreads.com/book/show/17314430-wait-for-you\n",
      "http://www.goodreads.com/book/show/476543.The_Darkest_Night\n",
      "http://www.goodreads.com/book/show/10801027-cross-my-heart\n",
      "http://www.goodreads.com/book/show/35729.Lover_Eternal\n",
      "http://www.goodreads.com/book/show/8599748-trust-in-advertising\n",
      "http://www.goodreads.com/book/show/5981872-the-madness-of-lord-ian-mackenzie\n",
      "http://www.goodreads.com/book/show/8437379-call-me-irresistible\n",
      "http://www.goodreads.com/book/show/178476.Slave_to_Sensation\n",
      "http://www.goodreads.com/book/show/8379374-backstage-pass\n",
      "http://www.goodreads.com/book/show/10194514-pushing-the-limits\n",
      "http://www.goodreads.com/book/show/12805465-taking-shots\n",
      "http://www.goodreads.com/book/show/2679633-pleasure-unbound\n"
     ]
    }
   ],
   "source": [
    "for num, link in enumerate(book_links):\n",
    "\n",
    "        book_results = parse_page(link)\n",
    "        print(link)\n",
    "\n",
    "        df=df.append(pd.DataFrame(book_results),ignore_index=True)\n",
    "        df2=df2.append(pd.DataFrame(book_results),ignore_index=True)\n",
    "        df.to_pickle(\"alltime_romance_test.pkl\")"
   ]
  },
  {
   "cell_type": "code",
   "execution_count": null,
   "metadata": {
    "collapsed": true
   },
   "outputs": [],
   "source": []
  }
 ],
 "metadata": {
  "kernelspec": {
   "display_name": "Python 3",
   "language": "python",
   "name": "python3"
  },
  "language_info": {
   "codemirror_mode": {
    "name": "ipython",
    "version": 3
   },
   "file_extension": ".py",
   "mimetype": "text/x-python",
   "name": "python",
   "nbconvert_exporter": "python",
   "pygments_lexer": "ipython3",
   "version": "3.5.5"
  }
 },
 "nbformat": 4,
 "nbformat_minor": 2
}
