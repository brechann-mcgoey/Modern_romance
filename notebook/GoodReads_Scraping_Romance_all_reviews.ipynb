{
 "cells": [
  {
   "cell_type": "code",
   "execution_count": 28,
   "metadata": {
    "collapsed": true
   },
   "outputs": [],
   "source": [
    "from bs4 import BeautifulSoup\n",
    "import pandas as pd\n",
    "import requests\n",
    "import matplotlib.pyplot as plt\n",
    "import codecs\n",
    "%matplotlib inline  "
   ]
  },
  {
   "cell_type": "code",
   "execution_count": 68,
   "metadata": {
    "collapsed": true
   },
   "outputs": [],
   "source": [
    "def review_parse(review):\n",
    "    review_id=review['id']\n",
    "    reviewer_name=review.find('a',class_='user').get_text()\n",
    "    review_date=review.find('a',class_='reviewDate').get_text()\n",
    "    score_dict={\"it was amazing\":5,\"really liked it\":4,\"liked it\":3,\"it was ok\":2,\"did not like it\":1}\n",
    "    reviewer_rating=review.find('span',class_='staticStar',text=True).get_text()\n",
    "    reviewer_score=score_dict[reviewer_rating]\n",
    "    review_boxes=review.findAll('span', class_='readable')[0].findAll('span')\n",
    "    review_text=[review_box.get_text() for review_box in review_boxes[min(1,len(review_boxes)-1):]]\n",
    "    \n",
    "    return ([review_id],[reviewer_name],[review_date],[reviewer_rating],[reviewer_score],[review_text])\n",
    "    "
   ]
  },
  {
   "cell_type": "code",
   "execution_count": 79,
   "metadata": {
    "collapsed": true
   },
   "outputs": [],
   "source": [
    "p = requests.get(\"https://www.goodreads.com/book/show/9361589-the-night-circus\"+\"?sort=newest&text_only=true\")\n",
    "soupit = BeautifulSoup(p.text,\"lxml\")\n",
    "test1=soupit.find('div',class_='review')"
   ]
  },
  {
   "cell_type": "code",
   "execution_count": 80,
   "metadata": {},
   "outputs": [
    {
     "data": {
      "text/plain": [
       "(['review_1963503865'],\n",
       " ['Marysia Anna'],\n",
       " ['May 12, 2017'],\n",
       " ['really liked it'],\n",
       " [4],\n",
       " [[\"I had high expectations for this book, but I was slightly disappointed (note: slightly). I finished most of this (312 pages!) this afternoon. I felt a 'Caraval' vibe at first, but then...Ceila and Marco happened. My thoughts:1. I thought they were supposed to be opponents? 2. Where did it come from?3. Why does it feel so rushed?4. What about Isobel?I would've rated this 5 stars, but I wasn't a fan of their relationship. Though, the rest was great. The circus concept was really mysterious and cool. The other characters (Bailey, Poppet, and Widget) were great as well. \"]])"
      ]
     },
     "execution_count": 80,
     "metadata": {},
     "output_type": "execute_result"
    }
   ],
   "source": [
    "review_parse(test1)"
   ]
  },
  {
   "cell_type": "code",
   "execution_count": 81,
   "metadata": {
    "collapsed": true
   },
   "outputs": [],
   "source": [
    "def reviews_find(soupy,book_address):\n",
    "     \n",
    "    review_ids=[]\n",
    "    reviewer_names=[]\n",
    "    review_dates=[]\n",
    "    reviewer_ratings=[]\n",
    "    reviewer_scores=[]\n",
    "    review_texts=[]    \n",
    "    \n",
    "    book_address=book_address+\"?sort=newest&text_only=true\"\n",
    "    while book_address:\n",
    "\n",
    "        response = requests.get(book_address)\n",
    "\n",
    "        if response.status_code == 200:\n",
    "            #print(\"\")\n",
    "            #print(\"ok\",book_address)\n",
    "            soup = BeautifulSoup(codecs.getdecoder(\"unicode_escape\")(response.text)[0],\"lxml\")    \n",
    "            \n",
    "            for review in soup.findAll('div', class_=\"review\"):\n",
    "                if \"rated it\" in review.get_text(): \n",
    "                    result=review_parse(review)\n",
    "                    review_ids=review_ids+result[0]\n",
    "                    reviewer_names=reviewer_names+result[1]\n",
    "                    review_dates=review_dates+result[2]\n",
    "                    reviewer_ratings=reviewer_ratings+result[3]\n",
    "                    reviewer_scores=reviewer_scores+result[4]\n",
    "                    review_texts=review_texts+result[5] \n",
    "          \n",
    "\n",
    "            try:\n",
    "                if book_address == \"http://www.goodreads.com\"+ soup.findAll('a', \n",
    "                                class_=\"next_page\")[0]['onclick'].split(\"'\")[1]:\n",
    "                    book_address = \"\"\n",
    "                else:\n",
    "                    book_address = \"http://www.goodreads.com\"+ soup.findAll('a', \n",
    "                                class_=\"next_page\")[0]['onclick'].split(\"'\")[1]\n",
    "                \n",
    "            except:\n",
    "                book_address = \"\"\n",
    "        else:\n",
    "            print(\"reviews not found\")\n",
    "            \n",
    "    return [review_ids],[reviewer_names],[review_dates], [reviewer_ratings],[reviewer_scores],[review_texts]\n",
    "    "
   ]
  },
  {
   "cell_type": "code",
   "execution_count": 82,
   "metadata": {
    "collapsed": true
   },
   "outputs": [],
   "source": [
    "def isbn_find (soupy):\n",
    "    if soupy.findAll('div',class_=\"infoBoxRowTitle\")[0].get_text()=='ISBN':\n",
    "        isbn = soupy.findAll('div',class_=\"infoBoxRowItem\")[0].get_text().split(\"\\n\")[1].strip()\n",
    "    elif soupy.findAll('div',class_=\"infoBoxRowTitle\")[1].get_text()=='ISBN':\n",
    "         isbn = soupy.findAll('div',class_=\"infoBoxRowItem\")[1].get_text().split(\"\\n\")[1].strip()\n",
    "    else: isbn = 'NA'\n",
    "    return isbn"
   ]
  },
  {
   "cell_type": "code",
   "execution_count": 88,
   "metadata": {
    "collapsed": true
   },
   "outputs": [],
   "source": [
    "def parse_page (link):\n",
    "    \"\"\"\n",
    "    website_response in unicode text -> dictionary of attributes\n",
    "    \n",
    "    \"\"\"\n",
    "    webpage = requests.get(link)\n",
    "    book = {}\n",
    "    \n",
    "    soup = BeautifulSoup(webpage.text, \"lxml\")\n",
    "    \n",
    "    try:\n",
    "        book[\"title\"] = [soup.find('h1',class_='bookTitle').get_text().strip()]\n",
    "    except:\n",
    "        book[\"title\"] =[\"\"]\n",
    "    \n",
    "    try:\n",
    "        book[\"authors\"] = [[author.get_text().strip() \n",
    "                       for author in soup.findAll('a',class_=\"authorName\")]]\n",
    "    except:\n",
    "        book[\"authors\"] = [\"\"]\n",
    "    \n",
    "    try:\n",
    "        book[\"rating\"] = [soup.find('span',class_=\"value rating\").get_text().strip()]\n",
    "    except:\n",
    "        book[\"rating\"] = [\"\"]\n",
    "    \n",
    "    try:\n",
    "        book[\"isbn\"] = [isbn_find(soup)]\n",
    "    except:\n",
    "        book[\"isbn\"] = [\"\"]\n",
    "    \n",
    "    try:\n",
    "        book[\"date\"] = [soup.findAll('div',class_=\"row\")[1].get_text().split(\"\\n\")[2].strip()]\n",
    "    except:\n",
    "        book[\"date\"] = [\"\"]\n",
    "    \n",
    "    try:\n",
    "        book[\"description\"] = [soup.find('div',class_=\"readable stacked\").findAll('span')[-1].get_text()]\n",
    "    except:\n",
    "        book[\"description\"] = [\"\"]\n",
    "    \n",
    "    try:\n",
    "        book[\"awards\"] = [[award.get_text() for award in soup.findAll('a',class_=\"award\")]]\n",
    "    except:\n",
    "        book[\"awards\"] = [\"\"]\n",
    "    \n",
    "    #result=reviews_find(soup,link)\n",
    "    #try:\n",
    "    result=reviews_find(soup,link)\n",
    "    book[\"review_ids\"]=result[0]\n",
    "    book[\"reviewer_names\"]=result[1]\n",
    "    book[\"review_dates\"]=result[2]\n",
    "    book[\"reviewer_ratings\"]=result[3]\n",
    "    book[\"reviewer_scores\"]=result[4]\n",
    "    book[\"review_texts\"]=result[5] \n",
    "    #except:\n",
    "        #book[\"review_ids\"]=[\"\"]\n",
    "        #book[\"reviewer_names\"]=[\"\"]\n",
    "        #book[\"review_dates\"]=[\"\"]\n",
    "        #book[\"reviewer_ratings\"]=[\"\"]\n",
    "       # book[\"reviewer_scores\"]=[\"\"]\n",
    "        #book[\"review_texts\"]=[\"\"]\n",
    "    \n",
    "       \n",
    "        #print(\"fail to get reivew\")\n",
    "        \n",
    "    book[\"link\"] = link\n",
    "    book[\"page\"] = webpage.text\n",
    "    \n",
    "    return book"
   ]
  },
  {
   "cell_type": "code",
   "execution_count": 89,
   "metadata": {},
   "outputs": [
    {
     "name": "stdout",
     "output_type": "stream",
     "text": [
      "\n",
      "ok http://www.goodreads.com/genres/new_releases/romance\n",
      "http://www.goodreads.com/book/show/30653853-the-upside-of-unrequited\n",
      "http://www.goodreads.com/book/show/30312700-alex-approximately\n"
     ]
    },
    {
     "ename": "KeyboardInterrupt",
     "evalue": "",
     "output_type": "error",
     "traceback": [
      "\u001b[0;31m---------------------------------------------------------------------------\u001b[0m",
      "\u001b[0;31mTypeError\u001b[0m                                 Traceback (most recent call last)",
      "\u001b[0;32m/Users/brechann/anaconda/lib/python3.5/site-packages/requests/packages/urllib3/connectionpool.py\u001b[0m in \u001b[0;36m_make_request\u001b[0;34m(self, conn, method, url, timeout, chunked, **httplib_request_kw)\u001b[0m\n\u001b[1;32m    378\u001b[0m             \u001b[0;32mtry\u001b[0m\u001b[0;34m:\u001b[0m  \u001b[0;31m# Python 2.7, use buffering of HTTP responses\u001b[0m\u001b[0;34m\u001b[0m\u001b[0m\n\u001b[0;32m--> 379\u001b[0;31m                 \u001b[0mhttplib_response\u001b[0m \u001b[0;34m=\u001b[0m \u001b[0mconn\u001b[0m\u001b[0;34m.\u001b[0m\u001b[0mgetresponse\u001b[0m\u001b[0;34m(\u001b[0m\u001b[0mbuffering\u001b[0m\u001b[0;34m=\u001b[0m\u001b[0;32mTrue\u001b[0m\u001b[0;34m)\u001b[0m\u001b[0;34m\u001b[0m\u001b[0m\n\u001b[0m\u001b[1;32m    380\u001b[0m             \u001b[0;32mexcept\u001b[0m \u001b[0mTypeError\u001b[0m\u001b[0;34m:\u001b[0m  \u001b[0;31m# Python 2.6 and older, Python 3\u001b[0m\u001b[0;34m\u001b[0m\u001b[0m\n",
      "\u001b[0;31mTypeError\u001b[0m: getresponse() got an unexpected keyword argument 'buffering'",
      "\nDuring handling of the above exception, another exception occurred:\n",
      "\u001b[0;31mKeyboardInterrupt\u001b[0m                         Traceback (most recent call last)",
      "\u001b[0;32m<ipython-input-89-01c1c29f389b>\u001b[0m in \u001b[0;36m<module>\u001b[0;34m()\u001b[0m\n\u001b[1;32m     22\u001b[0m     \u001b[0;32mfor\u001b[0m \u001b[0mnum\u001b[0m\u001b[0;34m,\u001b[0m \u001b[0mlink\u001b[0m \u001b[0;32min\u001b[0m \u001b[0menumerate\u001b[0m\u001b[0;34m(\u001b[0m\u001b[0mbook_links\u001b[0m\u001b[0;34m)\u001b[0m\u001b[0;34m:\u001b[0m\u001b[0;34m\u001b[0m\u001b[0m\n\u001b[1;32m     23\u001b[0m \u001b[0;34m\u001b[0m\u001b[0m\n\u001b[0;32m---> 24\u001b[0;31m         \u001b[0mbook_results\u001b[0m \u001b[0;34m=\u001b[0m \u001b[0mparse_page\u001b[0m\u001b[0;34m(\u001b[0m\u001b[0mlink\u001b[0m\u001b[0;34m)\u001b[0m\u001b[0;34m\u001b[0m\u001b[0m\n\u001b[0m\u001b[1;32m     25\u001b[0m         \u001b[0mprint\u001b[0m\u001b[0;34m(\u001b[0m\u001b[0mlink\u001b[0m\u001b[0;34m)\u001b[0m\u001b[0;34m\u001b[0m\u001b[0m\n\u001b[1;32m     26\u001b[0m \u001b[0;34m\u001b[0m\u001b[0m\n",
      "\u001b[0;32m<ipython-input-88-d7e4716da9ea>\u001b[0m in \u001b[0;36mparse_page\u001b[0;34m(link)\u001b[0m\n\u001b[1;32m     47\u001b[0m     \u001b[0;31m#result=reviews_find(soup,link)\u001b[0m\u001b[0;34m\u001b[0m\u001b[0;34m\u001b[0m\u001b[0m\n\u001b[1;32m     48\u001b[0m     \u001b[0;31m#try:\u001b[0m\u001b[0;34m\u001b[0m\u001b[0;34m\u001b[0m\u001b[0m\n\u001b[0;32m---> 49\u001b[0;31m     \u001b[0mresult\u001b[0m\u001b[0;34m=\u001b[0m\u001b[0mreviews_find\u001b[0m\u001b[0;34m(\u001b[0m\u001b[0msoup\u001b[0m\u001b[0;34m,\u001b[0m\u001b[0mlink\u001b[0m\u001b[0;34m)\u001b[0m\u001b[0;34m\u001b[0m\u001b[0m\n\u001b[0m\u001b[1;32m     50\u001b[0m     \u001b[0mbook\u001b[0m\u001b[0;34m[\u001b[0m\u001b[0;34m\"review_ids\"\u001b[0m\u001b[0;34m]\u001b[0m\u001b[0;34m=\u001b[0m\u001b[0mresult\u001b[0m\u001b[0;34m[\u001b[0m\u001b[0;36m0\u001b[0m\u001b[0;34m]\u001b[0m\u001b[0;34m\u001b[0m\u001b[0m\n\u001b[1;32m     51\u001b[0m     \u001b[0mbook\u001b[0m\u001b[0;34m[\u001b[0m\u001b[0;34m\"reviewer_names\"\u001b[0m\u001b[0;34m]\u001b[0m\u001b[0;34m=\u001b[0m\u001b[0mresult\u001b[0m\u001b[0;34m[\u001b[0m\u001b[0;36m1\u001b[0m\u001b[0;34m]\u001b[0m\u001b[0;34m\u001b[0m\u001b[0m\n",
      "\u001b[0;32m<ipython-input-81-cc5cadb2d617>\u001b[0m in \u001b[0;36mreviews_find\u001b[0;34m(soupy, book_address)\u001b[0m\n\u001b[1;32m     11\u001b[0m     \u001b[0;32mwhile\u001b[0m \u001b[0mbook_address\u001b[0m\u001b[0;34m:\u001b[0m\u001b[0;34m\u001b[0m\u001b[0m\n\u001b[1;32m     12\u001b[0m \u001b[0;34m\u001b[0m\u001b[0m\n\u001b[0;32m---> 13\u001b[0;31m         \u001b[0mresponse\u001b[0m \u001b[0;34m=\u001b[0m \u001b[0mrequests\u001b[0m\u001b[0;34m.\u001b[0m\u001b[0mget\u001b[0m\u001b[0;34m(\u001b[0m\u001b[0mbook_address\u001b[0m\u001b[0;34m)\u001b[0m\u001b[0;34m\u001b[0m\u001b[0m\n\u001b[0m\u001b[1;32m     14\u001b[0m \u001b[0;34m\u001b[0m\u001b[0m\n\u001b[1;32m     15\u001b[0m         \u001b[0;32mif\u001b[0m \u001b[0mresponse\u001b[0m\u001b[0;34m.\u001b[0m\u001b[0mstatus_code\u001b[0m \u001b[0;34m==\u001b[0m \u001b[0;36m200\u001b[0m\u001b[0;34m:\u001b[0m\u001b[0;34m\u001b[0m\u001b[0m\n",
      "\u001b[0;32m/Users/brechann/anaconda/lib/python3.5/site-packages/requests/api.py\u001b[0m in \u001b[0;36mget\u001b[0;34m(url, params, **kwargs)\u001b[0m\n\u001b[1;32m     68\u001b[0m \u001b[0;34m\u001b[0m\u001b[0m\n\u001b[1;32m     69\u001b[0m     \u001b[0mkwargs\u001b[0m\u001b[0;34m.\u001b[0m\u001b[0msetdefault\u001b[0m\u001b[0;34m(\u001b[0m\u001b[0;34m'allow_redirects'\u001b[0m\u001b[0;34m,\u001b[0m \u001b[0;32mTrue\u001b[0m\u001b[0;34m)\u001b[0m\u001b[0;34m\u001b[0m\u001b[0m\n\u001b[0;32m---> 70\u001b[0;31m     \u001b[0;32mreturn\u001b[0m \u001b[0mrequest\u001b[0m\u001b[0;34m(\u001b[0m\u001b[0;34m'get'\u001b[0m\u001b[0;34m,\u001b[0m \u001b[0murl\u001b[0m\u001b[0;34m,\u001b[0m \u001b[0mparams\u001b[0m\u001b[0;34m=\u001b[0m\u001b[0mparams\u001b[0m\u001b[0;34m,\u001b[0m \u001b[0;34m**\u001b[0m\u001b[0mkwargs\u001b[0m\u001b[0;34m)\u001b[0m\u001b[0;34m\u001b[0m\u001b[0m\n\u001b[0m\u001b[1;32m     71\u001b[0m \u001b[0;34m\u001b[0m\u001b[0m\n\u001b[1;32m     72\u001b[0m \u001b[0;34m\u001b[0m\u001b[0m\n",
      "\u001b[0;32m/Users/brechann/anaconda/lib/python3.5/site-packages/requests/api.py\u001b[0m in \u001b[0;36mrequest\u001b[0;34m(method, url, **kwargs)\u001b[0m\n\u001b[1;32m     54\u001b[0m     \u001b[0;31m# cases, and look like a memory leak in others.\u001b[0m\u001b[0;34m\u001b[0m\u001b[0;34m\u001b[0m\u001b[0m\n\u001b[1;32m     55\u001b[0m     \u001b[0;32mwith\u001b[0m \u001b[0msessions\u001b[0m\u001b[0;34m.\u001b[0m\u001b[0mSession\u001b[0m\u001b[0;34m(\u001b[0m\u001b[0;34m)\u001b[0m \u001b[0;32mas\u001b[0m \u001b[0msession\u001b[0m\u001b[0;34m:\u001b[0m\u001b[0;34m\u001b[0m\u001b[0m\n\u001b[0;32m---> 56\u001b[0;31m         \u001b[0;32mreturn\u001b[0m \u001b[0msession\u001b[0m\u001b[0;34m.\u001b[0m\u001b[0mrequest\u001b[0m\u001b[0;34m(\u001b[0m\u001b[0mmethod\u001b[0m\u001b[0;34m=\u001b[0m\u001b[0mmethod\u001b[0m\u001b[0;34m,\u001b[0m \u001b[0murl\u001b[0m\u001b[0;34m=\u001b[0m\u001b[0murl\u001b[0m\u001b[0;34m,\u001b[0m \u001b[0;34m**\u001b[0m\u001b[0mkwargs\u001b[0m\u001b[0;34m)\u001b[0m\u001b[0;34m\u001b[0m\u001b[0m\n\u001b[0m\u001b[1;32m     57\u001b[0m \u001b[0;34m\u001b[0m\u001b[0m\n\u001b[1;32m     58\u001b[0m \u001b[0;34m\u001b[0m\u001b[0m\n",
      "\u001b[0;32m/Users/brechann/anaconda/lib/python3.5/site-packages/requests/sessions.py\u001b[0m in \u001b[0;36mrequest\u001b[0;34m(self, method, url, params, data, headers, cookies, files, auth, timeout, allow_redirects, proxies, hooks, stream, verify, cert, json)\u001b[0m\n\u001b[1;32m    486\u001b[0m         }\n\u001b[1;32m    487\u001b[0m         \u001b[0msend_kwargs\u001b[0m\u001b[0;34m.\u001b[0m\u001b[0mupdate\u001b[0m\u001b[0;34m(\u001b[0m\u001b[0msettings\u001b[0m\u001b[0;34m)\u001b[0m\u001b[0;34m\u001b[0m\u001b[0m\n\u001b[0;32m--> 488\u001b[0;31m         \u001b[0mresp\u001b[0m \u001b[0;34m=\u001b[0m \u001b[0mself\u001b[0m\u001b[0;34m.\u001b[0m\u001b[0msend\u001b[0m\u001b[0;34m(\u001b[0m\u001b[0mprep\u001b[0m\u001b[0;34m,\u001b[0m \u001b[0;34m**\u001b[0m\u001b[0msend_kwargs\u001b[0m\u001b[0;34m)\u001b[0m\u001b[0;34m\u001b[0m\u001b[0m\n\u001b[0m\u001b[1;32m    489\u001b[0m \u001b[0;34m\u001b[0m\u001b[0m\n\u001b[1;32m    490\u001b[0m         \u001b[0;32mreturn\u001b[0m \u001b[0mresp\u001b[0m\u001b[0;34m\u001b[0m\u001b[0m\n",
      "\u001b[0;32m/Users/brechann/anaconda/lib/python3.5/site-packages/requests/sessions.py\u001b[0m in \u001b[0;36msend\u001b[0;34m(self, request, **kwargs)\u001b[0m\n\u001b[1;32m    607\u001b[0m \u001b[0;34m\u001b[0m\u001b[0m\n\u001b[1;32m    608\u001b[0m         \u001b[0;31m# Send the request\u001b[0m\u001b[0;34m\u001b[0m\u001b[0;34m\u001b[0m\u001b[0m\n\u001b[0;32m--> 609\u001b[0;31m         \u001b[0mr\u001b[0m \u001b[0;34m=\u001b[0m \u001b[0madapter\u001b[0m\u001b[0;34m.\u001b[0m\u001b[0msend\u001b[0m\u001b[0;34m(\u001b[0m\u001b[0mrequest\u001b[0m\u001b[0;34m,\u001b[0m \u001b[0;34m**\u001b[0m\u001b[0mkwargs\u001b[0m\u001b[0;34m)\u001b[0m\u001b[0;34m\u001b[0m\u001b[0m\n\u001b[0m\u001b[1;32m    610\u001b[0m \u001b[0;34m\u001b[0m\u001b[0m\n\u001b[1;32m    611\u001b[0m         \u001b[0;31m# Total elapsed time of the request (approximately)\u001b[0m\u001b[0;34m\u001b[0m\u001b[0;34m\u001b[0m\u001b[0m\n",
      "\u001b[0;32m/Users/brechann/anaconda/lib/python3.5/site-packages/requests/adapters.py\u001b[0m in \u001b[0;36msend\u001b[0;34m(self, request, stream, timeout, verify, cert, proxies)\u001b[0m\n\u001b[1;32m    421\u001b[0m                     \u001b[0mdecode_content\u001b[0m\u001b[0;34m=\u001b[0m\u001b[0;32mFalse\u001b[0m\u001b[0;34m,\u001b[0m\u001b[0;34m\u001b[0m\u001b[0m\n\u001b[1;32m    422\u001b[0m                     \u001b[0mretries\u001b[0m\u001b[0;34m=\u001b[0m\u001b[0mself\u001b[0m\u001b[0;34m.\u001b[0m\u001b[0mmax_retries\u001b[0m\u001b[0;34m,\u001b[0m\u001b[0;34m\u001b[0m\u001b[0m\n\u001b[0;32m--> 423\u001b[0;31m                     \u001b[0mtimeout\u001b[0m\u001b[0;34m=\u001b[0m\u001b[0mtimeout\u001b[0m\u001b[0;34m\u001b[0m\u001b[0m\n\u001b[0m\u001b[1;32m    424\u001b[0m                 )\n\u001b[1;32m    425\u001b[0m \u001b[0;34m\u001b[0m\u001b[0m\n",
      "\u001b[0;32m/Users/brechann/anaconda/lib/python3.5/site-packages/requests/packages/urllib3/connectionpool.py\u001b[0m in \u001b[0;36murlopen\u001b[0;34m(self, method, url, body, headers, retries, redirect, assert_same_host, timeout, pool_timeout, release_conn, chunked, body_pos, **response_kw)\u001b[0m\n\u001b[1;32m    598\u001b[0m                                                   \u001b[0mtimeout\u001b[0m\u001b[0;34m=\u001b[0m\u001b[0mtimeout_obj\u001b[0m\u001b[0;34m,\u001b[0m\u001b[0;34m\u001b[0m\u001b[0m\n\u001b[1;32m    599\u001b[0m                                                   \u001b[0mbody\u001b[0m\u001b[0;34m=\u001b[0m\u001b[0mbody\u001b[0m\u001b[0;34m,\u001b[0m \u001b[0mheaders\u001b[0m\u001b[0;34m=\u001b[0m\u001b[0mheaders\u001b[0m\u001b[0;34m,\u001b[0m\u001b[0;34m\u001b[0m\u001b[0m\n\u001b[0;32m--> 600\u001b[0;31m                                                   chunked=chunked)\n\u001b[0m\u001b[1;32m    601\u001b[0m \u001b[0;34m\u001b[0m\u001b[0m\n\u001b[1;32m    602\u001b[0m             \u001b[0;31m# If we're going to release the connection in ``finally:``, then\u001b[0m\u001b[0;34m\u001b[0m\u001b[0;34m\u001b[0m\u001b[0m\n",
      "\u001b[0;32m/Users/brechann/anaconda/lib/python3.5/site-packages/requests/packages/urllib3/connectionpool.py\u001b[0m in \u001b[0;36m_make_request\u001b[0;34m(self, conn, method, url, timeout, chunked, **httplib_request_kw)\u001b[0m\n\u001b[1;32m    380\u001b[0m             \u001b[0;32mexcept\u001b[0m \u001b[0mTypeError\u001b[0m\u001b[0;34m:\u001b[0m  \u001b[0;31m# Python 2.6 and older, Python 3\u001b[0m\u001b[0;34m\u001b[0m\u001b[0m\n\u001b[1;32m    381\u001b[0m                 \u001b[0;32mtry\u001b[0m\u001b[0;34m:\u001b[0m\u001b[0;34m\u001b[0m\u001b[0m\n\u001b[0;32m--> 382\u001b[0;31m                     \u001b[0mhttplib_response\u001b[0m \u001b[0;34m=\u001b[0m \u001b[0mconn\u001b[0m\u001b[0;34m.\u001b[0m\u001b[0mgetresponse\u001b[0m\u001b[0;34m(\u001b[0m\u001b[0;34m)\u001b[0m\u001b[0;34m\u001b[0m\u001b[0m\n\u001b[0m\u001b[1;32m    383\u001b[0m                 \u001b[0;32mexcept\u001b[0m \u001b[0mException\u001b[0m \u001b[0;32mas\u001b[0m \u001b[0me\u001b[0m\u001b[0;34m:\u001b[0m\u001b[0;34m\u001b[0m\u001b[0m\n\u001b[1;32m    384\u001b[0m                     \u001b[0;31m# Remove the TypeError from the exception chain in Python 3;\u001b[0m\u001b[0;34m\u001b[0m\u001b[0;34m\u001b[0m\u001b[0m\n",
      "\u001b[0;32m/Users/brechann/anaconda/lib/python3.5/http/client.py\u001b[0m in \u001b[0;36mgetresponse\u001b[0;34m(self)\u001b[0m\n\u001b[1;32m   1196\u001b[0m         \u001b[0;32mtry\u001b[0m\u001b[0;34m:\u001b[0m\u001b[0;34m\u001b[0m\u001b[0m\n\u001b[1;32m   1197\u001b[0m             \u001b[0;32mtry\u001b[0m\u001b[0;34m:\u001b[0m\u001b[0;34m\u001b[0m\u001b[0m\n\u001b[0;32m-> 1198\u001b[0;31m                 \u001b[0mresponse\u001b[0m\u001b[0;34m.\u001b[0m\u001b[0mbegin\u001b[0m\u001b[0;34m(\u001b[0m\u001b[0;34m)\u001b[0m\u001b[0;34m\u001b[0m\u001b[0m\n\u001b[0m\u001b[1;32m   1199\u001b[0m             \u001b[0;32mexcept\u001b[0m \u001b[0mConnectionError\u001b[0m\u001b[0;34m:\u001b[0m\u001b[0;34m\u001b[0m\u001b[0m\n\u001b[1;32m   1200\u001b[0m                 \u001b[0mself\u001b[0m\u001b[0;34m.\u001b[0m\u001b[0mclose\u001b[0m\u001b[0;34m(\u001b[0m\u001b[0;34m)\u001b[0m\u001b[0;34m\u001b[0m\u001b[0m\n",
      "\u001b[0;32m/Users/brechann/anaconda/lib/python3.5/http/client.py\u001b[0m in \u001b[0;36mbegin\u001b[0;34m(self)\u001b[0m\n\u001b[1;32m    295\u001b[0m         \u001b[0;31m# read until we get a non-100 response\u001b[0m\u001b[0;34m\u001b[0m\u001b[0;34m\u001b[0m\u001b[0m\n\u001b[1;32m    296\u001b[0m         \u001b[0;32mwhile\u001b[0m \u001b[0;32mTrue\u001b[0m\u001b[0;34m:\u001b[0m\u001b[0;34m\u001b[0m\u001b[0m\n\u001b[0;32m--> 297\u001b[0;31m             \u001b[0mversion\u001b[0m\u001b[0;34m,\u001b[0m \u001b[0mstatus\u001b[0m\u001b[0;34m,\u001b[0m \u001b[0mreason\u001b[0m \u001b[0;34m=\u001b[0m \u001b[0mself\u001b[0m\u001b[0;34m.\u001b[0m\u001b[0m_read_status\u001b[0m\u001b[0;34m(\u001b[0m\u001b[0;34m)\u001b[0m\u001b[0;34m\u001b[0m\u001b[0m\n\u001b[0m\u001b[1;32m    298\u001b[0m             \u001b[0;32mif\u001b[0m \u001b[0mstatus\u001b[0m \u001b[0;34m!=\u001b[0m \u001b[0mCONTINUE\u001b[0m\u001b[0;34m:\u001b[0m\u001b[0;34m\u001b[0m\u001b[0m\n\u001b[1;32m    299\u001b[0m                 \u001b[0;32mbreak\u001b[0m\u001b[0;34m\u001b[0m\u001b[0m\n",
      "\u001b[0;32m/Users/brechann/anaconda/lib/python3.5/http/client.py\u001b[0m in \u001b[0;36m_read_status\u001b[0;34m(self)\u001b[0m\n\u001b[1;32m    256\u001b[0m \u001b[0;34m\u001b[0m\u001b[0m\n\u001b[1;32m    257\u001b[0m     \u001b[0;32mdef\u001b[0m \u001b[0m_read_status\u001b[0m\u001b[0;34m(\u001b[0m\u001b[0mself\u001b[0m\u001b[0;34m)\u001b[0m\u001b[0;34m:\u001b[0m\u001b[0;34m\u001b[0m\u001b[0m\n\u001b[0;32m--> 258\u001b[0;31m         \u001b[0mline\u001b[0m \u001b[0;34m=\u001b[0m \u001b[0mstr\u001b[0m\u001b[0;34m(\u001b[0m\u001b[0mself\u001b[0m\u001b[0;34m.\u001b[0m\u001b[0mfp\u001b[0m\u001b[0;34m.\u001b[0m\u001b[0mreadline\u001b[0m\u001b[0;34m(\u001b[0m\u001b[0m_MAXLINE\u001b[0m \u001b[0;34m+\u001b[0m \u001b[0;36m1\u001b[0m\u001b[0;34m)\u001b[0m\u001b[0;34m,\u001b[0m \u001b[0;34m\"iso-8859-1\"\u001b[0m\u001b[0;34m)\u001b[0m\u001b[0;34m\u001b[0m\u001b[0m\n\u001b[0m\u001b[1;32m    259\u001b[0m         \u001b[0;32mif\u001b[0m \u001b[0mlen\u001b[0m\u001b[0;34m(\u001b[0m\u001b[0mline\u001b[0m\u001b[0;34m)\u001b[0m \u001b[0;34m>\u001b[0m \u001b[0m_MAXLINE\u001b[0m\u001b[0;34m:\u001b[0m\u001b[0;34m\u001b[0m\u001b[0m\n\u001b[1;32m    260\u001b[0m             \u001b[0;32mraise\u001b[0m \u001b[0mLineTooLong\u001b[0m\u001b[0;34m(\u001b[0m\u001b[0;34m\"status line\"\u001b[0m\u001b[0;34m)\u001b[0m\u001b[0;34m\u001b[0m\u001b[0m\n",
      "\u001b[0;32m/Users/brechann/anaconda/lib/python3.5/socket.py\u001b[0m in \u001b[0;36mreadinto\u001b[0;34m(self, b)\u001b[0m\n\u001b[1;32m    574\u001b[0m         \u001b[0;32mwhile\u001b[0m \u001b[0;32mTrue\u001b[0m\u001b[0;34m:\u001b[0m\u001b[0;34m\u001b[0m\u001b[0m\n\u001b[1;32m    575\u001b[0m             \u001b[0;32mtry\u001b[0m\u001b[0;34m:\u001b[0m\u001b[0;34m\u001b[0m\u001b[0m\n\u001b[0;32m--> 576\u001b[0;31m                 \u001b[0;32mreturn\u001b[0m \u001b[0mself\u001b[0m\u001b[0;34m.\u001b[0m\u001b[0m_sock\u001b[0m\u001b[0;34m.\u001b[0m\u001b[0mrecv_into\u001b[0m\u001b[0;34m(\u001b[0m\u001b[0mb\u001b[0m\u001b[0;34m)\u001b[0m\u001b[0;34m\u001b[0m\u001b[0m\n\u001b[0m\u001b[1;32m    577\u001b[0m             \u001b[0;32mexcept\u001b[0m \u001b[0mtimeout\u001b[0m\u001b[0;34m:\u001b[0m\u001b[0;34m\u001b[0m\u001b[0m\n\u001b[1;32m    578\u001b[0m                 \u001b[0mself\u001b[0m\u001b[0;34m.\u001b[0m\u001b[0m_timeout_occurred\u001b[0m \u001b[0;34m=\u001b[0m \u001b[0;32mTrue\u001b[0m\u001b[0;34m\u001b[0m\u001b[0m\n",
      "\u001b[0;31mKeyboardInterrupt\u001b[0m: "
     ]
    }
   ],
   "source": [
    "df = pd.DataFrame()\n",
    "list_address=\"http://www.goodreads.com/genres/new_releases/romance\"\n",
    "\n",
    "while list_address:\n",
    "\n",
    "    list_response = requests.get(list_address)\n",
    "\n",
    "    if list_response.status_code == 200:\n",
    "        print(\"\")\n",
    "        print(\"ok\",list_address)\n",
    "        soup = BeautifulSoup(list_response.text,\"lxml\")\n",
    "        book_links = [\"http://www.goodreads.com\" + book.find(\"a\")[\"href\"] for book in soup.find_all(\"div\",class_=\"coverWrapper\")]\n",
    "        \n",
    "        \n",
    "        try:\n",
    "            list_address = \"http://www.goodreads.com\"+ soup.find('a',class_='next_page')['href']\n",
    "        except:\n",
    "            list_address = \"\"\n",
    "    else:\n",
    "        print(\"website not found\")\n",
    "\n",
    "    for num, link in enumerate(book_links):\n",
    "     \n",
    "        book_results = parse_page(link)\n",
    "        print(link)\n",
    "        \n",
    "        df=df.append(pd.DataFrame(book_results),ignore_index=True)\n"
   ]
  },
  {
   "cell_type": "code",
   "execution_count": 90,
   "metadata": {},
   "outputs": [
    {
     "data": {
      "text/html": [
       "<div>\n",
       "<table border=\"1\" class=\"dataframe\">\n",
       "  <thead>\n",
       "    <tr style=\"text-align: right;\">\n",
       "      <th></th>\n",
       "      <th>authors</th>\n",
       "      <th>awards</th>\n",
       "      <th>date</th>\n",
       "      <th>description</th>\n",
       "      <th>isbn</th>\n",
       "      <th>link</th>\n",
       "      <th>page</th>\n",
       "      <th>rating</th>\n",
       "      <th>review_dates</th>\n",
       "      <th>review_ids</th>\n",
       "      <th>review_texts</th>\n",
       "      <th>reviewer_names</th>\n",
       "      <th>reviewer_ratings</th>\n",
       "      <th>reviewer_scores</th>\n",
       "      <th>title</th>\n",
       "    </tr>\n",
       "  </thead>\n",
       "  <tbody>\n",
       "    <tr>\n",
       "      <th>0</th>\n",
       "      <td>[Becky Albertalli]</td>\n",
       "      <td>[]</td>\n",
       "      <td>April 11th 2017</td>\n",
       "      <td>Seventeen-year-old Molly Peskin-Suso knows all...</td>\n",
       "      <td>0062348701</td>\n",
       "      <td>http://www.goodreads.com/book/show/30653853-th...</td>\n",
       "      <td>&lt;!DOCTYPE html&gt;\\n&lt;html class=\"desktop\"&gt;\\n\\n\\n&lt;...</td>\n",
       "      <td>4.17</td>\n",
       "      <td>[May 12, 2017, May 12, 2017, May 12, 2017, May...</td>\n",
       "      <td>[review_1998467435, review_1997758994, review_...</td>\n",
       "      <td>[[3.5 Stars. Just like Simon Vs. The Homo Sapi...</td>\n",
       "      <td>[Sophia Jones, Kaitie, Ashley Peet, Azee, Tiff...</td>\n",
       "      <td>[liked it, really liked it, it was amazing, it...</td>\n",
       "      <td>[3, 4, 5, 5, 5, 2, 4, 4, 3, 4, 5, 4, 4, 5, 5, ...</td>\n",
       "      <td>The Upside of Unrequited</td>\n",
       "    </tr>\n",
       "    <tr>\n",
       "      <th>1</th>\n",
       "      <td>[Jenn Bennett]</td>\n",
       "      <td>[]</td>\n",
       "      <td>April 4th 2017</td>\n",
       "      <td>The one guy Bailey Rydell can’t stand is actua...</td>\n",
       "      <td>148147877X</td>\n",
       "      <td>http://www.goodreads.com/book/show/30312700-al...</td>\n",
       "      <td>&lt;!DOCTYPE html&gt;\\n&lt;html class=\"desktop\"&gt;\\n\\n\\n&lt;...</td>\n",
       "      <td>4.07</td>\n",
       "      <td>[May 12, 2017, May 12, 2017, May 12, 2017, May...</td>\n",
       "      <td>[review_1998055552, review_1907935087, review_...</td>\n",
       "      <td>[[3.5 Stars!], [3.75 STARS], [[ one thing the ...</td>\n",
       "      <td>[Pehel , Laura, Erin, Love, Beck, Melissa, Mar...</td>\n",
       "      <td>[liked it, really liked it, liked it, it was a...</td>\n",
       "      <td>[3, 4, 3, 5, 5, 4, 5, 4, 3, 3, 5, 4, 4, 4, 4, ...</td>\n",
       "      <td>Alex, Approximately</td>\n",
       "    </tr>\n",
       "  </tbody>\n",
       "</table>\n",
       "</div>"
      ],
      "text/plain": [
       "              authors awards             date  \\\n",
       "0  [Becky Albertalli]     []  April 11th 2017   \n",
       "1      [Jenn Bennett]     []   April 4th 2017   \n",
       "\n",
       "                                         description        isbn  \\\n",
       "0  Seventeen-year-old Molly Peskin-Suso knows all...  0062348701   \n",
       "1  The one guy Bailey Rydell can’t stand is actua...  148147877X   \n",
       "\n",
       "                                                link  \\\n",
       "0  http://www.goodreads.com/book/show/30653853-th...   \n",
       "1  http://www.goodreads.com/book/show/30312700-al...   \n",
       "\n",
       "                                                page rating  \\\n",
       "0  <!DOCTYPE html>\\n<html class=\"desktop\">\\n\\n\\n<...   4.17   \n",
       "1  <!DOCTYPE html>\\n<html class=\"desktop\">\\n\\n\\n<...   4.07   \n",
       "\n",
       "                                        review_dates  \\\n",
       "0  [May 12, 2017, May 12, 2017, May 12, 2017, May...   \n",
       "1  [May 12, 2017, May 12, 2017, May 12, 2017, May...   \n",
       "\n",
       "                                          review_ids  \\\n",
       "0  [review_1998467435, review_1997758994, review_...   \n",
       "1  [review_1998055552, review_1907935087, review_...   \n",
       "\n",
       "                                        review_texts  \\\n",
       "0  [[3.5 Stars. Just like Simon Vs. The Homo Sapi...   \n",
       "1  [[3.5 Stars!], [3.75 STARS], [[ one thing the ...   \n",
       "\n",
       "                                      reviewer_names  \\\n",
       "0  [Sophia Jones, Kaitie, Ashley Peet, Azee, Tiff...   \n",
       "1  [Pehel , Laura, Erin, Love, Beck, Melissa, Mar...   \n",
       "\n",
       "                                    reviewer_ratings  \\\n",
       "0  [liked it, really liked it, it was amazing, it...   \n",
       "1  [liked it, really liked it, liked it, it was a...   \n",
       "\n",
       "                                     reviewer_scores                     title  \n",
       "0  [3, 4, 5, 5, 5, 2, 4, 4, 3, 4, 5, 4, 4, 5, 5, ...  The Upside of Unrequited  \n",
       "1  [3, 4, 3, 5, 5, 4, 5, 4, 3, 3, 5, 4, 4, 4, 4, ...       Alex, Approximately  "
      ]
     },
     "execution_count": 90,
     "metadata": {},
     "output_type": "execute_result"
    }
   ],
   "source": [
    "df"
   ]
  },
  {
   "cell_type": "code",
   "execution_count": null,
   "metadata": {
    "collapsed": true
   },
   "outputs": [],
   "source": []
  },
  {
   "cell_type": "code",
   "execution_count": null,
   "metadata": {
    "collapsed": true
   },
   "outputs": [],
   "source": [
    "df.to_pickle(\"romance_novels.pkl\")"
   ]
  },
  {
   "cell_type": "code",
   "execution_count": null,
   "metadata": {
    "collapsed": true
   },
   "outputs": [],
   "source": [
    "df.to_csv(\"romance_novels.csv\")"
   ]
  },
  {
   "cell_type": "code",
   "execution_count": null,
   "metadata": {
    "collapsed": true
   },
   "outputs": [],
   "source": [
    "import nltk\n",
    "nltk.download()"
   ]
  },
  {
   "cell_type": "code",
   "execution_count": 9,
   "metadata": {},
   "outputs": [
    {
     "data": {
      "text/plain": [
       "100"
      ]
     },
     "execution_count": 9,
     "metadata": {},
     "output_type": "execute_result"
    }
   ],
   "source": [
    "len(df)"
   ]
  },
  {
   "cell_type": "code",
   "execution_count": 91,
   "metadata": {},
   "outputs": [
    {
     "data": {
      "text/plain": [
       "'/Users/brechann/workspace/goodreads'"
      ]
     },
     "execution_count": 91,
     "metadata": {},
     "output_type": "execute_result"
    }
   ],
   "source": [
    "pwd"
   ]
  },
  {
   "cell_type": "code",
   "execution_count": null,
   "metadata": {
    "collapsed": true
   },
   "outputs": [],
   "source": []
  }
 ],
 "metadata": {
  "kernelspec": {
   "display_name": "Python 3",
   "language": "python",
   "name": "python3"
  },
  "language_info": {
   "codemirror_mode": {
    "name": "ipython",
    "version": 3
   },
   "file_extension": ".py",
   "mimetype": "text/x-python",
   "name": "python",
   "nbconvert_exporter": "python",
   "pygments_lexer": "ipython3",
   "version": "3.5.5"
  }
 },
 "nbformat": 4,
 "nbformat_minor": 1
}
