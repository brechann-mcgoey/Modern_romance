{
 "cells": [
  {
   "cell_type": "code",
   "execution_count": null,
   "metadata": {},
   "outputs": [],
   "source": [
    "import pickle\n",
    "import pandas as pd\n",
    "import ihtml\n",
    "import simplejson as json\n",
    "import re  \n",
    "import string"
   ]
  },
  {
   "cell_type": "code",
   "execution_count": null,
   "metadata": {},
   "outputs": [],
   "source": [
    "descript=pd.read_pickle(\"Descriptions_bigger.pkl\")"
   ]
  },
  {
   "cell_type": "code",
   "execution_count": null,
   "metadata": {},
   "outputs": [],
   "source": [
    "#descript.drop(['count'], axis = 1, inplace = True)"
   ]
  },
  {
   "cell_type": "code",
   "execution_count": null,
   "metadata": {},
   "outputs": [],
   "source": [
    "descript.head()"
   ]
  },
  {
   "cell_type": "code",
   "execution_count": null,
   "metadata": {},
   "outputs": [],
   "source": [
    "descript.shape"
   ]
  },
  {
   "cell_type": "code",
   "execution_count": null,
   "metadata": {},
   "outputs": [],
   "source": [
    "descript['coef'].max()"
   ]
  },
  {
   "cell_type": "code",
   "execution_count": null,
   "metadata": {},
   "outputs": [],
   "source": [
    "descript['coef'].min()"
   ]
  },
  {
   "cell_type": "code",
   "execution_count": null,
   "metadata": {},
   "outputs": [],
   "source": [
    "descript.sort_values('coef',na_position='first')"
   ]
  },
  {
   "cell_type": "code",
   "execution_count": null,
   "metadata": {},
   "outputs": [],
   "source": [
    "descriptFinal=descript[descript[\"count\"]>3]"
   ]
  },
  {
   "cell_type": "code",
   "execution_count": null,
   "metadata": {},
   "outputs": [],
   "source": [
    "descriptFinal.sort_values('coef',na_position='first')"
   ]
  },
  {
   "cell_type": "code",
   "execution_count": null,
   "metadata": {},
   "outputs": [],
   "source": [
    "word_dict = dict(zip(descript['labels'], descript['coef']))"
   ]
  },
  {
   "cell_type": "code",
   "execution_count": null,
   "metadata": {},
   "outputs": [],
   "source": [
    "#word_dict"
   ]
  },
  {
   "cell_type": "code",
   "execution_count": null,
   "metadata": {},
   "outputs": [],
   "source": [
    "example=\"One more game. That's all that stands between NHL star Asher Westmore and a major career milestone. But then his brother bashes him against the hockey boards, sidelining him for months. Over Christmas holidays, no less. If staying off the ice doesn't drive him crazy, staying with his family will. The only bright spot amidst the mistletoe and twinkle lights: His best friend, Emma, is a physical therapist. And working out with her improves his body and his spirit.\""
   ]
  },
  {
   "cell_type": "code",
   "execution_count": null,
   "metadata": {},
   "outputs": [],
   "source": [
    "pink=str(240)+','+str(93)+','+str(163)"
   ]
  },
  {
   "cell_type": "code",
   "execution_count": null,
   "metadata": {},
   "outputs": [],
   "source": [
    "purple=str(141)+','+str(160)+','+str(203)"
   ]
  },
  {
   "cell_type": "code",
   "execution_count": null,
   "metadata": {},
   "outputs": [],
   "source": [
    "black=str(255)+','+str(255)+','+str(255)"
   ]
  },
  {
   "cell_type": "code",
   "execution_count": null,
   "metadata": {},
   "outputs": [],
   "source": [
    "def word_color (word):\n",
    "    pink=str(240)+','+str(93)+','+str(163)\n",
    "    purple=str(141)+','+str(160)+','+str(203)\n",
    "    black=str(255)+','+str(255)+','+str(255)\n",
    "    exclude = set(string.punctuation)\n",
    "    wordcheck=word.lower()\n",
    "    wordcheck= ''.join(ch for ch in wordcheck if ch not in exclude)\n",
    "    score=word_dict.get(wordcheck)\n",
    "    if score==None:\n",
    "        score=0\n",
    "    if score>0:\n",
    "        positive=score\n",
    "        blue=255\n",
    "        red=0\n",
    "        negative=0\n",
    "        tog=pink\n",
    "        r=240\n",
    "        g=93\n",
    "        b=163\n",
    "    elif score<0:\n",
    "        negative=-1*score\n",
    "        positive=0\n",
    "        blue=0\n",
    "        red=255\n",
    "        tog=purple\n",
    "        r=141\n",
    "        g=160\n",
    "        b=203\n",
    "    else:\n",
    "        negative=0\n",
    "        positive=0\n",
    "        blue=0\n",
    "        red=0\n",
    "        tog=black\n",
    "        r=0\n",
    "        g=0\n",
    "        b=0\n",
    "    dicty={}\n",
    "    dicty['neg']=negative\n",
    "    dicty['pos']=positive\n",
    "    dicty['bl']=blue\n",
    "    dicty['re']=red\n",
    "    dicty['tog']=tog\n",
    "    dicty['r']=r\n",
    "    dicty['g']=g\n",
    "    dicty['b']=b\n",
    "    dicty['word']=word\n",
    "    \n",
    "    return(dicty)"
   ]
  },
  {
   "cell_type": "code",
   "execution_count": null,
   "metadata": {},
   "outputs": [],
   "source": [
    "word_color('Christmas!')"
   ]
  },
  {
   "cell_type": "code",
   "execution_count": null,
   "metadata": {},
   "outputs": [],
   "source": [
    "text_list=re.split(r'(\\s+)', example) "
   ]
  },
  {
   "cell_type": "code",
   "execution_count": null,
   "metadata": {},
   "outputs": [],
   "source": [
    "#text_list"
   ]
  },
  {
   "cell_type": "code",
   "execution_count": null,
   "metadata": {},
   "outputs": [],
   "source": [
    "wordy_list=[word_color(x) for x in text_list]"
   ]
  },
  {
   "cell_type": "code",
   "execution_count": null,
   "metadata": {},
   "outputs": [],
   "source": [
    "#wordy_list"
   ]
  },
  {
   "cell_type": "code",
   "execution_count": null,
   "metadata": {},
   "outputs": [],
   "source": [
    "import json\n",
    "with open('data.json', 'w') as outfile:\n",
    "    json.dump(wordy_list, outfile)"
   ]
  },
  {
   "cell_type": "code",
   "execution_count": null,
   "metadata": {},
   "outputs": [],
   "source": [
    "gettysburg = json.load(open('data.json', 'r'))\n",
    "#gettysburg[:5]"
   ]
  },
  {
   "cell_type": "code",
   "execution_count": null,
   "metadata": {},
   "outputs": [],
   "source": [
    "%%ihtml\n",
    "<!DOCTYPE html>\n",
    "<html>\n",
    "  <head>\n",
    "    <meta charset=\"utf-8\">\n",
    "    <title>Gettysburg</title>\n",
    "\n",
    "    <script>\n",
    "      function textColor(d) {\n",
    "        var red = Math.round(d.re);\n",
    "        var blue = Math.round(d.bl);\n",
    "        return \"rgb(\" + red + \", 0, \" + blue + \")\";\n",
    "        #return \"rgb(\" + red + \", \" + green +\", \"+ blue + \")\";\n",
    "      }\n",
    "\n",
    "      document.addEventListener(\"DOMContentLoaded\",\n",
    "        function(e) {\n",
    "          var gettysburg = {{ gettysburg | json }}\n",
    "          var div = document.querySelector(\"#address\");\n",
    "          for (var i in gettysburg) {\n",
    "            var span = document.createElement(\"span\");\n",
    "            span.textContent = gettysburg[i].word;\n",
    "            span.style.color = textColor(gettysburg[i]);\n",
    "            div.appendChild(span);\n",
    "          }\n",
    "        }\n",
    "      )\n",
    "    </script>\n",
    "\n",
    "    <style>\n",
    "      #address {\n",
    "        white-space: pre-wrap;\n",
    "      }\n",
    "    </style>\n",
    "  </head>\n",
    "\n",
    "  <body>\n",
    "    <h1>Description</h1>\n",
    "    <div id=\"address\"></div>\n",
    "  </body>\n",
    "</html>"
   ]
  },
  {
   "cell_type": "code",
   "execution_count": null,
   "metadata": {},
   "outputs": [],
   "source": [
    "%%ihtml\n",
    "<!DOCTYPE html>\n",
    "<html>\n",
    "  <head>\n",
    "    <meta charset=\"utf-8\">\n",
    "    <title>Gettysburg</title>\n",
    "\n",
    "    <script src=\"https://d3js.org/d3.v3.min.js\" charset=\"utf-8\"></script>\n",
    "    <script>\n",
    "      function textColor(d) {\n",
    "        var red = Math.round(d.neg * 255);\n",
    "        #var blue = Math.round(d.pos * 255);\n",
    "        #var red= Math.round(d.r * 255);\n",
    "        var blue= Math.round(d.b *255);  \n",
    "        return \"rgb(\" + red + \", 0, \" + blue + \")\";\n",
    "      }\n",
    "\n",
    "      document.addEventListener(\"DOMContentLoaded\",\n",
    "        function(e) {\n",
    "          var gettysburg = {{ book_description | json }}\n",
    "          d3.select(\"#address\")\n",
    "            .selectAll(\"span\")\n",
    "            .data(gettysburg)\n",
    "            .enter()\n",
    "            .append(\"span\")\n",
    "            .text(function(d) { return d.word; })\n",
    "            .style(\"color\", textColor);\n",
    "        }\n",
    "      )\n",
    "    </script>\n",
    "\n",
    "    <style>\n",
    "      #address {\n",
    "        white-space: pre-wrap;\n",
    "      }\n",
    "    </style>\n",
    "  </head>\n",
    "\n",
    "  <body>\n",
    "    <h1>Description</h1>\n",
    "    <div id=\"address\"></div>\n",
    "  </body>\n",
    "</html>"
   ]
  },
  {
   "cell_type": "code",
   "execution_count": null,
   "metadata": {},
   "outputs": [],
   "source": [
    "%%ihtml\n",
    "<!DOCTYPE html>\n",
    "<html>\n",
    "  <head>\n",
    "    <meta charset=\"utf-8\">\n",
    "    <title>Gettysburg</title>\n",
    "\n",
    "    <script src=\"https://d3js.org/d3.v3.min.js\" charset=\"utf-8\"></script>\n",
    "    <script>\n",
    "      function textColor(d) {\n",
    "        var red = Math.round(d.r);\n",
    "        var blue = Math.round(d.b);\n",
    "        var green=Math.round(d.g);\n",
    "        return \"rgb(\" + red + green + blue + \")\";\n",
    "      }\n",
    "      \n",
    "      var description = {{ book_description | json }}\n",
    "\n",
    "\n",
    "      document.addEventListener(\"DOMContentLoaded\",\n",
    "        function(e) {\n",
    "          d3.select(\"#description_recoloured\")\n",
    "            .selectAll(\"span\")\n",
    "            .data(description)\n",
    "            .enter()\n",
    "            .append(\"span\")\n",
    "            .text(function(d) { return d.word; })\n",
    "            .style(\"color\", textColor)\n",
    "            .style(\"font-size\", function(d) {\n",
    "            return (1 + (d.pos + d.neg)) * 16 + \"px\";\n",
    "          })\n",
    "\n",
    "\n",
    "        }\n",
    "      )\n",
    "    </script>\n",
    "\n",
    "    <style>\n",
    "      #address {\n",
    "        white-space: pre-wrap;\n",
    "      }\n",
    "    </style>\n",
    "  </head>\n",
    "\n",
    "  <body>\n",
    "    <h1>Descriptions</h1>\n",
    "      <br>\n",
    "    <div id=\"description_recoloured\"></div>\n",
    "  </body>\n",
    "</html>"
   ]
  },
  {
   "cell_type": "code",
   "execution_count": null,
   "metadata": {},
   "outputs": [],
   "source": [
    "fake_description='Lisa, a bold aspiring actress, moves to Italy at Christmas to get some inpiration and pasta! She has a pact with her best friend that they will focus on career. But then she meets Rob, a magazine editor from California. Sparks fly! Will Lisa find her forever home in Italy? Will Rob propose? Will they overcome the tribulations and find happiness? Nominated for the predictability award, this book is part of the cliche series.'"
   ]
  },
  {
   "cell_type": "code",
   "execution_count": null,
   "metadata": {},
   "outputs": [],
   "source": [
    "import string"
   ]
  },
  {
   "cell_type": "code",
   "execution_count": null,
   "metadata": {},
   "outputs": [],
   "source": [
    "exclude = set(string.punctuation)\n",
    "s = ''.join(ch for ch in fake_description if ch not in exclude)"
   ]
  },
  {
   "cell_type": "code",
   "execution_count": null,
   "metadata": {},
   "outputs": [],
   "source": [
    "s"
   ]
  },
  {
   "cell_type": "code",
   "execution_count": null,
   "metadata": {},
   "outputs": [],
   "source": [
    "text_list2=re.split(r'(\\s+)', fake_description) "
   ]
  },
  {
   "cell_type": "code",
   "execution_count": null,
   "metadata": {},
   "outputs": [],
   "source": [
    "wordy_list2=[word_color(x) for x in text_list2]"
   ]
  },
  {
   "cell_type": "code",
   "execution_count": null,
   "metadata": {},
   "outputs": [],
   "source": [
    "#wordy_list2"
   ]
  },
  {
   "cell_type": "code",
   "execution_count": null,
   "metadata": {},
   "outputs": [],
   "source": [
    "import json\n",
    "with open('data2.json', 'w') as outfile:\n",
    "    json.dump(wordy_list2, outfile)"
   ]
  },
  {
   "cell_type": "code",
   "execution_count": null,
   "metadata": {},
   "outputs": [],
   "source": [
    "book_description2 = json.load(open('data2.json', 'r'))\n",
    "book_description2[:5]"
   ]
  },
  {
   "cell_type": "code",
   "execution_count": null,
   "metadata": {},
   "outputs": [],
   "source": [
    "book_description2"
   ]
  },
  {
   "cell_type": "code",
   "execution_count": null,
   "metadata": {},
   "outputs": [],
   "source": [
    "%%ihtml\n",
    "<!DOCTYPE html>\n",
    "<html>\n",
    "  <head>\n",
    "    <meta charset=\"utf-8\">\n",
    "    <title>Gettysburg</title>\n",
    "\n",
    "    <script src=\"https://d3js.org/d3.v3.min.js\" charset=\"utf-8\"></script>\n",
    "    <script>\n",
    "      function textColor(d) {\n",
    "        var red = Math.round(d.r);\n",
    "        var blue = Math.round(d.b);\n",
    "        var green=Math.round(d.g)\n",
    "        return \"rgb(\" + red + \", \"+ green+ \", \" + blue + \")\";\n",
    "      }\n",
    "      \n",
    "      var description = {{ book_description2 | json }}\n",
    "\n",
    "\n",
    "      document.addEventListener(\"DOMContentLoaded\",\n",
    "        function(e) {\n",
    "          d3.select(\"#description_recoloured\")\n",
    "            .selectAll(\"span\")\n",
    "            .data(description)\n",
    "            .enter()\n",
    "            .append(\"span\")\n",
    "            .text(function(d) { return d.word; })\n",
    "            .style(\"color\", textColor)\n",
    "            .style(\"font-size\", function(d) {\n",
    "            return (1 + (d.pos + d.neg)) * 16 + \"px\";\n",
    "          })\n",
    "\n",
    "\n",
    "        }\n",
    "      )\n",
    "    </script>\n",
    "\n",
    "    <style>\n",
    "      address {\n",
    "        white-space: pre-wrap;\n",
    "      }\n",
    "    </style>\n",
    "    </head>\n",
    "\n",
    "    <body>\n",
    "    <h1>Descriptions</h1>\n",
    "      <br>\n",
    "    <div id=\"description_recoloured\"></div>\n",
    "    </body>\n",
    "</html>"
   ]
  },
  {
   "cell_type": "code",
   "execution_count": null,
   "metadata": {},
   "outputs": [],
   "source": []
  },
  {
   "cell_type": "code",
   "execution_count": null,
   "metadata": {},
   "outputs": [],
   "source": []
  }
 ],
 "metadata": {
  "kernelspec": {
   "display_name": "Python 3",
   "language": "python",
   "name": "python3"
  },
  "language_info": {
   "codemirror_mode": {
    "name": "ipython",
    "version": 3
   },
   "file_extension": ".py",
   "mimetype": "text/x-python",
   "name": "python",
   "nbconvert_exporter": "python",
   "pygments_lexer": "ipython3",
   "version": "3.5.5"
  }
 },
 "nbformat": 4,
 "nbformat_minor": 2
}
