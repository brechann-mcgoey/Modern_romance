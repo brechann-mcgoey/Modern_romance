{
 "cells": [
  {
   "cell_type": "markdown",
   "metadata": {},
   "source": [
    "Import the biggest dataframe with maximum available books/reviews"
   ]
  },
  {
   "cell_type": "code",
   "execution_count": 2,
   "metadata": {},
   "outputs": [],
   "source": [
    "import pandas as pd\n",
    "from datetime import datetime\n",
    "%matplotlib inline\n",
    "import matplotlib\n",
    "import seaborn as sns\n",
    "matplotlib.rcParams['savefig.dpi'] = 144\n",
    "from sklearn import base\n",
    "from sklearn.pipeline import Pipeline\n",
    "import numpy as np\n",
    "import re\n",
    "from sklearn.feature_extraction.text import CountVectorizer\n",
    "from sklearn.feature_extraction.text import TfidfVectorizer\n",
    "from sklearn.model_selection import train_test_split, cross_val_score\n",
    "from sklearn import metrics\n",
    "from sklearn.model_selection import GridSearchCV\n",
    "from sklearn.pipeline import Pipeline\n",
    "from spacy.en import English\n",
    "nlp = English()\n",
    "from spacy.en import STOP_WORDS\n",
    "from sklearn.linear_model import Ridge"
   ]
  },
  {
   "cell_type": "code",
   "execution_count": 3,
   "metadata": {},
   "outputs": [],
   "source": [
    "books = pd.read_pickle(\"bigger_romance.pkl\")"
   ]
  },
  {
   "cell_type": "code",
   "execution_count": 4,
   "metadata": {},
   "outputs": [
    {
     "data": {
      "text/html": [
       "<div>\n",
       "<style scoped>\n",
       "    .dataframe tbody tr th:only-of-type {\n",
       "        vertical-align: middle;\n",
       "    }\n",
       "\n",
       "    .dataframe tbody tr th {\n",
       "        vertical-align: top;\n",
       "    }\n",
       "\n",
       "    .dataframe thead th {\n",
       "        text-align: right;\n",
       "    }\n",
       "</style>\n",
       "<table border=\"1\" class=\"dataframe\">\n",
       "  <thead>\n",
       "    <tr style=\"text-align: right;\">\n",
       "      <th></th>\n",
       "      <th>authors</th>\n",
       "      <th>awards</th>\n",
       "      <th>date</th>\n",
       "      <th>description</th>\n",
       "      <th>isbn</th>\n",
       "      <th>link</th>\n",
       "      <th>num_ratings</th>\n",
       "      <th>num_reviews</th>\n",
       "      <th>rating</th>\n",
       "      <th>review_dates</th>\n",
       "      <th>review_ids</th>\n",
       "      <th>review_texts</th>\n",
       "      <th>reviewer_names</th>\n",
       "      <th>reviewer_ratings</th>\n",
       "      <th>reviewer_scores</th>\n",
       "      <th>reviews_together</th>\n",
       "      <th>title</th>\n",
       "      <th>year</th>\n",
       "    </tr>\n",
       "  </thead>\n",
       "  <tbody>\n",
       "    <tr>\n",
       "      <th>40</th>\n",
       "      <td>[Jennifer Crusie]</td>\n",
       "      <td>[All About Romance (AAR) Annual Reader Poll fo...</td>\n",
       "      <td>December 1st 2006</td>\n",
       "      <td>For Nina Askew, turning forty means freedom--f...</td>\n",
       "      <td>037377138X</td>\n",
       "      <td>http://www.goodreads.com/book/show/33732.Anyon...</td>\n",
       "      <td>17661</td>\n",
       "      <td>928</td>\n",
       "      <td>3.8</td>\n",
       "      <td>[Mar 11, 2010, Sep 20, 2009, Feb 27, 2009, Dec...</td>\n",
       "      <td>[review_93605589, review_71904939, review_4772...</td>\n",
       "      <td>[[Opening Line: “The last thing Nina Askew nee...</td>\n",
       "      <td>[Buggy, Shawna, Kathrynn, Ⓐlleskelle - teamSør...</td>\n",
       "      <td>[really liked it, it was amazing, it was amazi...</td>\n",
       "      <td>[4, 5, 5, 5, 3, 5, 5, 4, 3, 4, 4, 5, 5, 3, 4, ...</td>\n",
       "      <td>Opening Line: “The last thing Nina Askew neede...</td>\n",
       "      <td>Anyone But You</td>\n",
       "      <td>2006.0</td>\n",
       "    </tr>\n",
       "    <tr>\n",
       "      <th>45</th>\n",
       "      <td>[Rachel Gibson]</td>\n",
       "      <td>[OKRWA National Readers Choice Award for Singl...</td>\n",
       "      <td>January 1st 1998</td>\n",
       "      <td>Georgeanne Howard leaves her fiancé at the alt...</td>\n",
       "      <td>0380790076</td>\n",
       "      <td>http://www.goodreads.com/book/show/60220.Simpl...</td>\n",
       "      <td>18156</td>\n",
       "      <td>635</td>\n",
       "      <td>3.86</td>\n",
       "      <td>[Oct 20, 2010, Sep 30, 2009, Apr 04, 2017, Jun...</td>\n",
       "      <td>[review_127198135, review_73023830, review_195...</td>\n",
       "      <td>[[3.5 STARSI must admit I was a bit disappoint...</td>\n",
       "      <td>[valee, Auntee, Nenia *The Flagrant Liberal* C...</td>\n",
       "      <td>[liked it, it was amazing, it was ok, it was o...</td>\n",
       "      <td>[3, 5, 2, 2, 4, 4, 3, 4, 4, 5, 4, 5, 4, 3, 5, ...</td>\n",
       "      <td>3.5 STARSI must admit I was a bit disappointed...</td>\n",
       "      <td>Simply Irresistible\\n      \\n          (Chinoo...</td>\n",
       "      <td>1998.0</td>\n",
       "    </tr>\n",
       "    <tr>\n",
       "      <th>59</th>\n",
       "      <td>[Kallypso Masters]</td>\n",
       "      <td>[]</td>\n",
       "      <td>December 13th 2012</td>\n",
       "      <td>Librarian's Note: This is an alternate cover f...</td>\n",
       "      <td>1481152718</td>\n",
       "      <td>http://www.goodreads.com/book/show/17325954-no...</td>\n",
       "      <td>11078</td>\n",
       "      <td>579</td>\n",
       "      <td>4.31</td>\n",
       "      <td>[Apr 20, 2013, Nov 28, 2011, Nov 14, 2012, Jun...</td>\n",
       "      <td>[review_595540086, review_240655375, review_45...</td>\n",
       "      <td>[[1 star. DNF at 52 %*Emotional porn at its wo...</td>\n",
       "      <td>[Baba  ♥♥♥ Tyler, Marcus, Archer, Dean, Adrian...</td>\n",
       "      <td>[did not like it, it was amazing, it was ok, r...</td>\n",
       "      <td>[1, 5, 2, 4, 5, 1, 5, 2, 4, 5, 5, 5, 5, 5, 5, ...</td>\n",
       "      <td>[ in the hospital (hide spoiler)] Ka-Thunk ,Ka...</td>\n",
       "      <td>Nobody's Hero\\n      \\n          (Rescue Me Sa...</td>\n",
       "      <td>2012.0</td>\n",
       "    </tr>\n",
       "    <tr>\n",
       "      <th>61</th>\n",
       "      <td>[Kallypso Masters]</td>\n",
       "      <td>[]</td>\n",
       "      <td>January 24th 2013</td>\n",
       "      <td>NOBODY'S PERFECT is the continuing story of Sa...</td>\n",
       "      <td>1480096954</td>\n",
       "      <td>http://www.goodreads.com/book/show/17299927-no...</td>\n",
       "      <td>8462</td>\n",
       "      <td>506</td>\n",
       "      <td>4.34</td>\n",
       "      <td>[Jun 09, 2012, Feb 25, 2012, May 28, 2012, Mar...</td>\n",
       "      <td>[review_345240483, review_283985473, review_33...</td>\n",
       "      <td>[[Nobody's perfect, mi sueño, but you're about...</td>\n",
       "      <td>[~ Becs ~, CaroleDee, Nia, Becca, Amy, Michael...</td>\n",
       "      <td>[really liked it, it was amazing, it was amazi...</td>\n",
       "      <td>[4, 5, 5, 2, 2, 5, 2, 5, 4, 5, 1, 5, 3, 5, 4, ...</td>\n",
       "      <td>Nobody's perfect, mi sueño, but you're about a...</td>\n",
       "      <td>Nobody's Perfect\\n      \\n          (Rescue Me...</td>\n",
       "      <td>2013.0</td>\n",
       "    </tr>\n",
       "    <tr>\n",
       "      <th>66</th>\n",
       "      <td>[Kallypso Masters]</td>\n",
       "      <td>[]</td>\n",
       "      <td>December 22nd 2013</td>\n",
       "      <td>When Marc d’Alessio first rescued the curvaceo...</td>\n",
       "      <td>NA</td>\n",
       "      <td>http://www.goodreads.com/book/show/17207097-so...</td>\n",
       "      <td>3940</td>\n",
       "      <td>331</td>\n",
       "      <td>4.28</td>\n",
       "      <td>[Jan 04, 2013, Nov 12, 2013, Jan 02, 2014, Dec...</td>\n",
       "      <td>[review_494970690, review_763151413, review_80...</td>\n",
       "      <td>[[I like this series, but this one was a littl...</td>\n",
       "      <td>[Vivian, Sylvia, Morgan, Sue, Rebekah, Dianne,...</td>\n",
       "      <td>[liked it, did not like it, it was ok, really ...</td>\n",
       "      <td>[3, 1, 2, 4, 2, 4, 2, 4, 2, 5, 5, 5, 4, 5, 4, ...</td>\n",
       "      <td>It's LIVE! It's live! It's finally live! OMG! ...</td>\n",
       "      <td>Somebody's Angel\\n      \\n          (Rescue Me...</td>\n",
       "      <td>2013.0</td>\n",
       "    </tr>\n",
       "  </tbody>\n",
       "</table>\n",
       "</div>"
      ],
      "text/plain": [
       "               authors                                             awards  \\\n",
       "40   [Jennifer Crusie]  [All About Romance (AAR) Annual Reader Poll fo...   \n",
       "45     [Rachel Gibson]  [OKRWA National Readers Choice Award for Singl...   \n",
       "59  [Kallypso Masters]                                                 []   \n",
       "61  [Kallypso Masters]                                                 []   \n",
       "66  [Kallypso Masters]                                                 []   \n",
       "\n",
       "                  date                                        description  \\\n",
       "40   December 1st 2006  For Nina Askew, turning forty means freedom--f...   \n",
       "45    January 1st 1998  Georgeanne Howard leaves her fiancé at the alt...   \n",
       "59  December 13th 2012  Librarian's Note: This is an alternate cover f...   \n",
       "61   January 24th 2013  NOBODY'S PERFECT is the continuing story of Sa...   \n",
       "66  December 22nd 2013  When Marc d’Alessio first rescued the curvaceo...   \n",
       "\n",
       "          isbn                                               link num_ratings  \\\n",
       "40  037377138X  http://www.goodreads.com/book/show/33732.Anyon...       17661   \n",
       "45  0380790076  http://www.goodreads.com/book/show/60220.Simpl...       18156   \n",
       "59  1481152718  http://www.goodreads.com/book/show/17325954-no...       11078   \n",
       "61  1480096954  http://www.goodreads.com/book/show/17299927-no...        8462   \n",
       "66          NA  http://www.goodreads.com/book/show/17207097-so...        3940   \n",
       "\n",
       "   num_reviews rating                                       review_dates  \\\n",
       "40         928    3.8  [Mar 11, 2010, Sep 20, 2009, Feb 27, 2009, Dec...   \n",
       "45         635   3.86  [Oct 20, 2010, Sep 30, 2009, Apr 04, 2017, Jun...   \n",
       "59         579   4.31  [Apr 20, 2013, Nov 28, 2011, Nov 14, 2012, Jun...   \n",
       "61         506   4.34  [Jun 09, 2012, Feb 25, 2012, May 28, 2012, Mar...   \n",
       "66         331   4.28  [Jan 04, 2013, Nov 12, 2013, Jan 02, 2014, Dec...   \n",
       "\n",
       "                                           review_ids  \\\n",
       "40  [review_93605589, review_71904939, review_4772...   \n",
       "45  [review_127198135, review_73023830, review_195...   \n",
       "59  [review_595540086, review_240655375, review_45...   \n",
       "61  [review_345240483, review_283985473, review_33...   \n",
       "66  [review_494970690, review_763151413, review_80...   \n",
       "\n",
       "                                         review_texts  \\\n",
       "40  [[Opening Line: “The last thing Nina Askew nee...   \n",
       "45  [[3.5 STARSI must admit I was a bit disappoint...   \n",
       "59  [[1 star. DNF at 52 %*Emotional porn at its wo...   \n",
       "61  [[Nobody's perfect, mi sueño, but you're about...   \n",
       "66  [[I like this series, but this one was a littl...   \n",
       "\n",
       "                                       reviewer_names  \\\n",
       "40  [Buggy, Shawna, Kathrynn, Ⓐlleskelle - teamSør...   \n",
       "45  [valee, Auntee, Nenia *The Flagrant Liberal* C...   \n",
       "59  [Baba  ♥♥♥ Tyler, Marcus, Archer, Dean, Adrian...   \n",
       "61  [~ Becs ~, CaroleDee, Nia, Becca, Amy, Michael...   \n",
       "66  [Vivian, Sylvia, Morgan, Sue, Rebekah, Dianne,...   \n",
       "\n",
       "                                     reviewer_ratings  \\\n",
       "40  [really liked it, it was amazing, it was amazi...   \n",
       "45  [liked it, it was amazing, it was ok, it was o...   \n",
       "59  [did not like it, it was amazing, it was ok, r...   \n",
       "61  [really liked it, it was amazing, it was amazi...   \n",
       "66  [liked it, did not like it, it was ok, really ...   \n",
       "\n",
       "                                      reviewer_scores  \\\n",
       "40  [4, 5, 5, 5, 3, 5, 5, 4, 3, 4, 4, 5, 5, 3, 4, ...   \n",
       "45  [3, 5, 2, 2, 4, 4, 3, 4, 4, 5, 4, 5, 4, 3, 5, ...   \n",
       "59  [1, 5, 2, 4, 5, 1, 5, 2, 4, 5, 5, 5, 5, 5, 5, ...   \n",
       "61  [4, 5, 5, 2, 2, 5, 2, 5, 4, 5, 1, 5, 3, 5, 4, ...   \n",
       "66  [3, 1, 2, 4, 2, 4, 2, 4, 2, 5, 5, 5, 4, 5, 4, ...   \n",
       "\n",
       "                                     reviews_together  \\\n",
       "40  Opening Line: “The last thing Nina Askew neede...   \n",
       "45  3.5 STARSI must admit I was a bit disappointed...   \n",
       "59  [ in the hospital (hide spoiler)] Ka-Thunk ,Ka...   \n",
       "61  Nobody's perfect, mi sueño, but you're about a...   \n",
       "66  It's LIVE! It's live! It's finally live! OMG! ...   \n",
       "\n",
       "                                                title    year  \n",
       "40                                     Anyone But You  2006.0  \n",
       "45  Simply Irresistible\\n      \\n          (Chinoo...  1998.0  \n",
       "59  Nobody's Hero\\n      \\n          (Rescue Me Sa...  2012.0  \n",
       "61  Nobody's Perfect\\n      \\n          (Rescue Me...  2013.0  \n",
       "66  Somebody's Angel\\n      \\n          (Rescue Me...  2013.0  "
      ]
     },
     "execution_count": 4,
     "metadata": {},
     "output_type": "execute_result"
    }
   ],
   "source": [
    "books.head()"
   ]
  },
  {
   "cell_type": "code",
   "execution_count": 5,
   "metadata": {},
   "outputs": [],
   "source": [
    "stars = books['rating'].tolist()"
   ]
  },
  {
   "cell_type": "code",
   "execution_count": 6,
   "metadata": {},
   "outputs": [],
   "source": [
    "stars= np.array(stars).astype(np.float)"
   ]
  },
  {
   "cell_type": "code",
   "execution_count": 7,
   "metadata": {},
   "outputs": [
    {
     "data": {
      "text/plain": [
       "array([ 3.8 ,  3.86,  4.31,  4.34,  4.28,  4.08,  4.17,  3.81,  4.24,  3.96])"
      ]
     },
     "execution_count": 7,
     "metadata": {},
     "output_type": "execute_result"
    }
   ],
   "source": [
    "stars[:10]"
   ]
  },
  {
   "cell_type": "code",
   "execution_count": 8,
   "metadata": {},
   "outputs": [],
   "source": [
    "num_reviews=books['num_reviews'].tolist()"
   ]
  },
  {
   "cell_type": "code",
   "execution_count": 9,
   "metadata": {},
   "outputs": [],
   "source": [
    "num_ratings=books['num_ratings'].tolist()"
   ]
  },
  {
   "cell_type": "code",
   "execution_count": 10,
   "metadata": {},
   "outputs": [],
   "source": [
    "descriptions = books['description'].tolist()"
   ]
  },
  {
   "cell_type": "code",
   "execution_count": 11,
   "metadata": {},
   "outputs": [],
   "source": [
    "dates=books['date'].tolist()"
   ]
  },
  {
   "cell_type": "code",
   "execution_count": 12,
   "metadata": {},
   "outputs": [
    {
     "data": {
      "text/plain": [
       "11018"
      ]
     },
     "execution_count": 12,
     "metadata": {},
     "output_type": "execute_result"
    }
   ],
   "source": [
    "len(dates)"
   ]
  },
  {
   "cell_type": "code",
   "execution_count": 13,
   "metadata": {},
   "outputs": [],
   "source": [
    "engagement=pd.DataFrame(\n",
    "    {'num_reviews': num_reviews,\n",
    "     'num_ratings': num_ratings,\n",
    "     'descriptions': descriptions,\n",
    "     'dates':dates\n",
    "    })"
   ]
  },
  {
   "cell_type": "code",
   "execution_count": 14,
   "metadata": {},
   "outputs": [
    {
     "data": {
      "text/html": [
       "<div>\n",
       "<style scoped>\n",
       "    .dataframe tbody tr th:only-of-type {\n",
       "        vertical-align: middle;\n",
       "    }\n",
       "\n",
       "    .dataframe tbody tr th {\n",
       "        vertical-align: top;\n",
       "    }\n",
       "\n",
       "    .dataframe thead th {\n",
       "        text-align: right;\n",
       "    }\n",
       "</style>\n",
       "<table border=\"1\" class=\"dataframe\">\n",
       "  <thead>\n",
       "    <tr style=\"text-align: right;\">\n",
       "      <th></th>\n",
       "      <th>dates</th>\n",
       "      <th>descriptions</th>\n",
       "      <th>num_ratings</th>\n",
       "      <th>num_reviews</th>\n",
       "    </tr>\n",
       "  </thead>\n",
       "  <tbody>\n",
       "    <tr>\n",
       "      <th>0</th>\n",
       "      <td>December 1st 2006</td>\n",
       "      <td>For Nina Askew, turning forty means freedom--f...</td>\n",
       "      <td>17661</td>\n",
       "      <td>928</td>\n",
       "    </tr>\n",
       "    <tr>\n",
       "      <th>1</th>\n",
       "      <td>January 1st 1998</td>\n",
       "      <td>Georgeanne Howard leaves her fiancé at the alt...</td>\n",
       "      <td>18156</td>\n",
       "      <td>635</td>\n",
       "    </tr>\n",
       "    <tr>\n",
       "      <th>2</th>\n",
       "      <td>December 13th 2012</td>\n",
       "      <td>Librarian's Note: This is an alternate cover f...</td>\n",
       "      <td>11078</td>\n",
       "      <td>579</td>\n",
       "    </tr>\n",
       "    <tr>\n",
       "      <th>3</th>\n",
       "      <td>January 24th 2013</td>\n",
       "      <td>NOBODY'S PERFECT is the continuing story of Sa...</td>\n",
       "      <td>8462</td>\n",
       "      <td>506</td>\n",
       "    </tr>\n",
       "    <tr>\n",
       "      <th>4</th>\n",
       "      <td>December 22nd 2013</td>\n",
       "      <td>When Marc d’Alessio first rescued the curvaceo...</td>\n",
       "      <td>3940</td>\n",
       "      <td>331</td>\n",
       "    </tr>\n",
       "  </tbody>\n",
       "</table>\n",
       "</div>"
      ],
      "text/plain": [
       "                dates                                       descriptions  \\\n",
       "0   December 1st 2006  For Nina Askew, turning forty means freedom--f...   \n",
       "1    January 1st 1998  Georgeanne Howard leaves her fiancé at the alt...   \n",
       "2  December 13th 2012  Librarian's Note: This is an alternate cover f...   \n",
       "3   January 24th 2013  NOBODY'S PERFECT is the continuing story of Sa...   \n",
       "4  December 22nd 2013  When Marc d’Alessio first rescued the curvaceo...   \n",
       "\n",
       "  num_ratings num_reviews  \n",
       "0       17661         928  \n",
       "1       18156         635  \n",
       "2       11078         579  \n",
       "3        8462         506  \n",
       "4        3940         331  "
      ]
     },
     "execution_count": 14,
     "metadata": {},
     "output_type": "execute_result"
    }
   ],
   "source": [
    "engagement.head()"
   ]
  },
  {
   "cell_type": "code",
   "execution_count": 15,
   "metadata": {},
   "outputs": [],
   "source": [
    "no_blanks=engagement[engagement[\"num_ratings\"]!='']"
   ]
  },
  {
   "cell_type": "code",
   "execution_count": 16,
   "metadata": {},
   "outputs": [
    {
     "data": {
      "text/plain": [
       "(11018, 4)"
      ]
     },
     "execution_count": 16,
     "metadata": {},
     "output_type": "execute_result"
    }
   ],
   "source": [
    "engagement.shape"
   ]
  },
  {
   "cell_type": "code",
   "execution_count": 17,
   "metadata": {},
   "outputs": [
    {
     "data": {
      "text/plain": [
       "(8023, 4)"
      ]
     },
     "execution_count": 17,
     "metadata": {},
     "output_type": "execute_result"
    }
   ],
   "source": [
    "no_blanks.shape"
   ]
  },
  {
   "cell_type": "code",
   "execution_count": 18,
   "metadata": {},
   "outputs": [
    {
     "name": "stderr",
     "output_type": "stream",
     "text": [
      "/Users/brechann/anaconda/lib/python3.5/site-packages/ipykernel_launcher.py:1: SettingWithCopyWarning: \n",
      "A value is trying to be set on a copy of a slice from a DataFrame.\n",
      "Try using .loc[row_indexer,col_indexer] = value instead\n",
      "\n",
      "See the caveats in the documentation: http://pandas.pydata.org/pandas-docs/stable/indexing.html#indexing-view-versus-copy\n",
      "  \"\"\"Entry point for launching an IPython kernel.\n"
     ]
    }
   ],
   "source": [
    "no_blanks['engagment']=no_blanks['num_ratings'] + no_blanks['num_reviews']"
   ]
  },
  {
   "cell_type": "code",
   "execution_count": 19,
   "metadata": {},
   "outputs": [
    {
     "data": {
      "text/html": [
       "<div>\n",
       "<style scoped>\n",
       "    .dataframe tbody tr th:only-of-type {\n",
       "        vertical-align: middle;\n",
       "    }\n",
       "\n",
       "    .dataframe tbody tr th {\n",
       "        vertical-align: top;\n",
       "    }\n",
       "\n",
       "    .dataframe thead th {\n",
       "        text-align: right;\n",
       "    }\n",
       "</style>\n",
       "<table border=\"1\" class=\"dataframe\">\n",
       "  <thead>\n",
       "    <tr style=\"text-align: right;\">\n",
       "      <th></th>\n",
       "      <th>dates</th>\n",
       "      <th>descriptions</th>\n",
       "      <th>num_ratings</th>\n",
       "      <th>num_reviews</th>\n",
       "      <th>engagment</th>\n",
       "    </tr>\n",
       "  </thead>\n",
       "  <tbody>\n",
       "    <tr>\n",
       "      <th>0</th>\n",
       "      <td>December 1st 2006</td>\n",
       "      <td>For Nina Askew, turning forty means freedom--f...</td>\n",
       "      <td>17661</td>\n",
       "      <td>928</td>\n",
       "      <td>18589</td>\n",
       "    </tr>\n",
       "    <tr>\n",
       "      <th>1</th>\n",
       "      <td>January 1st 1998</td>\n",
       "      <td>Georgeanne Howard leaves her fiancé at the alt...</td>\n",
       "      <td>18156</td>\n",
       "      <td>635</td>\n",
       "      <td>18791</td>\n",
       "    </tr>\n",
       "    <tr>\n",
       "      <th>2</th>\n",
       "      <td>December 13th 2012</td>\n",
       "      <td>Librarian's Note: This is an alternate cover f...</td>\n",
       "      <td>11078</td>\n",
       "      <td>579</td>\n",
       "      <td>11657</td>\n",
       "    </tr>\n",
       "    <tr>\n",
       "      <th>3</th>\n",
       "      <td>January 24th 2013</td>\n",
       "      <td>NOBODY'S PERFECT is the continuing story of Sa...</td>\n",
       "      <td>8462</td>\n",
       "      <td>506</td>\n",
       "      <td>8968</td>\n",
       "    </tr>\n",
       "    <tr>\n",
       "      <th>4</th>\n",
       "      <td>December 22nd 2013</td>\n",
       "      <td>When Marc d’Alessio first rescued the curvaceo...</td>\n",
       "      <td>3940</td>\n",
       "      <td>331</td>\n",
       "      <td>4271</td>\n",
       "    </tr>\n",
       "  </tbody>\n",
       "</table>\n",
       "</div>"
      ],
      "text/plain": [
       "                dates                                       descriptions  \\\n",
       "0   December 1st 2006  For Nina Askew, turning forty means freedom--f...   \n",
       "1    January 1st 1998  Georgeanne Howard leaves her fiancé at the alt...   \n",
       "2  December 13th 2012  Librarian's Note: This is an alternate cover f...   \n",
       "3   January 24th 2013  NOBODY'S PERFECT is the continuing story of Sa...   \n",
       "4  December 22nd 2013  When Marc d’Alessio first rescued the curvaceo...   \n",
       "\n",
       "  num_ratings num_reviews engagment  \n",
       "0       17661         928     18589  \n",
       "1       18156         635     18791  \n",
       "2       11078         579     11657  \n",
       "3        8462         506      8968  \n",
       "4        3940         331      4271  "
      ]
     },
     "execution_count": 19,
     "metadata": {},
     "output_type": "execute_result"
    }
   ],
   "source": [
    "no_blanks.head()"
   ]
  },
  {
   "cell_type": "code",
   "execution_count": 20,
   "metadata": {},
   "outputs": [
    {
     "name": "stderr",
     "output_type": "stream",
     "text": [
      "/Users/brechann/anaconda/lib/python3.5/site-packages/ipykernel_launcher.py:1: SettingWithCopyWarning: \n",
      "A value is trying to be set on a copy of a slice from a DataFrame.\n",
      "Try using .loc[row_indexer,col_indexer] = value instead\n",
      "\n",
      "See the caveats in the documentation: http://pandas.pydata.org/pandas-docs/stable/indexing.html#indexing-view-versus-copy\n",
      "  \"\"\"Entry point for launching an IPython kernel.\n"
     ]
    }
   ],
   "source": [
    "no_blanks[\"dts\"]=pd.to_datetime(no_blanks[\"dates\"], errors='coerce')"
   ]
  },
  {
   "cell_type": "code",
   "execution_count": 21,
   "metadata": {},
   "outputs": [],
   "source": [
    "datetime_object = datetime.strptime('Oct 17 2017', '%b %d %Y')"
   ]
  },
  {
   "cell_type": "code",
   "execution_count": 22,
   "metadata": {},
   "outputs": [],
   "source": [
    "beginning=datetime.strptime('Jan 1 2007', '%b %d %Y')"
   ]
  },
  {
   "cell_type": "code",
   "execution_count": 23,
   "metadata": {},
   "outputs": [
    {
     "data": {
      "text/plain": [
       "datetime.datetime(2017, 10, 17, 0, 0)"
      ]
     },
     "execution_count": 23,
     "metadata": {},
     "output_type": "execute_result"
    }
   ],
   "source": [
    "datetime_object"
   ]
  },
  {
   "cell_type": "code",
   "execution_count": 24,
   "metadata": {},
   "outputs": [
    {
     "data": {
      "text/plain": [
       "datetime.timedelta(3942)"
      ]
     },
     "execution_count": 24,
     "metadata": {},
     "output_type": "execute_result"
    }
   ],
   "source": [
    "datetime_object-beginning"
   ]
  },
  {
   "cell_type": "code",
   "execution_count": 25,
   "metadata": {},
   "outputs": [
    {
     "name": "stderr",
     "output_type": "stream",
     "text": [
      "/Users/brechann/anaconda/lib/python3.5/site-packages/ipykernel_launcher.py:1: SettingWithCopyWarning: \n",
      "A value is trying to be set on a copy of a slice from a DataFrame.\n",
      "Try using .loc[row_indexer,col_indexer] = value instead\n",
      "\n",
      "See the caveats in the documentation: http://pandas.pydata.org/pandas-docs/stable/indexing.html#indexing-view-versus-copy\n",
      "  \"\"\"Entry point for launching an IPython kernel.\n"
     ]
    }
   ],
   "source": [
    "no_blanks['period']=(datetime_object-no_blanks['dts'])"
   ]
  },
  {
   "cell_type": "code",
   "execution_count": 26,
   "metadata": {},
   "outputs": [
    {
     "name": "stderr",
     "output_type": "stream",
     "text": [
      "/Users/brechann/anaconda/lib/python3.5/site-packages/ipykernel_launcher.py:1: SettingWithCopyWarning: \n",
      "A value is trying to be set on a copy of a slice from a DataFrame.\n",
      "Try using .loc[row_indexer,col_indexer] = value instead\n",
      "\n",
      "See the caveats in the documentation: http://pandas.pydata.org/pandas-docs/stable/indexing.html#indexing-view-versus-copy\n",
      "  \"\"\"Entry point for launching an IPython kernel.\n"
     ]
    }
   ],
   "source": [
    "no_blanks['days']=(no_blanks['period']).dt.days"
   ]
  },
  {
   "cell_type": "code",
   "execution_count": 27,
   "metadata": {},
   "outputs": [],
   "source": [
    "a = np.array(no_blanks['days'].values.tolist())"
   ]
  },
  {
   "cell_type": "code",
   "execution_count": 28,
   "metadata": {},
   "outputs": [
    {
     "name": "stderr",
     "output_type": "stream",
     "text": [
      "/Users/brechann/anaconda/lib/python3.5/site-packages/ipykernel_launcher.py:1: RuntimeWarning: invalid value encountered in greater\n",
      "  \"\"\"Entry point for launching an IPython kernel.\n",
      "/Users/brechann/anaconda/lib/python3.5/site-packages/ipykernel_launcher.py:1: SettingWithCopyWarning: \n",
      "A value is trying to be set on a copy of a slice from a DataFrame.\n",
      "Try using .loc[row_indexer,col_indexer] = value instead\n",
      "\n",
      "See the caveats in the documentation: http://pandas.pydata.org/pandas-docs/stable/indexing.html#indexing-view-versus-copy\n",
      "  \"\"\"Entry point for launching an IPython kernel.\n"
     ]
    }
   ],
   "source": [
    "no_blanks['days_corrected'] = np.where(a > 3942, 3942, a).tolist()"
   ]
  },
  {
   "cell_type": "code",
   "execution_count": 29,
   "metadata": {},
   "outputs": [
    {
     "name": "stderr",
     "output_type": "stream",
     "text": [
      "/Users/brechann/anaconda/lib/python3.5/site-packages/ipykernel_launcher.py:1: SettingWithCopyWarning: \n",
      "A value is trying to be set on a copy of a slice from a DataFrame.\n",
      "Try using .loc[row_indexer,col_indexer] = value instead\n",
      "\n",
      "See the caveats in the documentation: http://pandas.pydata.org/pandas-docs/stable/indexing.html#indexing-view-versus-copy\n",
      "  \"\"\"Entry point for launching an IPython kernel.\n"
     ]
    }
   ],
   "source": [
    "no_blanks['frequency']=no_blanks['engagment']/no_blanks['days_corrected']"
   ]
  },
  {
   "cell_type": "code",
   "execution_count": 30,
   "metadata": {},
   "outputs": [
    {
     "data": {
      "text/plain": [
       "66.811461146464552"
      ]
     },
     "execution_count": 30,
     "metadata": {},
     "output_type": "execute_result"
    }
   ],
   "source": [
    "no_blanks['frequency'].std(skipna=True)"
   ]
  },
  {
   "cell_type": "code",
   "execution_count": 31,
   "metadata": {},
   "outputs": [
    {
     "data": {
      "text/plain": [
       "1961.975216365067"
      ]
     },
     "execution_count": 31,
     "metadata": {},
     "output_type": "execute_result"
    }
   ],
   "source": [
    "no_blanks['frequency'].max()"
   ]
  },
  {
   "cell_type": "code",
   "execution_count": 32,
   "metadata": {},
   "outputs": [
    {
     "data": {
      "text/plain": [
       "-2.6666666666666665"
      ]
     },
     "execution_count": 32,
     "metadata": {},
     "output_type": "execute_result"
    }
   ],
   "source": [
    "no_blanks['frequency'].min()"
   ]
  },
  {
   "cell_type": "code",
   "execution_count": 33,
   "metadata": {},
   "outputs": [
    {
     "data": {
      "text/plain": [
       "'5.0'"
      ]
     },
     "execution_count": 33,
     "metadata": {},
     "output_type": "execute_result"
    }
   ],
   "source": [
    "books['rating'].max()"
   ]
  },
  {
   "cell_type": "code",
   "execution_count": 34,
   "metadata": {},
   "outputs": [
    {
     "data": {
      "text/plain": [
       "'0.0'"
      ]
     },
     "execution_count": 34,
     "metadata": {},
     "output_type": "execute_result"
    }
   ],
   "source": [
    "books['rating'].min()"
   ]
  },
  {
   "cell_type": "code",
   "execution_count": 35,
   "metadata": {},
   "outputs": [],
   "source": [
    "final=no_blanks[no_blanks[\"frequency\"]>0]"
   ]
  },
  {
   "cell_type": "code",
   "execution_count": 36,
   "metadata": {},
   "outputs": [],
   "source": [
    "#final.to_pickle('engagement.pkl')"
   ]
  },
  {
   "cell_type": "code",
   "execution_count": 37,
   "metadata": {},
   "outputs": [],
   "source": [
    "frequency=final['frequency'].tolist()"
   ]
  },
  {
   "cell_type": "code",
   "execution_count": 38,
   "metadata": {},
   "outputs": [],
   "source": [
    "frequency= np.array(frequency).astype(np.float)"
   ]
  },
  {
   "cell_type": "code",
   "execution_count": 39,
   "metadata": {},
   "outputs": [],
   "source": [
    "freq_descriptions=final['descriptions'].tolist()"
   ]
  },
  {
   "cell_type": "code",
   "execution_count": 40,
   "metadata": {},
   "outputs": [
    {
     "data": {
      "text/plain": [
       "7671"
      ]
     },
     "execution_count": 40,
     "metadata": {},
     "output_type": "execute_result"
    }
   ],
   "source": [
    "len(freq_descriptions)"
   ]
  },
  {
   "cell_type": "code",
   "execution_count": 41,
   "metadata": {},
   "outputs": [],
   "source": [
    "parameters = {\n",
    "   #'vectorize__min_df': (5,10),\n",
    "   #'vectorize__max_df': (0.95,0.97,0.99),\n",
    "   # 'vectorize__stop_words':(STOP_WORDS,None)\n",
    "   # 'vectorize__max_features':(3000,4000,5000),\n",
    "    #'ridge__fit_intercept' : (True,False)\n",
    "    'ridge__alpha':(0.95,1)\n",
    "}\n"
   ]
  },
  {
   "cell_type": "code",
   "execution_count": 42,
   "metadata": {},
   "outputs": [],
   "source": [
    "pipeline = Pipeline([\n",
    "     # Vectorizer\n",
    "        ('vectorize', TfidfVectorizer()),\n",
    "    #regularized linear model--Ridge\n",
    "        ('ridge',Ridge())\n",
    "    ])"
   ]
  },
  {
   "cell_type": "code",
   "execution_count": 43,
   "metadata": {},
   "outputs": [
    {
     "name": "stdout",
     "output_type": "stream",
     "text": [
      "Fitting 3 folds for each of 2 candidates, totalling 6 fits\n"
     ]
    },
    {
     "name": "stderr",
     "output_type": "stream",
     "text": [
      "[Parallel(n_jobs=2)]: Done   6 out of   6 | elapsed:   10.6s finished\n"
     ]
    },
    {
     "data": {
      "text/plain": [
       "GridSearchCV(cv=None, error_score='raise',\n",
       "       estimator=Pipeline(memory=None,\n",
       "     steps=[('vectorize', TfidfVectorizer(analyzer='word', binary=False, decode_error='strict',\n",
       "        dtype=<class 'numpy.int64'>, encoding='utf-8', input='content',\n",
       "        lowercase=True, max_df=1.0, max_features=None, min_df=1,\n",
       "        ngram_range=(1, 1), norm='l2', preprocessor=None, smooth_idf=Tru...it_intercept=True, max_iter=None,\n",
       "   normalize=False, random_state=None, solver='auto', tol=0.001))]),\n",
       "       fit_params=None, iid=True, n_jobs=2,\n",
       "       param_grid={'ridge__alpha': (0.95, 1)}, pre_dispatch='2*n_jobs',\n",
       "       refit=True, return_train_score='warn', scoring=None, verbose=1)"
      ]
     },
     "execution_count": 43,
     "metadata": {},
     "output_type": "execute_result"
    }
   ],
   "source": [
    "grid_search = GridSearchCV(pipeline, parameters, verbose=1,n_jobs=2)\n",
    "grid_search.fit(freq_descriptions, frequency)\n"
   ]
  },
  {
   "cell_type": "code",
   "execution_count": 44,
   "metadata": {},
   "outputs": [
    {
     "data": {
      "text/plain": [
       "{'ridge__alpha': 0.95}"
      ]
     },
     "execution_count": 44,
     "metadata": {},
     "output_type": "execute_result"
    }
   ],
   "source": [
    "grid_search.best_params_"
   ]
  },
  {
   "cell_type": "code",
   "execution_count": 45,
   "metadata": {},
   "outputs": [
    {
     "name": "stderr",
     "output_type": "stream",
     "text": [
      "/Users/brechann/anaconda/lib/python3.5/site-packages/sklearn/utils/deprecation.py:122: FutureWarning: You are accessing a training score ('mean_train_score'), which will not be available by default any more in 0.21. If you need training scores, please set return_train_score=True\n",
      "  warnings.warn(*warn_args, **warn_kwargs)\n",
      "/Users/brechann/anaconda/lib/python3.5/site-packages/sklearn/utils/deprecation.py:122: FutureWarning: You are accessing a training score ('split0_train_score'), which will not be available by default any more in 0.21. If you need training scores, please set return_train_score=True\n",
      "  warnings.warn(*warn_args, **warn_kwargs)\n",
      "/Users/brechann/anaconda/lib/python3.5/site-packages/sklearn/utils/deprecation.py:122: FutureWarning: You are accessing a training score ('split1_train_score'), which will not be available by default any more in 0.21. If you need training scores, please set return_train_score=True\n",
      "  warnings.warn(*warn_args, **warn_kwargs)\n",
      "/Users/brechann/anaconda/lib/python3.5/site-packages/sklearn/utils/deprecation.py:122: FutureWarning: You are accessing a training score ('split2_train_score'), which will not be available by default any more in 0.21. If you need training scores, please set return_train_score=True\n",
      "  warnings.warn(*warn_args, **warn_kwargs)\n",
      "/Users/brechann/anaconda/lib/python3.5/site-packages/sklearn/utils/deprecation.py:122: FutureWarning: You are accessing a training score ('std_train_score'), which will not be available by default any more in 0.21. If you need training scores, please set return_train_score=True\n",
      "  warnings.warn(*warn_args, **warn_kwargs)\n"
     ]
    },
    {
     "data": {
      "text/plain": [
       "{'mean_fit_time': array([ 1.87562807,  1.28781827]),\n",
       " 'mean_score_time': array([ 0.70604467,  0.50038973]),\n",
       " 'mean_test_score': array([ 0.21860848,  0.21729674]),\n",
       " 'mean_train_score': array([ 0.74366212,  0.73385146]),\n",
       " 'param_ridge__alpha': masked_array(data = [0.95 1],\n",
       "              mask = [False False],\n",
       "        fill_value = ?),\n",
       " 'params': [{'ridge__alpha': 0.95}, {'ridge__alpha': 1}],\n",
       " 'rank_test_score': array([1, 2], dtype=int32),\n",
       " 'split0_test_score': array([ 0.27950567,  0.27776093]),\n",
       " 'split0_train_score': array([ 0.74132359,  0.7318081 ]),\n",
       " 'split1_test_score': array([ 0.13824829,  0.137782  ]),\n",
       " 'split1_train_score': array([ 0.73422078,  0.7239336 ]),\n",
       " 'split2_test_score': array([ 0.23807149,  0.23634729]),\n",
       " 'split2_train_score': array([ 0.755442  ,  0.74581269]),\n",
       " 'std_fit_time': array([ 0.34366385,  0.04167047]),\n",
       " 'std_score_time': array([ 0.14984918,  0.01102452]),\n",
       " 'std_test_score': array([ 0.05928754,  0.05871239]),\n",
       " 'std_train_score': array([ 0.00881993,  0.00904821])}"
      ]
     },
     "execution_count": 45,
     "metadata": {},
     "output_type": "execute_result"
    }
   ],
   "source": [
    "grid_search.cv_results_"
   ]
  },
  {
   "cell_type": "code",
   "execution_count": 46,
   "metadata": {},
   "outputs": [
    {
     "name": "stderr",
     "output_type": "stream",
     "text": [
      "/Users/brechann/anaconda/lib/python3.5/site-packages/sklearn/utils/deprecation.py:122: FutureWarning: You are accessing a training score ('mean_train_score'), which will not be available by default any more in 0.21. If you need training scores, please set return_train_score=True\n",
      "  warnings.warn(*warn_args, **warn_kwargs)\n",
      "/Users/brechann/anaconda/lib/python3.5/site-packages/sklearn/utils/deprecation.py:122: FutureWarning: You are accessing a training score ('split0_train_score'), which will not be available by default any more in 0.21. If you need training scores, please set return_train_score=True\n",
      "  warnings.warn(*warn_args, **warn_kwargs)\n",
      "/Users/brechann/anaconda/lib/python3.5/site-packages/sklearn/utils/deprecation.py:122: FutureWarning: You are accessing a training score ('split1_train_score'), which will not be available by default any more in 0.21. If you need training scores, please set return_train_score=True\n",
      "  warnings.warn(*warn_args, **warn_kwargs)\n",
      "/Users/brechann/anaconda/lib/python3.5/site-packages/sklearn/utils/deprecation.py:122: FutureWarning: You are accessing a training score ('split2_train_score'), which will not be available by default any more in 0.21. If you need training scores, please set return_train_score=True\n",
      "  warnings.warn(*warn_args, **warn_kwargs)\n",
      "/Users/brechann/anaconda/lib/python3.5/site-packages/sklearn/utils/deprecation.py:122: FutureWarning: You are accessing a training score ('std_train_score'), which will not be available by default any more in 0.21. If you need training scores, please set return_train_score=True\n",
      "  warnings.warn(*warn_args, **warn_kwargs)\n"
     ]
    },
    {
     "data": {
      "text/plain": [
       "{'mean_fit_time': array([ 1.87562807,  1.28781827]),\n",
       " 'mean_score_time': array([ 0.70604467,  0.50038973]),\n",
       " 'mean_test_score': array([ 0.21860848,  0.21729674]),\n",
       " 'mean_train_score': array([ 0.74366212,  0.73385146]),\n",
       " 'param_ridge__alpha': masked_array(data = [0.95 1],\n",
       "              mask = [False False],\n",
       "        fill_value = ?),\n",
       " 'params': [{'ridge__alpha': 0.95}, {'ridge__alpha': 1}],\n",
       " 'rank_test_score': array([1, 2], dtype=int32),\n",
       " 'split0_test_score': array([ 0.27950567,  0.27776093]),\n",
       " 'split0_train_score': array([ 0.74132359,  0.7318081 ]),\n",
       " 'split1_test_score': array([ 0.13824829,  0.137782  ]),\n",
       " 'split1_train_score': array([ 0.73422078,  0.7239336 ]),\n",
       " 'split2_test_score': array([ 0.23807149,  0.23634729]),\n",
       " 'split2_train_score': array([ 0.755442  ,  0.74581269]),\n",
       " 'std_fit_time': array([ 0.34366385,  0.04167047]),\n",
       " 'std_score_time': array([ 0.14984918,  0.01102452]),\n",
       " 'std_test_score': array([ 0.05928754,  0.05871239]),\n",
       " 'std_train_score': array([ 0.00881993,  0.00904821])}"
      ]
     },
     "execution_count": 46,
     "metadata": {},
     "output_type": "execute_result"
    }
   ],
   "source": [
    "grid_search.cv_results_"
   ]
  },
  {
   "cell_type": "code",
   "execution_count": 47,
   "metadata": {},
   "outputs": [
    {
     "data": {
      "text/plain": [
       "{'ridge__alpha': 0.95}"
      ]
     },
     "execution_count": 47,
     "metadata": {},
     "output_type": "execute_result"
    }
   ],
   "source": [
    "grid_search.best_params_"
   ]
  },
  {
   "cell_type": "code",
   "execution_count": 48,
   "metadata": {},
   "outputs": [],
   "source": [
    "bag_words_est = Pipeline([\n",
    "     # Vectorizer\n",
    "        ('vectorize',  TfidfVectorizer()),\n",
    "    #regularized linear model--Ridge\n",
    "        ('ridge',Ridge(alpha=0.95))\n",
    "])"
   ]
  },
  {
   "cell_type": "code",
   "execution_count": 49,
   "metadata": {},
   "outputs": [
    {
     "data": {
      "text/plain": [
       "Pipeline(memory=None,\n",
       "     steps=[('vectorize', TfidfVectorizer(analyzer='word', binary=False, decode_error='strict',\n",
       "        dtype=<class 'numpy.int64'>, encoding='utf-8', input='content',\n",
       "        lowercase=True, max_df=1.0, max_features=None, min_df=1,\n",
       "        ngram_range=(1, 1), norm='l2', preprocessor=None, smooth_idf=Tru...it_intercept=True, max_iter=None,\n",
       "   normalize=False, random_state=None, solver='auto', tol=0.001))])"
      ]
     },
     "execution_count": 49,
     "metadata": {},
     "output_type": "execute_result"
    }
   ],
   "source": [
    "bag_words_est.fit(freq_descriptions, frequency)"
   ]
  },
  {
   "cell_type": "code",
   "execution_count": 51,
   "metadata": {},
   "outputs": [
    {
     "data": {
      "text/plain": [
       "array([  4.71562659,   4.76686961,   6.58959864, ...,   1.09536178,\n",
       "        14.58037952,   4.08107117])"
      ]
     },
     "execution_count": 51,
     "metadata": {},
     "output_type": "execute_result"
    }
   ],
   "source": [
    "frequency"
   ]
  },
  {
   "cell_type": "code",
   "execution_count": 52,
   "metadata": {},
   "outputs": [
    {
     "data": {
      "text/plain": [
       "1.4528629265471371"
      ]
     },
     "execution_count": 52,
     "metadata": {},
     "output_type": "execute_result"
    }
   ],
   "source": [
    "np.median(frequency)"
   ]
  },
  {
   "cell_type": "code",
   "execution_count": 53,
   "metadata": {},
   "outputs": [
    {
     "data": {
      "text/plain": [
       "14.623355143584153"
      ]
     },
     "execution_count": 53,
     "metadata": {},
     "output_type": "execute_result"
    }
   ],
   "source": [
    "np.percentile(frequency,88)"
   ]
  },
  {
   "cell_type": "code",
   "execution_count": 54,
   "metadata": {},
   "outputs": [
    {
     "data": {
      "text/plain": [
       "13.444026341092155"
      ]
     },
     "execution_count": 54,
     "metadata": {},
     "output_type": "execute_result"
    }
   ],
   "source": [
    "np.percentile(frequency,87)"
   ]
  },
  {
   "cell_type": "code",
   "execution_count": 55,
   "metadata": {},
   "outputs": [],
   "source": [
    "fake_description='Lisa, a bold aspiring actress, moves to Italy at Christmas to get some inpiration and pasta! She has a pact with her best friend that they will focus on career. But then she meets Rob, a magazine editor from California. Sparks fly! Will Lisa find her forever home in Italy? Will Rob propose? Will they overcome the tribulations and find happiness? Nominated for the predictability award, this book is part of the cliche series.'"
   ]
  },
  {
   "cell_type": "code",
   "execution_count": 56,
   "metadata": {},
   "outputs": [],
   "source": [
    "example=\"One more game. That's all that stands between NHL star Asher Westmore and a major career milestone. But then his brother bashes him against the hockey boards, sidelining him for months. Over Christmas holidays, no less. If staying off the ice doesn't drive him crazy, staying with his family will. The only bright spot amidst the mistletoe and twinkle lights: His best friend, Emma, is a physical therapist. And working out with her improves his body and his spirit.\""
   ]
  },
  {
   "cell_type": "code",
   "execution_count": 68,
   "metadata": {},
   "outputs": [],
   "source": [
    "test=[fake_description,example]"
   ]
  },
  {
   "cell_type": "code",
   "execution_count": 69,
   "metadata": {},
   "outputs": [
    {
     "data": {
      "text/plain": [
       "['Lisa, a bold aspiring actress, moves to Italy at Christmas to get some inpiration and pasta! She has a pact with her best friend that they will focus on career. But then she meets Rob, a magazine editor from California. Sparks fly! Will Lisa find her forever home in Italy? Will Rob propose? Will they overcome the tribulations and find happiness? Nominated for the predictability award, this book is part of the cliche series.',\n",
       " \"One more game. That's all that stands between NHL star Asher Westmore and a major career milestone. But then his brother bashes him against the hockey boards, sidelining him for months. Over Christmas holidays, no less. If staying off the ice doesn't drive him crazy, staying with his family will. The only bright spot amidst the mistletoe and twinkle lights: His best friend, Emma, is a physical therapist. And working out with her improves his body and his spirit.\"]"
      ]
     },
     "execution_count": 69,
     "metadata": {},
     "output_type": "execute_result"
    }
   ],
   "source": [
    "test"
   ]
  },
  {
   "cell_type": "code",
   "execution_count": 70,
   "metadata": {},
   "outputs": [
    {
     "data": {
      "text/plain": [
       "array([ 14.50987955,  29.58713797])"
      ]
     },
     "execution_count": 70,
     "metadata": {},
     "output_type": "execute_result"
    }
   ],
   "source": [
    "bag_words_est.predict(test)"
   ]
  },
  {
   "cell_type": "code",
   "execution_count": 62,
   "metadata": {},
   "outputs": [
    {
     "name": "stdout",
     "output_type": "stream",
     "text": [
      "Fitting 3 folds for each of 2 candidates, totalling 6 fits\n"
     ]
    },
    {
     "name": "stderr",
     "output_type": "stream",
     "text": [
      "[Parallel(n_jobs=2)]: Done   6 out of   6 | elapsed:   16.7s finished\n"
     ]
    },
    {
     "data": {
      "text/plain": [
       "GridSearchCV(cv=None, error_score='raise',\n",
       "       estimator=Pipeline(memory=None,\n",
       "     steps=[('vectorize', TfidfVectorizer(analyzer='word', binary=False, decode_error='strict',\n",
       "        dtype=<class 'numpy.int64'>, encoding='utf-8', input='content',\n",
       "        lowercase=True, max_df=1.0, max_features=None, min_df=1,\n",
       "        ngram_range=(1, 1), norm='l2', preprocessor=None, smooth_idf=Tru...it_intercept=True, max_iter=None,\n",
       "   normalize=False, random_state=None, solver='auto', tol=0.001))]),\n",
       "       fit_params=None, iid=True, n_jobs=2,\n",
       "       param_grid={'ridge__alpha': (0.95, 1)}, pre_dispatch='2*n_jobs',\n",
       "       refit=True, return_train_score='warn', scoring=None, verbose=1)"
      ]
     },
     "execution_count": 62,
     "metadata": {},
     "output_type": "execute_result"
    }
   ],
   "source": [
    "grid_search2 = GridSearchCV(pipeline, parameters, verbose=1,n_jobs=2)\n",
    "\n",
    "#print(\"Performing grid search...\")\n",
    "#print(\"pipeline:\", [name for name, _ in pipeline.steps])\n",
    "#print(\"parameters:\")\n",
    "#pprint(parameters)\n",
    "#t0 = time()\n",
    "grid_search2.fit(descriptions, stars)\n",
    "#print(\"done in %0.3fs\" % (time() - t0))\n",
    "#print()"
   ]
  },
  {
   "cell_type": "code",
   "execution_count": 63,
   "metadata": {},
   "outputs": [
    {
     "name": "stderr",
     "output_type": "stream",
     "text": [
      "/Users/brechann/anaconda/lib/python3.5/site-packages/sklearn/model_selection/_search.py:761: DeprecationWarning: The grid_scores_ attribute was deprecated in version 0.18 in favor of the more elaborate cv_results_ attribute. The grid_scores_ attribute will not be available from 0.20\n",
      "  DeprecationWarning)\n"
     ]
    },
    {
     "data": {
      "text/plain": [
       "[mean: 0.02307, std: 0.01408, params: {'ridge__alpha': 0.95},\n",
       " mean: 0.02573, std: 0.01366, params: {'ridge__alpha': 1}]"
      ]
     },
     "execution_count": 63,
     "metadata": {},
     "output_type": "execute_result"
    }
   ],
   "source": [
    "grid_search2.grid_scores_"
   ]
  },
  {
   "cell_type": "code",
   "execution_count": 64,
   "metadata": {},
   "outputs": [
    {
     "name": "stderr",
     "output_type": "stream",
     "text": [
      "/Users/brechann/anaconda/lib/python3.5/site-packages/sklearn/utils/deprecation.py:122: FutureWarning: You are accessing a training score ('mean_train_score'), which will not be available by default any more in 0.21. If you need training scores, please set return_train_score=True\n",
      "  warnings.warn(*warn_args, **warn_kwargs)\n",
      "/Users/brechann/anaconda/lib/python3.5/site-packages/sklearn/utils/deprecation.py:122: FutureWarning: You are accessing a training score ('split0_train_score'), which will not be available by default any more in 0.21. If you need training scores, please set return_train_score=True\n",
      "  warnings.warn(*warn_args, **warn_kwargs)\n",
      "/Users/brechann/anaconda/lib/python3.5/site-packages/sklearn/utils/deprecation.py:122: FutureWarning: You are accessing a training score ('split1_train_score'), which will not be available by default any more in 0.21. If you need training scores, please set return_train_score=True\n",
      "  warnings.warn(*warn_args, **warn_kwargs)\n",
      "/Users/brechann/anaconda/lib/python3.5/site-packages/sklearn/utils/deprecation.py:122: FutureWarning: You are accessing a training score ('split2_train_score'), which will not be available by default any more in 0.21. If you need training scores, please set return_train_score=True\n",
      "  warnings.warn(*warn_args, **warn_kwargs)\n",
      "/Users/brechann/anaconda/lib/python3.5/site-packages/sklearn/utils/deprecation.py:122: FutureWarning: You are accessing a training score ('std_train_score'), which will not be available by default any more in 0.21. If you need training scores, please set return_train_score=True\n",
      "  warnings.warn(*warn_args, **warn_kwargs)\n"
     ]
    },
    {
     "data": {
      "text/plain": [
       "{'mean_fit_time': array([ 2.73187065,  2.43873906]),\n",
       " 'mean_score_time': array([ 0.9845957 ,  0.87780762]),\n",
       " 'mean_test_score': array([ 0.02306521,  0.0257317 ]),\n",
       " 'mean_train_score': array([ 0.62569695,  0.61581221]),\n",
       " 'param_ridge__alpha': masked_array(data = [0.95 1],\n",
       "              mask = [False False],\n",
       "        fill_value = ?),\n",
       " 'params': [{'ridge__alpha': 0.95}, {'ridge__alpha': 1}],\n",
       " 'rank_test_score': array([2, 1], dtype=int32),\n",
       " 'split0_test_score': array([ 0.00441084,  0.00777019]),\n",
       " 'split0_train_score': array([ 0.61292861,  0.60331407]),\n",
       " 'split1_test_score': array([ 0.03842389,  0.04087446]),\n",
       " 'split1_train_score': array([ 0.61222782,  0.60265653]),\n",
       " 'split2_test_score': array([ 0.02636179,  0.02855121]),\n",
       " 'split2_train_score': array([ 0.65193441,  0.64146602]),\n",
       " 'std_fit_time': array([ 0.130468  ,  0.07396803]),\n",
       " 'std_score_time': array([ 0.11734387,  0.04808389]),\n",
       " 'std_test_score': array([ 0.01408063,  0.01366159]),\n",
       " 'std_train_score': array([ 0.01855489,  0.01814197])}"
      ]
     },
     "execution_count": 64,
     "metadata": {},
     "output_type": "execute_result"
    }
   ],
   "source": [
    "grid_search2.cv_results_"
   ]
  },
  {
   "cell_type": "code",
   "execution_count": 65,
   "metadata": {},
   "outputs": [],
   "source": [
    "bag_of_words_est = Pipeline([\n",
    "     # Vectorizer\n",
    "        ('vectorize',  TfidfVectorizer(min_df=0.001,max_df=0.99, stop_words=STOP_WORDS)),\n",
    "    #regularized linear model--Ridge\n",
    "        ('ridge',Ridge(alpha=100))\n",
    "    \n",
    "    \n",
    "    # Column selector (remember the ML project?)\n",
    "    # Vectorizer\n",
    "    # Frequency filter (if necessary)\n",
    "    # Regressor\n",
    "])"
   ]
  },
  {
   "cell_type": "code",
   "execution_count": 66,
   "metadata": {},
   "outputs": [
    {
     "data": {
      "text/plain": [
       "Pipeline(memory=None,\n",
       "     steps=[('vectorize', TfidfVectorizer(analyzer='word', binary=False, decode_error='strict',\n",
       "        dtype=<class 'numpy.int64'>, encoding='utf-8', input='content',\n",
       "        lowercase=True, max_df=0.99, max_features=None, min_df=0.001,\n",
       "        ngram_range=(1, 1), norm='l2', preprocessor=None, smooth_id...it_intercept=True, max_iter=None,\n",
       "   normalize=False, random_state=None, solver='auto', tol=0.001))])"
      ]
     },
     "execution_count": 66,
     "metadata": {},
     "output_type": "execute_result"
    }
   ],
   "source": [
    "bag_of_words_est.fit(descriptions, stars)"
   ]
  },
  {
   "cell_type": "code",
   "execution_count": 71,
   "metadata": {},
   "outputs": [
    {
     "data": {
      "text/plain": [
       "array([ 4.01761213,  4.01156932])"
      ]
     },
     "execution_count": 71,
     "metadata": {},
     "output_type": "execute_result"
    }
   ],
   "source": [
    "bag_of_words_est.predict(test)"
   ]
  },
  {
   "cell_type": "code",
   "execution_count": null,
   "metadata": {
    "collapsed": true
   },
   "outputs": [],
   "source": []
  },
  {
   "cell_type": "code",
   "execution_count": 72,
   "metadata": {},
   "outputs": [],
   "source": [
    "new_books = pd.read_pickle(\"modern_romance.pkl\")"
   ]
  },
  {
   "cell_type": "code",
   "execution_count": 73,
   "metadata": {},
   "outputs": [
    {
     "data": {
      "text/html": [
       "<div>\n",
       "<style scoped>\n",
       "    .dataframe tbody tr th:only-of-type {\n",
       "        vertical-align: middle;\n",
       "    }\n",
       "\n",
       "    .dataframe tbody tr th {\n",
       "        vertical-align: top;\n",
       "    }\n",
       "\n",
       "    .dataframe thead th {\n",
       "        text-align: right;\n",
       "    }\n",
       "</style>\n",
       "<table border=\"1\" class=\"dataframe\">\n",
       "  <thead>\n",
       "    <tr style=\"text-align: right;\">\n",
       "      <th></th>\n",
       "      <th>authors</th>\n",
       "      <th>awards</th>\n",
       "      <th>date</th>\n",
       "      <th>description</th>\n",
       "      <th>isbn</th>\n",
       "      <th>link</th>\n",
       "      <th>page</th>\n",
       "      <th>rating</th>\n",
       "      <th>review_dates</th>\n",
       "      <th>review_ids</th>\n",
       "      <th>review_texts</th>\n",
       "      <th>reviewer_names</th>\n",
       "      <th>reviewer_ratings</th>\n",
       "      <th>reviewer_scores</th>\n",
       "      <th>title</th>\n",
       "    </tr>\n",
       "  </thead>\n",
       "  <tbody>\n",
       "    <tr>\n",
       "      <th>0</th>\n",
       "      <td>[Becky Albertalli]</td>\n",
       "      <td>[]</td>\n",
       "      <td>April 11th 2017</td>\n",
       "      <td>Seventeen-year-old Molly Peskin-Suso knows all...</td>\n",
       "      <td>0062348701</td>\n",
       "      <td>http://www.goodreads.com/book/show/30653853-th...</td>\n",
       "      <td>&lt;!DOCTYPE html&gt;\\n&lt;html class=\"desktop\"&gt;\\n\\n\\n&lt;...</td>\n",
       "      <td>4.17</td>\n",
       "      <td>[May 12, 2017, May 12, 2017, May 12, 2017, May...</td>\n",
       "      <td>[review_1998467435, review_1997758994, review_...</td>\n",
       "      <td>[[3.5 Stars. Just like Simon Vs. The Homo Sapi...</td>\n",
       "      <td>[Sophia Jones, Kaitie, Ashley Peet, Azee, Tiff...</td>\n",
       "      <td>[liked it, really liked it, it was amazing, it...</td>\n",
       "      <td>[3, 4, 5, 5, 5, 2, 4, 4, 3, 4, 5, 4, 4, 5, 5, ...</td>\n",
       "      <td>The Upside of Unrequited</td>\n",
       "    </tr>\n",
       "    <tr>\n",
       "      <th>1</th>\n",
       "      <td>[Jenn Bennett]</td>\n",
       "      <td>[]</td>\n",
       "      <td>April 4th 2017</td>\n",
       "      <td>The one guy Bailey Rydell can’t stand is actua...</td>\n",
       "      <td>148147877X</td>\n",
       "      <td>http://www.goodreads.com/book/show/30312700-al...</td>\n",
       "      <td>&lt;!DOCTYPE html&gt;\\n&lt;html class=\"desktop\"&gt;\\n\\n\\n&lt;...</td>\n",
       "      <td>4.07</td>\n",
       "      <td>[May 12, 2017, May 12, 2017, May 12, 2017, May...</td>\n",
       "      <td>[review_1998055552, review_1907935087, review_...</td>\n",
       "      <td>[[3.5 Stars!], [3.75 STARS], [[ one thing the ...</td>\n",
       "      <td>[Pehel , Laura, Erin, Love, Beck, Melissa, Mar...</td>\n",
       "      <td>[liked it, really liked it, liked it, it was a...</td>\n",
       "      <td>[3, 4, 3, 5, 5, 4, 5, 4, 3, 3, 5, 4, 4, 4, 4, ...</td>\n",
       "      <td>Alex, Approximately</td>\n",
       "    </tr>\n",
       "    <tr>\n",
       "      <th>2</th>\n",
       "      <td>[Ashley Poston]</td>\n",
       "      <td>[]</td>\n",
       "      <td>April 4th 2017</td>\n",
       "      <td>Anything can happen once upon a con…When geek ...</td>\n",
       "      <td>1594749477</td>\n",
       "      <td>http://www.goodreads.com/book/show/30724132-ge...</td>\n",
       "      <td>&lt;!DOCTYPE html&gt;\\n&lt;html class=\"desktop\"&gt;\\n\\n\\n&lt;...</td>\n",
       "      <td>4.15</td>\n",
       "      <td>[May 12, 2017, May 12, 2017, May 12, 2017, May...</td>\n",
       "      <td>[review_1998509105, review_1952345977, review_...</td>\n",
       "      <td>[[4.5 stars! THIS BOOK, it's absolutely adorab...</td>\n",
       "      <td>[Giselle (onwednesdaysweread), Whitney, Alisa,...</td>\n",
       "      <td>[it was amazing, really liked it, really liked...</td>\n",
       "      <td>[5, 4, 4, 3, 5, 4, 5, 3, 5, 4, 5, 5, 5, 5, 4, ...</td>\n",
       "      <td>Geekerella</td>\n",
       "    </tr>\n",
       "    <tr>\n",
       "      <th>3</th>\n",
       "      <td>[Kylie Scott, Kylie Scott]</td>\n",
       "      <td>[]</td>\n",
       "      <td>April 11th 2017</td>\n",
       "      <td>When his younger brother loses interest in onl...</td>\n",
       "      <td>1250083222</td>\n",
       "      <td>http://www.goodreads.com/book/show/28220678-twist</td>\n",
       "      <td>&lt;!DOCTYPE html&gt;\\n&lt;html class=\"desktop\"&gt;\\n\\n\\n&lt;...</td>\n",
       "      <td>3.98</td>\n",
       "      <td>[May 12, 2017, May 12, 2017, May 12, 2017, May...</td>\n",
       "      <td>[review_1642584644, review_1802394005, review_...</td>\n",
       "      <td>[[just was not as good as the first.], [Lumber...</td>\n",
       "      <td>[Tina, Olivia, Holly Hawk, Caraleigh Tackett, ...</td>\n",
       "      <td>[liked it, it was amazing, it was amazing, it ...</td>\n",
       "      <td>[3, 5, 5, 5, 3, 4, 3, 4, 5, 3, 4, 2, 4, 5, 4, ...</td>\n",
       "      <td>Twist\\n      \\n          (Dive  Bar #2)</td>\n",
       "    </tr>\n",
       "    <tr>\n",
       "      <th>4</th>\n",
       "      <td>[Melissa de la Cruz]</td>\n",
       "      <td>[]</td>\n",
       "      <td>April 11th 2017</td>\n",
       "      <td>Their romance shaped a nation. The rest was hi...</td>\n",
       "      <td>1524739626</td>\n",
       "      <td>http://www.goodreads.com/book/show/32860355-al...</td>\n",
       "      <td>&lt;!DOCTYPE html&gt;\\n&lt;html class=\"desktop\"&gt;\\n\\n\\n&lt;...</td>\n",
       "      <td>3.72</td>\n",
       "      <td>[May 12, 2017, May 12, 2017, May 12, 2017, May...</td>\n",
       "      <td>[review_1958296739, review_1932197856, review_...</td>\n",
       "      <td>[[Review to come later if I feel like it.], [T...</td>\n",
       "      <td>[Faith, Andrea , Katie, Renata, Amy, Michelle ...</td>\n",
       "      <td>[liked it, it was ok, really liked it, it was ...</td>\n",
       "      <td>[3, 2, 4, 2, 4, 2, 5, 5, 3, 3, 5, 1, 3, 2, 5, ...</td>\n",
       "      <td>Alex and Eliza</td>\n",
       "    </tr>\n",
       "    <tr>\n",
       "      <th>5</th>\n",
       "      <td>[Claudia Gray]</td>\n",
       "      <td>[]</td>\n",
       "      <td>April 4th 2017</td>\n",
       "      <td>She’s a soldier.Noemi Vidal is seventeen years...</td>\n",
       "      <td>0316394033</td>\n",
       "      <td>http://www.goodreads.com/book/show/31423196-de...</td>\n",
       "      <td>&lt;!DOCTYPE html&gt;\\n&lt;html class=\"desktop\"&gt;\\n\\n\\n&lt;...</td>\n",
       "      <td>4.12</td>\n",
       "      <td>[May 12, 2017, May 12, 2017, May 12, 2017, May...</td>\n",
       "      <td>[review_1998352947, review_1956220352, review_...</td>\n",
       "      <td>[[2.5 starsI'm beginning to think Gray and I a...</td>\n",
       "      <td>[Anna, Vidhi, DeA, Khurram, Reading Teen, Brid...</td>\n",
       "      <td>[liked it, it was amazing, it was amazing, rea...</td>\n",
       "      <td>[3, 5, 5, 4, 4, 4, 4, 4, 5, 3, 4, 3, 5, 3, 4, ...</td>\n",
       "      <td>Defy the Stars\\n      \\n          (Constellati...</td>\n",
       "    </tr>\n",
       "    <tr>\n",
       "      <th>6</th>\n",
       "      <td>[Julie James]</td>\n",
       "      <td>[]</td>\n",
       "      <td>April 18th 2017</td>\n",
       "      <td>Two undercover FBI agents can hide who they ar...</td>\n",
       "      <td>0425273776</td>\n",
       "      <td>http://www.goodreads.com/book/show/27246123-th...</td>\n",
       "      <td>&lt;!DOCTYPE html&gt;\\n&lt;html class=\"desktop\"&gt;\\n\\n&lt;he...</td>\n",
       "      <td>4.0</td>\n",
       "      <td>[May 12, 2017, May 12, 2017, May 11, 2017, May...</td>\n",
       "      <td>[review_1991333055, review_1579824681, review_...</td>\n",
       "      <td>[[Very disappointed. I have every book she's w...</td>\n",
       "      <td>[Mary Lemon, Tenshi, Patricia Camaioni, Holly ...</td>\n",
       "      <td>[liked it, liked it, liked it, it was amazing,...</td>\n",
       "      <td>[3, 3, 3, 5, 4, 5, 4, 5, 3, 1, 5, 2, 2, 2, 4, ...</td>\n",
       "      <td>The Thing About Love</td>\n",
       "    </tr>\n",
       "    <tr>\n",
       "      <th>7</th>\n",
       "      <td>[Lexa Hillyer]</td>\n",
       "      <td>[]</td>\n",
       "      <td>April 11th 2017</td>\n",
       "      <td>A kingdom burns. A princess sleeps. This is no...</td>\n",
       "      <td>NA</td>\n",
       "      <td>http://www.goodreads.com/book/show/30163661-sp...</td>\n",
       "      <td>&lt;!DOCTYPE html&gt;\\n&lt;html class=\"desktop\"&gt;\\n\\n\\n&lt;...</td>\n",
       "      <td>3.32</td>\n",
       "      <td>[May 12, 2017, May 11, 2017, May 11, 2017, May...</td>\n",
       "      <td>[review_1961041631, review_1677980540, review_...</td>\n",
       "      <td>[[I had trouble getting hooked on this book. I...</td>\n",
       "      <td>[Leanne, Stacee, Natasha, Kayla Fahy, Erin Gar...</td>\n",
       "      <td>[liked it, it was ok, it was amazing, really l...</td>\n",
       "      <td>[3, 2, 5, 4, 2, 3, 4, 4, 5, 3, 5, 3, 2, 2, 2, ...</td>\n",
       "      <td>Spindle Fire\\n      \\n          (Spindle Fire #1)</td>\n",
       "    </tr>\n",
       "    <tr>\n",
       "      <th>8</th>\n",
       "      <td>[Brigid Kemmerer]</td>\n",
       "      <td>[]</td>\n",
       "      <td>April 4th 2017</td>\n",
       "      <td>Juliet Young always writes letters to her moth...</td>\n",
       "      <td>1681190087</td>\n",
       "      <td>http://www.goodreads.com/book/show/30038855-le...</td>\n",
       "      <td>&lt;!DOCTYPE html&gt;\\n&lt;html class=\"desktop\"&gt;\\n\\n\\n&lt;...</td>\n",
       "      <td>4.36</td>\n",
       "      <td>[May 12, 2017, May 12, 2017, May 12, 2017, May...</td>\n",
       "      <td>[review_1972126261, review_1320029878, review_...</td>\n",
       "      <td>[[Review to come. ], [Full review can be found...</td>\n",
       "      <td>[Amy (A Magical World of Words), Kristina (Gon...</td>\n",
       "      <td>[it was amazing, really liked it, it was amazi...</td>\n",
       "      <td>[5, 4, 5, 4, 4, 3, 5, 3, 5, 4, 4, 5, 5, 5, 4, ...</td>\n",
       "      <td>Letters to the Lost</td>\n",
       "    </tr>\n",
       "    <tr>\n",
       "      <th>9</th>\n",
       "      <td>[Kresley Cole]</td>\n",
       "      <td>[]</td>\n",
       "      <td>April 25th 2017</td>\n",
       "      <td>This fairy tale doesn’t end with a kiss… A spe...</td>\n",
       "      <td>NA</td>\n",
       "      <td>http://www.goodreads.com/book/show/29760149-wi...</td>\n",
       "      <td>&lt;!DOCTYPE html&gt;\\n&lt;html class=\"desktop\"&gt;\\n\\n\\n&lt;...</td>\n",
       "      <td>4.38</td>\n",
       "      <td>[May 12, 2017, May 12, 2017, May 12, 2017, May...</td>\n",
       "      <td>[review_1983319003, review_1586612414, review_...</td>\n",
       "      <td>[[Fey and The Beast Meet Ms. Bennett and Mr. D...</td>\n",
       "      <td>[Brandi Goss, ââ",
       "Tinjaâ",
       "â® A Court of Piz...</td>\n",
       "      <td>[really liked it, really liked it, it was amaz...</td>\n",
       "      <td>[4, 4, 5, 3, 5, 5, 4, 5, 5, 5, 5, 4, 5, 4, 2, ...</td>\n",
       "      <td>Wicked Abyss\\n      \\n          (Immortals Aft...</td>\n",
       "    </tr>\n",
       "  </tbody>\n",
       "</table>\n",
       "</div>"
      ],
      "text/plain": [
       "                      authors awards             date  \\\n",
       "0          [Becky Albertalli]     []  April 11th 2017   \n",
       "1              [Jenn Bennett]     []   April 4th 2017   \n",
       "2             [Ashley Poston]     []   April 4th 2017   \n",
       "3  [Kylie Scott, Kylie Scott]     []  April 11th 2017   \n",
       "4        [Melissa de la Cruz]     []  April 11th 2017   \n",
       "5              [Claudia Gray]     []   April 4th 2017   \n",
       "6               [Julie James]     []  April 18th 2017   \n",
       "7              [Lexa Hillyer]     []  April 11th 2017   \n",
       "8           [Brigid Kemmerer]     []   April 4th 2017   \n",
       "9              [Kresley Cole]     []  April 25th 2017   \n",
       "\n",
       "                                         description        isbn  \\\n",
       "0  Seventeen-year-old Molly Peskin-Suso knows all...  0062348701   \n",
       "1  The one guy Bailey Rydell can’t stand is actua...  148147877X   \n",
       "2  Anything can happen once upon a con…When geek ...  1594749477   \n",
       "3  When his younger brother loses interest in onl...  1250083222   \n",
       "4  Their romance shaped a nation. The rest was hi...  1524739626   \n",
       "5  She’s a soldier.Noemi Vidal is seventeen years...  0316394033   \n",
       "6  Two undercover FBI agents can hide who they ar...  0425273776   \n",
       "7  A kingdom burns. A princess sleeps. This is no...          NA   \n",
       "8  Juliet Young always writes letters to her moth...  1681190087   \n",
       "9  This fairy tale doesn’t end with a kiss… A spe...          NA   \n",
       "\n",
       "                                                link  \\\n",
       "0  http://www.goodreads.com/book/show/30653853-th...   \n",
       "1  http://www.goodreads.com/book/show/30312700-al...   \n",
       "2  http://www.goodreads.com/book/show/30724132-ge...   \n",
       "3  http://www.goodreads.com/book/show/28220678-twist   \n",
       "4  http://www.goodreads.com/book/show/32860355-al...   \n",
       "5  http://www.goodreads.com/book/show/31423196-de...   \n",
       "6  http://www.goodreads.com/book/show/27246123-th...   \n",
       "7  http://www.goodreads.com/book/show/30163661-sp...   \n",
       "8  http://www.goodreads.com/book/show/30038855-le...   \n",
       "9  http://www.goodreads.com/book/show/29760149-wi...   \n",
       "\n",
       "                                                page rating  \\\n",
       "0  <!DOCTYPE html>\\n<html class=\"desktop\">\\n\\n\\n<...   4.17   \n",
       "1  <!DOCTYPE html>\\n<html class=\"desktop\">\\n\\n\\n<...   4.07   \n",
       "2  <!DOCTYPE html>\\n<html class=\"desktop\">\\n\\n\\n<...   4.15   \n",
       "3  <!DOCTYPE html>\\n<html class=\"desktop\">\\n\\n\\n<...   3.98   \n",
       "4  <!DOCTYPE html>\\n<html class=\"desktop\">\\n\\n\\n<...   3.72   \n",
       "5  <!DOCTYPE html>\\n<html class=\"desktop\">\\n\\n\\n<...   4.12   \n",
       "6  <!DOCTYPE html>\\n<html class=\"desktop\">\\n\\n<he...    4.0   \n",
       "7  <!DOCTYPE html>\\n<html class=\"desktop\">\\n\\n\\n<...   3.32   \n",
       "8  <!DOCTYPE html>\\n<html class=\"desktop\">\\n\\n\\n<...   4.36   \n",
       "9  <!DOCTYPE html>\\n<html class=\"desktop\">\\n\\n\\n<...   4.38   \n",
       "\n",
       "                                        review_dates  \\\n",
       "0  [May 12, 2017, May 12, 2017, May 12, 2017, May...   \n",
       "1  [May 12, 2017, May 12, 2017, May 12, 2017, May...   \n",
       "2  [May 12, 2017, May 12, 2017, May 12, 2017, May...   \n",
       "3  [May 12, 2017, May 12, 2017, May 12, 2017, May...   \n",
       "4  [May 12, 2017, May 12, 2017, May 12, 2017, May...   \n",
       "5  [May 12, 2017, May 12, 2017, May 12, 2017, May...   \n",
       "6  [May 12, 2017, May 12, 2017, May 11, 2017, May...   \n",
       "7  [May 12, 2017, May 11, 2017, May 11, 2017, May...   \n",
       "8  [May 12, 2017, May 12, 2017, May 12, 2017, May...   \n",
       "9  [May 12, 2017, May 12, 2017, May 12, 2017, May...   \n",
       "\n",
       "                                          review_ids  \\\n",
       "0  [review_1998467435, review_1997758994, review_...   \n",
       "1  [review_1998055552, review_1907935087, review_...   \n",
       "2  [review_1998509105, review_1952345977, review_...   \n",
       "3  [review_1642584644, review_1802394005, review_...   \n",
       "4  [review_1958296739, review_1932197856, review_...   \n",
       "5  [review_1998352947, review_1956220352, review_...   \n",
       "6  [review_1991333055, review_1579824681, review_...   \n",
       "7  [review_1961041631, review_1677980540, review_...   \n",
       "8  [review_1972126261, review_1320029878, review_...   \n",
       "9  [review_1983319003, review_1586612414, review_...   \n",
       "\n",
       "                                        review_texts  \\\n",
       "0  [[3.5 Stars. Just like Simon Vs. The Homo Sapi...   \n",
       "1  [[3.5 Stars!], [3.75 STARS], [[ one thing the ...   \n",
       "2  [[4.5 stars! THIS BOOK, it's absolutely adorab...   \n",
       "3  [[just was not as good as the first.], [Lumber...   \n",
       "4  [[Review to come later if I feel like it.], [T...   \n",
       "5  [[2.5 starsI'm beginning to think Gray and I a...   \n",
       "6  [[Very disappointed. I have every book she's w...   \n",
       "7  [[I had trouble getting hooked on this book. I...   \n",
       "8  [[Review to come. ], [Full review can be found...   \n",
       "9  [[Fey and The Beast Meet Ms. Bennett and Mr. D...   \n",
       "\n",
       "                                      reviewer_names  \\\n",
       "0  [Sophia Jones, Kaitie, Ashley Peet, Azee, Tiff...   \n",
       "1  [Pehel , Laura, Erin, Love, Beck, Melissa, Mar...   \n",
       "2  [Giselle (onwednesdaysweread), Whitney, Alisa,...   \n",
       "3  [Tina, Olivia, Holly Hawk, Caraleigh Tackett, ...   \n",
       "4  [Faith, Andrea , Katie, Renata, Amy, Michelle ...   \n",
       "5  [Anna, Vidhi, DeA, Khurram, Reading Teen, Brid...   \n",
       "6  [Mary Lemon, Tenshi, Patricia Camaioni, Holly ...   \n",
       "7  [Leanne, Stacee, Natasha, Kayla Fahy, Erin Gar...   \n",
       "8  [Amy (A Magical World of Words), Kristina (Gon...   \n",
       "9  [Brandi Goss, ââ\n",
       "Tinjaâ\n",
       "â® A Court of Piz...   \n",
       "\n",
       "                                    reviewer_ratings  \\\n",
       "0  [liked it, really liked it, it was amazing, it...   \n",
       "1  [liked it, really liked it, liked it, it was a...   \n",
       "2  [it was amazing, really liked it, really liked...   \n",
       "3  [liked it, it was amazing, it was amazing, it ...   \n",
       "4  [liked it, it was ok, really liked it, it was ...   \n",
       "5  [liked it, it was amazing, it was amazing, rea...   \n",
       "6  [liked it, liked it, liked it, it was amazing,...   \n",
       "7  [liked it, it was ok, it was amazing, really l...   \n",
       "8  [it was amazing, really liked it, it was amazi...   \n",
       "9  [really liked it, really liked it, it was amaz...   \n",
       "\n",
       "                                     reviewer_scores  \\\n",
       "0  [3, 4, 5, 5, 5, 2, 4, 4, 3, 4, 5, 4, 4, 5, 5, ...   \n",
       "1  [3, 4, 3, 5, 5, 4, 5, 4, 3, 3, 5, 4, 4, 4, 4, ...   \n",
       "2  [5, 4, 4, 3, 5, 4, 5, 3, 5, 4, 5, 5, 5, 5, 4, ...   \n",
       "3  [3, 5, 5, 5, 3, 4, 3, 4, 5, 3, 4, 2, 4, 5, 4, ...   \n",
       "4  [3, 2, 4, 2, 4, 2, 5, 5, 3, 3, 5, 1, 3, 2, 5, ...   \n",
       "5  [3, 5, 5, 4, 4, 4, 4, 4, 5, 3, 4, 3, 5, 3, 4, ...   \n",
       "6  [3, 3, 3, 5, 4, 5, 4, 5, 3, 1, 5, 2, 2, 2, 4, ...   \n",
       "7  [3, 2, 5, 4, 2, 3, 4, 4, 5, 3, 5, 3, 2, 2, 2, ...   \n",
       "8  [5, 4, 5, 4, 4, 3, 5, 3, 5, 4, 4, 5, 5, 5, 4, ...   \n",
       "9  [4, 4, 5, 3, 5, 5, 4, 5, 5, 5, 5, 4, 5, 4, 2, ...   \n",
       "\n",
       "                                               title  \n",
       "0                           The Upside of Unrequited  \n",
       "1                                Alex, Approximately  \n",
       "2                                         Geekerella  \n",
       "3            Twist\\n      \\n          (Dive  Bar #2)  \n",
       "4                                     Alex and Eliza  \n",
       "5  Defy the Stars\\n      \\n          (Constellati...  \n",
       "6                               The Thing About Love  \n",
       "7  Spindle Fire\\n      \\n          (Spindle Fire #1)  \n",
       "8                                Letters to the Lost  \n",
       "9  Wicked Abyss\\n      \\n          (Immortals Aft...  "
      ]
     },
     "execution_count": 73,
     "metadata": {},
     "output_type": "execute_result"
    }
   ],
   "source": [
    "new_books[:10]"
   ]
  },
  {
   "cell_type": "code",
   "execution_count": 74,
   "metadata": {},
   "outputs": [],
   "source": [
    "newDescriptions = new_books['description'].tolist()"
   ]
  },
  {
   "cell_type": "code",
   "execution_count": 75,
   "metadata": {},
   "outputs": [],
   "source": [
    "test=newDescriptions[:10]"
   ]
  },
  {
   "cell_type": "code",
   "execution_count": 76,
   "metadata": {},
   "outputs": [
    {
     "data": {
      "text/plain": [
       "['Seventeen-year-old Molly Peskin-Suso knows all about unrequited love—she’s lived through it twenty-six times. She crushes hard and crushes often, but always in secret. Because no matter how many times her twin sister, Cassie, tells her to woman up, Molly can’t stomach the idea of rejection. So she’s careful. Fat girls always have to be careful.Then a cute new girl enters Cassie’s orbit, and for the first time ever, Molly’s cynical twin is a lovesick mess. Meanwhile, Molly’s totally not dying of loneliness—except for the part where she is. Luckily, Cassie’s new girlfriend comes with a cute hipster-boy sidekick. Will is funny and flirtatious and just might be perfect crush material. Maybe more than crush material. And if Molly can win him over, she’ll get her first kiss and she’ll get her twin back. There’s only one problem: Molly’s coworker Reid. He’s an awkward Tolkien superfan with a season pass to the Ren Faire, and there’s absolutely no way Molly could fall for him. Right?',\n",
       " 'The one guy Bailey Rydell can’t stand is actually the boy of her dreams—she just doesn’t know it yet.Classic movie fan Bailey “Mink” Rydell has spent months crushing on a witty film geek she only knows online as Alex. Two coasts separate the teens until Bailey moves in with her dad, who lives in the same California surfing town as her online crush.Faced with doubts (what if he’s a creep in real life—or worse?), Bailey doesn’t tell Alex she’s moved to his hometown. Or that she’s landed a job at the local tourist-trap museum. Or that she’s being heckled daily by the irritatingly hot museum security guard, Porter Roth—a.k.a. her new archnemesis. But life is whole lot messier than the movies, especially when Bailey discovers that tricky fine line between hate, love, and whatever it is she’s starting to feel for Porter.And as the summer months go by, Bailey must choose whether to cling to a dreamy online fantasy in Alex or take a risk on an imperfect reality with Porter. The choice is both simpler and more complicated than she realizes, because Porter Roth is hiding a secret of his own: Porter is Alex…Approximately.',\n",
       " 'Anything can happen once upon a con…When geek girl Elle Wittimer sees a cosplay contest sponsored by the producers of Starfield, she has to enter. First prize is an invitation to the ExcelsiCon Cosplay Ball and a meet-and-greet with the actor slated to play Federation Prince Carmindor in the reboot. Elle’s been scraping together tips from her gig at the Magic Pumpkin food truck behind her stepmother’s back, and winning this contest could be her ticket out once and for all—not to mention a fangirl’s dream come true.Teen actor Darien Freeman is less than thrilled about this year’s ExcelsiCon. He used to live for conventions, but now they’re nothing but jaw-aching photo sessions and awkward meet-and-greets. Playing Federation Prince Carmindor is all he’s ever wanted, but the diehard Starfield fandom has already dismissed him as just another heartthrob. As ExcelsiCon draws near, closet nerd Darien feels more and more like a fake—until he meets a girl who shows him otherwise.',\n",
       " \"When his younger brother loses interest in online dating, hot, bearded, bartender extraordinaire, Joe Collins, only intends to log into his account and shut it down. Until he reads about her.Alex Parks is funny, friendly, and pretty much everything he's been looking for in a woman. And in no time at all they're emailing up a storm, telling each other their deepest darkest secrets... apart from the one that really matters.And when it comes to love, serving it straight up works better than with a twist.\",\n",
       " 'Their romance shaped a nation. The rest was history.1777. Albany, New York. As battle cries of the American Revolution echo in the distance, servants flutter about preparing for one of New York society’s biggest events: the Schuylers’ grand ball. Descended from two of the oldest and most distinguished bloodlines in New York, the Schuylers are proud to be one of their fledgling country’s founding families, and even prouder still of their three daughters—Angelica, with her razor-sharp wit; Peggy, with her dazzling looks; and Eliza, whose beauty and charm rival that of both her sisters, though she’d rather be aiding the colonists’ cause than dressing up for some silly ball. Still, she can barely contain her excitement when she hears of the arrival of one Alexander Hamilton, a mysterious, rakish young colonel and General George Washington’s right-hand man. Though Alex has arrived as the bearer of bad news for the Schuylers, he can’t believe his luck—as an orphan, and a bastard one at that—to be in such esteemed company. And when Alex and Eliza meet that fateful night, so begins an epic love story that would forever change the course of American history.',\n",
       " 'She’s a soldier.Noemi Vidal is seventeen years old and sworn to protect her planet, Genesis. She’s willing to risk anything—including her own life. To their enemies on Earth, she’s a rebel.He’s a machine.Abandoned in space for years, utterly alone, Abel has advanced programming that’s begun to evolve. He wants only to protect his creator, and to be free. To the people of Genesis, he’s an abomination.Noemi and Abel are enemies in an interstellar war, forced by chance to work together as they embark on a daring journey through the stars. Their efforts would end the fighting for good, but they’re not without sacrifice. The stakes are even higher than either of them first realized, and the more time they spend together, the more they’re forced to question everything they’d been taught was true.',\n",
       " 'Two undercover FBI agents can hide who they are from everyone but each other in the latest novel from the New York Times bestselling author of Suddenly One Summer. FBI agents Jessica Harlow and John Shepherd have a past. The former lawyer and cocky Army ranger clashed during their training at Quantico, gladly going their separate ways after graduating from the Academy. Six years later, the last thing either of them expects is to run into each other again–assigned to work as partners in a high-profile undercover sting.For both of them, being paired with a former rival couldn’t come at a worse time. Recently divorced from a Hollywood producer and looking for a fresh start, Jessica is eager to prove herself at her new field office. And John is just one case away from his dream assignment to the FBI’s elite Hostage Rescue Team. In order to nail a corrupt Florida politician, they’ll have to find a way to work as a team–a task that becomes even trickier when they’re forced to hole up at a romantic, beachfront resort as part of the investigation. Suddenly, the heat behind their nonstop sparring threatens to make the job a whole lot more complicated. . .',\n",
       " 'A kingdom burns. A princess sleeps. This is no fairy tale.It all started with the burning of the spindles.No.It all started with a curse…Half sisters Isabelle and Aurora are polar opposites: Isabelle is the king’s headstrong illegitimate daughter, whose sight was tithed by faeries; Aurora, beautiful and sheltered, was tithed her sense of touch and her voice on the same day. Despite their differences, the sisters have always been extremely close.And then everything changes, with a single drop of Aurora’s blood—and a sleep so deep it cannot be broken.As the faerie queen and her army of Vultures prepare to march, Isabelle must race to find a prince who can awaken her sister with the kiss of true love and seal their two kingdoms in an alliance against the queen.Isabelle crosses land and sea; unearthly, thorny vines rise up the palace walls; and whispers of revolt travel in the ashes on the wind. The kingdom falls to ruin under layers of snow. Meanwhile, Aurora wakes up in a strange and enchanted world, where a mysterious hunter may be the secret to her escape…or the reason for her to stay.',\n",
       " \"Juliet Young always writes letters to her mother, a world-traveling photojournalist. Even after her mother's death, she leaves letters at her grave. It's the only way Juliet can cope.Declan Murphy isn't the sort of guy you want to cross. In the midst of his court-ordered community service at the local cemetery, he's trying to escape the demons of his past.When Declan reads a haunting letter left beside a grave, he can't resist writing back. Soon, he's opening up to a perfect stranger, and their connection is immediate. But neither Declan nor Juliet knows that they're not actually strangers. When life at school interferes with their secret life of letters, sparks will fly as Juliet and Declan discover truths that might tear them apart.\",\n",
       " 'This fairy tale doesn’t end with a kiss… A spellbinding Immortals After Dark tale from #1 New York Times bestselling author Kresley Cole!The terrifying king of hell...As a boy, Abyssian “Sian” Infernas had his heart shattered by a treacherous fey beauty who died before he could exact vengeance. Millennia later, a curse has transformed him into a demonic monster—just as she’s been reincarnated. Sian captures the delicate but bold female, forcing her back to hell.Meets his match.Princess Calliope “Lila” Barbot’s people have hated and feared Abyssian and his alliance of monsters for aeons. When the beastly demon imprisons her in his mystical castle, vowing revenge for betrayals she can’t remember, Lila makes her own vow: to bring down the wicked beast for good.Can two adversaries share one happily-ever-after?As Calliope turns hell inside out, the all-powerful Sian finds himself defenseless against his feelings for her. In turn, Lila reluctantly responds to the beast’s cleverness and gruff vulnerability. But when truths from a far distant past are revealed, can their tenuous bond withstand ages of deceit, a curse, and a looming supernatural war?']"
      ]
     },
     "execution_count": 76,
     "metadata": {},
     "output_type": "execute_result"
    }
   ],
   "source": [
    "test"
   ]
  },
  {
   "cell_type": "code",
   "execution_count": 78,
   "metadata": {},
   "outputs": [
    {
     "data": {
      "text/plain": [
       "array([ 4.00100816,  4.00786013,  4.00436486,  4.02389606,  4.01071221,\n",
       "        4.05261576,  4.01938291,  4.02730906,  4.02162133,  4.04691185])"
      ]
     },
     "execution_count": 78,
     "metadata": {},
     "output_type": "execute_result"
    }
   ],
   "source": [
    "bag_of_words_est.predict(test)"
   ]
  },
  {
   "cell_type": "code",
   "execution_count": null,
   "metadata": {},
   "outputs": [],
   "source": []
  }
 ],
 "metadata": {
  "kernelspec": {
   "display_name": "Python 3",
   "language": "python",
   "name": "python3"
  },
  "language_info": {
   "codemirror_mode": {
    "name": "ipython",
    "version": 3
   },
   "file_extension": ".py",
   "mimetype": "text/x-python",
   "name": "python",
   "nbconvert_exporter": "python",
   "pygments_lexer": "ipython3",
   "version": "3.5.5"
  }
 },
 "nbformat": 4,
 "nbformat_minor": 2
}
