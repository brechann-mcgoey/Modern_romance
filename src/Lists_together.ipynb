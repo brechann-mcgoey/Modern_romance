{
 "cells": [
  {
   "cell_type": "code",
   "execution_count": 1,
   "metadata": {
    "collapsed": true
   },
   "outputs": [],
   "source": [
    "import pickle"
   ]
  },
  {
   "cell_type": "code",
   "execution_count": 2,
   "metadata": {
    "collapsed": true
   },
   "outputs": [],
   "source": [
    "with open(\"links.txt\", \"rb\") as fp:   # Unpickling\n",
    "    link_list= pickle.load(fp)"
   ]
  },
  {
   "cell_type": "code",
   "execution_count": 3,
   "metadata": {
    "collapsed": true
   },
   "outputs": [],
   "source": [
    "with open(\"lov_links.txt\", \"rb\") as fp:   # Unpickling\n",
    "    love_list= pickle.load(fp)"
   ]
  },
  {
   "cell_type": "code",
   "execution_count": 4,
   "metadata": {},
   "outputs": [
    {
     "data": {
      "text/plain": [
       "['http://www.goodreads.com/book/show/33732.Anyone_But_You',\n",
       " 'http://www.goodreads.com/book/show/60220.Simply_Irresistible',\n",
       " 'http://www.goodreads.com/book/show/17325954-nobody-s-hero',\n",
       " 'http://www.goodreads.com/book/show/17299927-nobody-s-perfect',\n",
       " 'http://www.goodreads.com/book/show/17207097-somebody-s-angel',\n",
       " 'http://www.goodreads.com/book/show/18538596-masters-at-arms',\n",
       " 'http://www.goodreads.com/book/show/114187.Chesapeake_Blue',\n",
       " 'http://www.goodreads.com/book/show/60219.Sex_Lies_and_Online_Dating',\n",
       " 'http://www.goodreads.com/book/show/17300028-masters-at-arms-nobody-s-angel',\n",
       " 'http://www.goodreads.com/book/show/11393301-to-live-and-drink-in-l-a']"
      ]
     },
     "execution_count": 4,
     "metadata": {},
     "output_type": "execute_result"
    }
   ],
   "source": [
    "link_list[:10]"
   ]
  },
  {
   "cell_type": "code",
   "execution_count": 5,
   "metadata": {},
   "outputs": [
    {
     "data": {
      "text/plain": [
       "['http://www.goodreads.com/book/show/14050.The_Time_Traveler_s_Wife',\n",
       " 'http://www.goodreads.com/book/show/8127.Anne_of_Green_Gables',\n",
       " 'http://www.goodreads.com/book/show/21416370-splendor',\n",
       " 'http://www.goodreads.com/book/show/714569.A_Countess_Below_Stairs',\n",
       " 'http://www.goodreads.com/book/show/18580.Summer_of_My_German_Soldier',\n",
       " 'http://www.goodreads.com/book/show/19063.The_Book_Thief',\n",
       " 'http://www.goodreads.com/book/show/31463.Far_from_the_Madding_Crowd',\n",
       " 'http://www.goodreads.com/book/show/3777732-city-of-glass',\n",
       " 'http://www.goodreads.com/book/show/41424.Beauty',\n",
       " 'http://www.goodreads.com/book/show/43763.Interview_with_the_Vampire']"
      ]
     },
     "execution_count": 5,
     "metadata": {},
     "output_type": "execute_result"
    }
   ],
   "source": [
    "love_list[:10]"
   ]
  },
  {
   "cell_type": "code",
   "execution_count": 6,
   "metadata": {
    "collapsed": true
   },
   "outputs": [],
   "source": [
    "big_list=link_list+love_list"
   ]
  },
  {
   "cell_type": "code",
   "execution_count": 7,
   "metadata": {},
   "outputs": [
    {
     "data": {
      "text/plain": [
       "8121"
      ]
     },
     "execution_count": 7,
     "metadata": {},
     "output_type": "execute_result"
    }
   ],
   "source": [
    "len(big_list)"
   ]
  },
  {
   "cell_type": "code",
   "execution_count": 8,
   "metadata": {
    "collapsed": true
   },
   "outputs": [],
   "source": [
    "with open(\"merged_links.txt\", \"wb\") as fp:   \n",
    "    pickle.dump(big_list, fp)"
   ]
  },
  {
   "cell_type": "code",
   "execution_count": null,
   "metadata": {
    "collapsed": true
   },
   "outputs": [],
   "source": []
  }
 ],
 "metadata": {
  "kernelspec": {
   "display_name": "Python 3",
   "language": "python",
   "name": "python3"
  },
  "language_info": {
   "codemirror_mode": {
    "name": "ipython",
    "version": 3
   },
   "file_extension": ".py",
   "mimetype": "text/x-python",
   "name": "python",
   "nbconvert_exporter": "python",
   "pygments_lexer": "ipython3",
   "version": "3.6.1"
  }
 },
 "nbformat": 4,
 "nbformat_minor": 2
}
